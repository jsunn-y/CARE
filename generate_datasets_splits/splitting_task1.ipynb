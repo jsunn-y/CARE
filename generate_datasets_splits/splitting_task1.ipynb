{
 "cells": [
  {
   "cell_type": "markdown",
   "metadata": {},
   "source": [
    "# Make the splits for task 1 (protein extrapolation)\n",
    "\n",
    "For this set we want to perform enzyme classification and make training and testing for different levels of challenge.\n",
    "\n",
    "### Task A: Predicting easily misclassified enzymes\n",
    "Here we aim to use the Price et al, dataset which includes 149 enzymes which were challenging to discern the activity of (Mutant phenotypes for thousands of bacterial genes of unknown function). \n",
    "\n",
    "### Task B: Predicting Promiscuous enzymes\n",
    "Being able to classify enzymes that are able to catalyse multiple reactions remains a challenge, so we test these separately. \n",
    "\n",
    "### Task C: Predicting enzymes with low sequence identity \n",
    "Given many enzymes share high sequence similarity, we sought to investigate the efficacy of each method using sequnces with 30 and 50% siumilarity.\n",
    "\n",
    "### Lastly check the sequence identity using blast for each one in the train and test"
   ]
  },
  {
   "cell_type": "code",
   "execution_count": 33,
   "metadata": {},
   "outputs": [],
   "source": [
    "import random\n",
    "import numpy as np\n",
    "import pandas as pd\n",
    "import matplotlib.pyplot as plt\n",
    "import seaborn as sns"
   ]
  },
  {
   "cell_type": "code",
   "execution_count": 34,
   "metadata": {},
   "outputs": [],
   "source": [
    "swissprot = pd.read_csv('../processed_data/protein2EC.csv')"
   ]
  },
  {
   "cell_type": "code",
   "execution_count": 36,
   "metadata": {},
   "outputs": [
    {
     "data": {
      "text/plain": [
       "7"
      ]
     },
     "execution_count": 36,
     "metadata": {},
     "output_type": "execute_result"
    }
   ],
   "source": [
    "swissprot['EC1'].nunique()\n",
    "swissprot['EC2'].nunique()\n",
    "swissprot['EC3'].nunique()\n",
    "swissprot['EC number'].nunique()"
   ]
  },
  {
   "cell_type": "code",
   "execution_count": 32,
   "metadata": {},
   "outputs": [],
   "source": [
    "### Also make a clustered version of the training set at 50% sequence identity, for training and to reduce the number of the samples to extract\n",
    "\n",
    "np.random.seed(42)\n",
    "random.seed(42)\n",
    "swissprot50 = swissprot.groupby('clusterRes50').sample(1)\n",
    "swissprot50.to_csv('../processed_data/protein2EC_clustered50.csv', index=False)"
   ]
  },
  {
   "cell_type": "markdown",
   "metadata": {},
   "source": [
    "## Task A: challenging enzymes\n",
    "\n",
    "The price dataset was downloaded from: https://github.com/tttianhao/CLEAN/blob/main/app/data/price.fasta"
   ]
  },
  {
   "cell_type": "code",
   "execution_count": 5,
   "metadata": {},
   "outputs": [
    {
     "data": {
      "text/html": [
       "<div>\n",
       "<style scoped>\n",
       "    .dataframe tbody tr th:only-of-type {\n",
       "        vertical-align: middle;\n",
       "    }\n",
       "\n",
       "    .dataframe tbody tr th {\n",
       "        vertical-align: top;\n",
       "    }\n",
       "\n",
       "    .dataframe thead th {\n",
       "        text-align: right;\n",
       "    }\n",
       "</style>\n",
       "<table border=\"1\" class=\"dataframe\">\n",
       "  <thead>\n",
       "    <tr style=\"text-align: right;\">\n",
       "      <th></th>\n",
       "      <th>Entry</th>\n",
       "      <th>EC number</th>\n",
       "      <th>Sequence</th>\n",
       "      <th>Length</th>\n",
       "    </tr>\n",
       "  </thead>\n",
       "  <tbody>\n",
       "    <tr>\n",
       "      <th>0</th>\n",
       "      <td>WP_063460136</td>\n",
       "      <td>5.3.1.7</td>\n",
       "      <td>MAIPPYPDFRSAAFLRQHLRATMAFYDPVATDASGGQFHFFLDDGT...</td>\n",
       "      <td>424</td>\n",
       "    </tr>\n",
       "    <tr>\n",
       "      <th>1</th>\n",
       "      <td>WP_063462980</td>\n",
       "      <td>4.2.1.43</td>\n",
       "      <td>VPTTFHEDGTLDLDSQKRCLDFMIDAGVDGVCILANFSEQFSLSDA...</td>\n",
       "      <td>294</td>\n",
       "    </tr>\n",
       "    <tr>\n",
       "      <th>2</th>\n",
       "      <td>WP_063462990</td>\n",
       "      <td>1.1.1.48</td>\n",
       "      <td>LIDCNIDMTQLFAPSSSSTDATGAPQGLAKFPSLQGRAVFVTGGGS...</td>\n",
       "      <td>280</td>\n",
       "    </tr>\n",
       "    <tr>\n",
       "      <th>3</th>\n",
       "      <td>WP_041412631</td>\n",
       "      <td>4.2.1.25</td>\n",
       "      <td>MCLGRRRCHMNNKKPKTLRSASWFGSDDKNGFMYRSWMKNQGIPEH...</td>\n",
       "      <td>586</td>\n",
       "    </tr>\n",
       "    <tr>\n",
       "      <th>4</th>\n",
       "      <td>WP_011717048</td>\n",
       "      <td>5.1.3.3</td>\n",
       "      <td>MQLSVTQKSLQHAAFADELQLVTLTNSHGLEVVLSNYGASIWSVKL...</td>\n",
       "      <td>351</td>\n",
       "    </tr>\n",
       "    <tr>\n",
       "      <th>...</th>\n",
       "      <td>...</td>\n",
       "      <td>...</td>\n",
       "      <td>...</td>\n",
       "      <td>...</td>\n",
       "    </tr>\n",
       "    <tr>\n",
       "      <th>144</th>\n",
       "      <td>WP_010207013</td>\n",
       "      <td>1.3.8.7</td>\n",
       "      <td>MADYKAPLRDMRFVLNEVFEVATTWAQLPALADTVDAETVEAILEE...</td>\n",
       "      <td>592</td>\n",
       "    </tr>\n",
       "    <tr>\n",
       "      <th>145</th>\n",
       "      <td>WP_010207016</td>\n",
       "      <td>1.3.8.7</td>\n",
       "      <td>MPDYKAPLRDIRFVRDELLGYEAHYQSLPACQDATPDMVDAILEEG...</td>\n",
       "      <td>601</td>\n",
       "    </tr>\n",
       "    <tr>\n",
       "      <th>146</th>\n",
       "      <td>WP_010207340</td>\n",
       "      <td>2.6.1.19</td>\n",
       "      <td>MSSNNPQTREWQALSSDHHLAPFSDFKQLKEKGPRIITKAHGVYLW...</td>\n",
       "      <td>454</td>\n",
       "    </tr>\n",
       "    <tr>\n",
       "      <th>147</th>\n",
       "      <td>WP_010207341</td>\n",
       "      <td>6.3.1.11</td>\n",
       "      <td>MSVPPRAVQLNEANAFLKDHPEVLYVDLLIADMNGVVRGKRIERTS...</td>\n",
       "      <td>458</td>\n",
       "    </tr>\n",
       "    <tr>\n",
       "      <th>148</th>\n",
       "      <td>WP_010213153</td>\n",
       "      <td>1.2.1.26</td>\n",
       "      <td>MSQAQRFDNYINGQWVAGADYCVNLNPSELSDVIGEYAKADVTQVN...</td>\n",
       "      <td>481</td>\n",
       "    </tr>\n",
       "  </tbody>\n",
       "</table>\n",
       "<p>146 rows × 4 columns</p>\n",
       "</div>"
      ],
      "text/plain": [
       "            Entry EC number  \\\n",
       "0    WP_063460136   5.3.1.7   \n",
       "1    WP_063462980  4.2.1.43   \n",
       "2    WP_063462990  1.1.1.48   \n",
       "3    WP_041412631  4.2.1.25   \n",
       "4    WP_011717048   5.1.3.3   \n",
       "..            ...       ...   \n",
       "144  WP_010207013   1.3.8.7   \n",
       "145  WP_010207016   1.3.8.7   \n",
       "146  WP_010207340  2.6.1.19   \n",
       "147  WP_010207341  6.3.1.11   \n",
       "148  WP_010213153  1.2.1.26   \n",
       "\n",
       "                                              Sequence  Length  \n",
       "0    MAIPPYPDFRSAAFLRQHLRATMAFYDPVATDASGGQFHFFLDDGT...     424  \n",
       "1    VPTTFHEDGTLDLDSQKRCLDFMIDAGVDGVCILANFSEQFSLSDA...     294  \n",
       "2    LIDCNIDMTQLFAPSSSSTDATGAPQGLAKFPSLQGRAVFVTGGGS...     280  \n",
       "3    MCLGRRRCHMNNKKPKTLRSASWFGSDDKNGFMYRSWMKNQGIPEH...     586  \n",
       "4    MQLSVTQKSLQHAAFADELQLVTLTNSHGLEVVLSNYGASIWSVKL...     351  \n",
       "..                                                 ...     ...  \n",
       "144  MADYKAPLRDMRFVLNEVFEVATTWAQLPALADTVDAETVEAILEE...     592  \n",
       "145  MPDYKAPLRDIRFVRDELLGYEAHYQSLPACQDATPDMVDAILEEG...     601  \n",
       "146  MSSNNPQTREWQALSSDHHLAPFSDFKQLKEKGPRIITKAHGVYLW...     454  \n",
       "147  MSVPPRAVQLNEANAFLKDHPEVLYVDLLIADMNGVVRGKRIERTS...     458  \n",
       "148  MSQAQRFDNYINGQWVAGADYCVNLNPSELSDVIGEYAKADVTQVN...     481  \n",
       "\n",
       "[146 rows x 4 columns]"
      ]
     },
     "execution_count": 5,
     "metadata": {},
     "output_type": "execute_result"
    }
   ],
   "source": [
    "price = pd.read_csv('raw_data/price.tsv', sep='\\t')\n",
    "#remove sequences in price that are in swissprot\n",
    "price = price[~price['Sequence'].isin(swissprot['Sequence'])]\n",
    "price['Length'] = price['Sequence'].apply(len)\n",
    "price = price[price['Length'] > 100]\n",
    "price = price[price['Length'] < 650]\n",
    "price.to_csv('../splits/task1/price_protein_test.csv', index=False)\n",
    "price"
   ]
  },
  {
   "cell_type": "markdown",
   "metadata": {},
   "source": [
    "## Task 2: Selecting low sequence identity proteins\n",
    "\n",
    "We test two levels of sequnece identity: < 30% and 30-50%."
   ]
  },
  {
   "cell_type": "code",
   "execution_count": 6,
   "metadata": {},
   "outputs": [
    {
     "data": {
      "text/plain": [
       "clusterRes50\n",
       "Q4A604    814\n",
       "B1YLD8    693\n",
       "Q2RGU9    672\n",
       "Q1D345    621\n",
       "A9ISZ5    608\n",
       "         ... \n",
       "O42912      1\n",
       "O42951      1\n",
       "O43014      1\n",
       "O43090      1\n",
       "Q9J5H2      1\n",
       "Name: count, Length: 25739, dtype: int64"
      ]
     },
     "execution_count": 6,
     "metadata": {},
     "output_type": "execute_result"
    }
   ],
   "source": [
    "swissprot['clusterRes50'].value_counts()"
   ]
  },
  {
   "cell_type": "code",
   "execution_count": 7,
   "metadata": {},
   "outputs": [
    {
     "data": {
      "text/plain": [
       "clusterRes30\n",
       "B7JVV5    1352\n",
       "Q8CXP9    1016\n",
       "Q2JA12     853\n",
       "Q8D3J3     815\n",
       "Q8EJM1     788\n",
       "          ... \n",
       "Q9I739       1\n",
       "Q9I7C1       1\n",
       "Q9K499       1\n",
       "Q9KJE8       1\n",
       "Q9J5H2       1\n",
       "Name: count, Length: 9012, dtype: int64"
      ]
     },
     "execution_count": 7,
     "metadata": {},
     "output_type": "execute_result"
    }
   ],
   "source": [
    "swissprot['clusterRes30'].value_counts()"
   ]
  },
  {
   "cell_type": "code",
   "execution_count": 8,
   "metadata": {},
   "outputs": [
    {
     "data": {
      "text/plain": [
       "clusterRes70\n",
       "Q7V2D0    526\n",
       "P31293    271\n",
       "Q0P3P2    234\n",
       "C3K1E6    176\n",
       "Q2VZN2    170\n",
       "         ... \n",
       "P15567      1\n",
       "P15688      1\n",
       "P15689      1\n",
       "P15722      1\n",
       "Q9J5H2      1\n",
       "Name: count, Length: 61736, dtype: int64"
      ]
     },
     "execution_count": 8,
     "metadata": {},
     "output_type": "execute_result"
    }
   ],
   "source": [
    "swissprot['clusterRes70'].value_counts()"
   ]
  },
  {
   "cell_type": "code",
   "execution_count": 9,
   "metadata": {},
   "outputs": [
    {
     "data": {
      "text/plain": [
       "clusterRes90\n",
       "P31184    434\n",
       "A4QLB3    112\n",
       "B1VKF9     98\n",
       "Q06GR5     81\n",
       "B5F8J0     69\n",
       "         ... \n",
       "F6HDM2      1\n",
       "F6H2F8      1\n",
       "F6D9Q8      1\n",
       "F6D512      1\n",
       "Q9J5H2      1\n",
       "Name: count, Length: 106727, dtype: int64"
      ]
     },
     "execution_count": 9,
     "metadata": {},
     "output_type": "execute_result"
    }
   ],
   "source": [
    "swissprot['clusterRes90'].value_counts()"
   ]
  },
  {
   "cell_type": "markdown",
   "metadata": {},
   "source": [
    "## Make a very hard set of sequences which have no entries that are < 30% identity"
   ]
  },
  {
   "cell_type": "code",
   "execution_count": 10,
   "metadata": {},
   "outputs": [],
   "source": [
    "swissprot['Duplicated clusterRes30'] = swissprot['clusterRes30'].duplicated(keep=False)\n",
    "swissprot['Duplicated clusterRes50'] = swissprot['clusterRes50'].duplicated(keep=False)\n",
    "swissprot['Duplicated clusterRes70'] = swissprot['clusterRes70'].duplicated(keep=False)\n",
    "swissprot['Duplicated clusterRes90'] = swissprot['clusterRes90'].duplicated(keep=False)\n",
    "swissprot['Duplicated EC'] = swissprot['EC number'].duplicated(keep=False)\n",
    "swissprot['Promiscuous'] = swissprot['Sequence'].duplicated(keep=False)\n",
    "not_promiscuous = swissprot[~swissprot['Promiscuous']]"
   ]
  },
  {
   "cell_type": "code",
   "execution_count": 11,
   "metadata": {},
   "outputs": [
    {
     "name": "stdout",
     "output_type": "stream",
     "text": [
      "\u001b[94m--------------------------------------------------------------------------------\u001b[0m\n",
      "\u001b[94m                        Training: \t2847\tValidation:\t175\t                        \u001b[0m\n",
      "\u001b[94m--------------------------------------------------------------------------------\u001b[0m\n"
     ]
    }
   ],
   "source": [
    "from sciutil import SciUtil\n",
    "\n",
    "u = SciUtil()\n",
    "\n",
    "np.random.seed(42)\n",
    "random.seed(42)\n",
    "\n",
    "train_isolated30 = not_promiscuous[not_promiscuous['Duplicated clusterRes30'] == False]\n",
    "train_isolated30 = train_isolated30[train_isolated30['Duplicated EC'] == True]\n",
    "# Make a validation set that is completely held out.\n",
    "\n",
    "#sample a random one from each unique EC at level 3 for validation (i.e. not in training or the larger test set)\n",
    "validation_30 = train_isolated30.groupby('EC3').sample(1)\n",
    "\n",
    "u.dp(['Training: ', len(train_isolated30), 'Validation:', len(validation_30)])"
   ]
  },
  {
   "cell_type": "code",
   "execution_count": 12,
   "metadata": {},
   "outputs": [
    {
     "data": {
      "text/plain": [
       "clusterRes30\n",
       "A0A075BSX9    1\n",
       "Q54PB4        1\n",
       "Q555N7        1\n",
       "Q556Y7        1\n",
       "Q557H5        1\n",
       "             ..\n",
       "Q3ZE13        1\n",
       "Q44493        1\n",
       "Q45FA5        1\n",
       "Q46507        1\n",
       "Q9J5H2        1\n",
       "Name: count, Length: 2847, dtype: int64"
      ]
     },
     "execution_count": 12,
     "metadata": {},
     "output_type": "execute_result"
    }
   ],
   "source": [
    "train_isolated30['clusterRes30'].value_counts()"
   ]
  },
  {
   "cell_type": "code",
   "execution_count": 13,
   "metadata": {},
   "outputs": [
    {
     "name": "stdout",
     "output_type": "stream",
     "text": [
      "\u001b[94m--------------------------------------------------------------------------------\u001b[0m\n",
      "\u001b[94m                    Training set 50%: \t8419\tValidation:\t196\t                    \u001b[0m\n",
      "\u001b[94m--------------------------------------------------------------------------------\u001b[0m\n"
     ]
    }
   ],
   "source": [
    "np.random.seed(42)\n",
    "random.seed(42)\n",
    "\n",
    "# Drop out the ones we picked from the train30 just to make sure we're getting a diverse set\n",
    "train_isolated50 = not_promiscuous[not_promiscuous['Duplicated clusterRes50'] == False]\n",
    "train_isolated50 = train_isolated50[train_isolated50['Duplicated EC'] == True]\n",
    "\n",
    "train_isolated50 = train_isolated50[~train_isolated50['Entry'].isin(train_isolated30['Entry'].values)]\n",
    "\n",
    "# Make a validation set that is completely held out.\n",
    "np.random.seed(42)\n",
    "random.seed(42)\n",
    "\n",
    "#sample a random one from each unique EC at level 3 for validation (i.e. not in training or the larger test set)\n",
    "validation_50 = train_isolated50.groupby('EC3').sample(1)\n",
    "\n",
    "u.dp(['Training set 50%: ', len(train_isolated50), 'Validation:', len(validation_50)])"
   ]
  },
  {
   "cell_type": "code",
   "execution_count": 14,
   "metadata": {},
   "outputs": [
    {
     "name": "stdout",
     "output_type": "stream",
     "text": [
      "\u001b[94m--------------------------------------------------------------------------------\u001b[0m\n",
      "\u001b[94m                   Training set 70%: \t25525\tValidation:\t204\t                    \u001b[0m\n",
      "\u001b[94m--------------------------------------------------------------------------------\u001b[0m\n"
     ]
    }
   ],
   "source": [
    "np.random.seed(42)\n",
    "random.seed(42)\n",
    "\n",
    "# Drop out the ones we picked from the train30 just to make sure we're getting a diverse set\n",
    "train_isolated70 = not_promiscuous[not_promiscuous['Duplicated clusterRes70'] == False]\n",
    "train_isolated70 = train_isolated70[train_isolated70['Duplicated EC'] == True]\n",
    "\n",
    "train_isolated70 = train_isolated70[~train_isolated70['Entry'].isin(train_isolated50['Entry'].values)]\n",
    "train_isolated70 = train_isolated70[~train_isolated70['Entry'].isin(train_isolated30['Entry'].values)]\n",
    "\n",
    "# Make a validation set that is completely held out.\n",
    "np.random.seed(42)\n",
    "random.seed(42)\n",
    "\n",
    "#sample a random one from each unique EC at level 3 for validation (i.e. not in training or the larger test set)\n",
    "validation_70 = train_isolated70.groupby('EC3').sample(1)\n",
    "\n",
    "u.dp(['Training set 70%: ', len(train_isolated70), 'Validation:', len(validation_70)])"
   ]
  },
  {
   "cell_type": "code",
   "execution_count": 15,
   "metadata": {},
   "outputs": [
    {
     "name": "stdout",
     "output_type": "stream",
     "text": [
      "79119\n"
     ]
    },
    {
     "name": "stdout",
     "output_type": "stream",
     "text": [
      "53598\n",
      "50751\n",
      "\u001b[94m--------------------------------------------------------------------------------\u001b[0m\n",
      "\u001b[94m                    Training set 90%: \t206\tValidation:\t206\t                     \u001b[0m\n",
      "\u001b[94m--------------------------------------------------------------------------------\u001b[0m\n"
     ]
    }
   ],
   "source": [
    "np.random.seed(42)\n",
    "random.seed(42)\n",
    "\n",
    "train_isolated90 = not_promiscuous[not_promiscuous['Duplicated clusterRes90'] == False]\n",
    "train_isolated90 = train_isolated90[train_isolated90['Duplicated EC'] == True]\n",
    "\n",
    "print(len(train_isolated90))\n",
    "train_isolated90 = train_isolated90[~train_isolated90['Entry'].isin(train_isolated70['Entry'].values)]\n",
    "print(len(train_isolated90))\n",
    "train_isolated90 = train_isolated90[~train_isolated90['Entry'].isin(train_isolated30['Entry'].values)]\n",
    "print(len(train_isolated90))\n",
    "train_isolated90 = train_isolated90[~train_isolated90['Entry'].isin(train_isolated50['Entry'].values)]\n",
    "\n",
    "# Make a validation set that is completely held out.\n",
    "np.random.seed(42)\n",
    "random.seed(42)\n",
    "\n",
    "#sample a random one from each unique EC at level 3 for validation (i.e. not in training or the larger test set)\n",
    "validation_90 = train_isolated90.groupby('EC3').sample(1)\n",
    "\n",
    "u.dp(['Training set 90%: ', len(validation_90), 'Validation:', len(validation_90)])"
   ]
  },
  {
   "cell_type": "markdown",
   "metadata": {},
   "source": [
    "# Add in for 70 and 90% identity"
   ]
  },
  {
   "cell_type": "markdown",
   "metadata": {},
   "source": [
    "## Task 3: Promiscuous enzymes\n",
    "\n",
    "Here we want to look at the promiscuous enzymes and see how well they can be classfiied \n"
   ]
  },
  {
   "cell_type": "code",
   "execution_count": 22,
   "metadata": {},
   "outputs": [
    {
     "data": {
      "text/html": [
       "<div>\n",
       "<style scoped>\n",
       "    .dataframe tbody tr th:only-of-type {\n",
       "        vertical-align: middle;\n",
       "    }\n",
       "\n",
       "    .dataframe tbody tr th {\n",
       "        vertical-align: top;\n",
       "    }\n",
       "\n",
       "    .dataframe thead th {\n",
       "        text-align: right;\n",
       "    }\n",
       "</style>\n",
       "<table border=\"1\" class=\"dataframe\">\n",
       "  <thead>\n",
       "    <tr style=\"text-align: right;\">\n",
       "      <th></th>\n",
       "      <th>Entry</th>\n",
       "      <th>Sequence</th>\n",
       "      <th>EC number</th>\n",
       "    </tr>\n",
       "  </thead>\n",
       "  <tbody>\n",
       "    <tr>\n",
       "      <th>0</th>\n",
       "      <td>A0A023GS28</td>\n",
       "      <td>MAPTKDFSTTTTNGAESWDDVADFVTKKGHGVKGLSERGIKTLPKP...</td>\n",
       "      <td>[1.14.11.61, 1.14.11.62]</td>\n",
       "    </tr>\n",
       "    <tr>\n",
       "      <th>1</th>\n",
       "      <td>A0A023GS29</td>\n",
       "      <td>MAPTKDFSTATNGADSWDDVADFVTKKGHGVKGLSERGIKTLPKPF...</td>\n",
       "      <td>[1.14.11.61, 1.14.11.62]</td>\n",
       "    </tr>\n",
       "    <tr>\n",
       "      <th>2</th>\n",
       "      <td>A0A061B0Q2</td>\n",
       "      <td>MFKPTRVLKSSQPILNSLPHAETVKMAYDLHLPKKTLHQNMNITSD...</td>\n",
       "      <td>[2.3.1.268, 3.1.2.1]</td>\n",
       "    </tr>\n",
       "    <tr>\n",
       "      <th>3</th>\n",
       "      <td>A0A068Q609</td>\n",
       "      <td>MALLTLFNQIWQEGQLQSSTSSFNIFLVPILCLSIFILFSLTRSSS...</td>\n",
       "      <td>[1.14.14.44, 1.14.14.77]</td>\n",
       "    </tr>\n",
       "    <tr>\n",
       "      <th>4</th>\n",
       "      <td>A0A075FBG7</td>\n",
       "      <td>MSITFNLKIAPFSGPGIQRSKETFPATEIQITASTKSTMTTKCSFN...</td>\n",
       "      <td>[4.2.3.131, 4.2.3.189, 4.2.3.190]</td>\n",
       "    </tr>\n",
       "    <tr>\n",
       "      <th>...</th>\n",
       "      <td>...</td>\n",
       "      <td>...</td>\n",
       "      <td>...</td>\n",
       "    </tr>\n",
       "    <tr>\n",
       "      <th>8486</th>\n",
       "      <td>W0T4A7</td>\n",
       "      <td>MLLAYTVRPSNWSFTRRAYSATARAFNQQKGLLPLPIKETVDMAYD...</td>\n",
       "      <td>[2.3.1.268, 3.1.2.1]</td>\n",
       "    </tr>\n",
       "    <tr>\n",
       "      <th>8487</th>\n",
       "      <td>W0W999</td>\n",
       "      <td>MAANGSQRPIIAFMSDLGTTDDSVAQCKGLMHSICPGVTVVDVCHS...</td>\n",
       "      <td>[2.5.1.63, 2.5.1.94]</td>\n",
       "    </tr>\n",
       "    <tr>\n",
       "      <th>8488</th>\n",
       "      <td>W5QJZ5</td>\n",
       "      <td>MAPTKDSVIHMGAESWDEISEFVTKKGHGVKGLSELGIKTLPKQFH...</td>\n",
       "      <td>[1.14.11.61, 1.14.11.62]</td>\n",
       "    </tr>\n",
       "    <tr>\n",
       "      <th>8489</th>\n",
       "      <td>W6HUT3</td>\n",
       "      <td>MSVSLSFAASATFGFRGGLGGFSRPAAAIKQWRCLPRIQCHSAEQS...</td>\n",
       "      <td>[4.2.3.113, 4.2.3.114, 4.2.3.115, 4.2.3.15]</td>\n",
       "    </tr>\n",
       "    <tr>\n",
       "      <th>8490</th>\n",
       "      <td>W8JNL4</td>\n",
       "      <td>MTTTNGRRPIIAFMSDLGITDDSVAQCKGLMLSVCPDVTIVDICHT...</td>\n",
       "      <td>[2.5.1.63, 2.5.1.94]</td>\n",
       "    </tr>\n",
       "  </tbody>\n",
       "</table>\n",
       "<p>8491 rows × 3 columns</p>\n",
       "</div>"
      ],
      "text/plain": [
       "           Entry                                           Sequence  \\\n",
       "0     A0A023GS28  MAPTKDFSTTTTNGAESWDDVADFVTKKGHGVKGLSERGIKTLPKP...   \n",
       "1     A0A023GS29  MAPTKDFSTATNGADSWDDVADFVTKKGHGVKGLSERGIKTLPKPF...   \n",
       "2     A0A061B0Q2  MFKPTRVLKSSQPILNSLPHAETVKMAYDLHLPKKTLHQNMNITSD...   \n",
       "3     A0A068Q609  MALLTLFNQIWQEGQLQSSTSSFNIFLVPILCLSIFILFSLTRSSS...   \n",
       "4     A0A075FBG7  MSITFNLKIAPFSGPGIQRSKETFPATEIQITASTKSTMTTKCSFN...   \n",
       "...          ...                                                ...   \n",
       "8486      W0T4A7  MLLAYTVRPSNWSFTRRAYSATARAFNQQKGLLPLPIKETVDMAYD...   \n",
       "8487      W0W999  MAANGSQRPIIAFMSDLGTTDDSVAQCKGLMHSICPGVTVVDVCHS...   \n",
       "8488      W5QJZ5  MAPTKDSVIHMGAESWDEISEFVTKKGHGVKGLSELGIKTLPKQFH...   \n",
       "8489      W6HUT3  MSVSLSFAASATFGFRGGLGGFSRPAAAIKQWRCLPRIQCHSAEQS...   \n",
       "8490      W8JNL4  MTTTNGRRPIIAFMSDLGITDDSVAQCKGLMLSVCPDVTIVDICHT...   \n",
       "\n",
       "                                        EC number  \n",
       "0                        [1.14.11.61, 1.14.11.62]  \n",
       "1                        [1.14.11.61, 1.14.11.62]  \n",
       "2                            [2.3.1.268, 3.1.2.1]  \n",
       "3                        [1.14.14.44, 1.14.14.77]  \n",
       "4               [4.2.3.131, 4.2.3.189, 4.2.3.190]  \n",
       "...                                           ...  \n",
       "8486                         [2.3.1.268, 3.1.2.1]  \n",
       "8487                         [2.5.1.63, 2.5.1.94]  \n",
       "8488                     [1.14.11.61, 1.14.11.62]  \n",
       "8489  [4.2.3.113, 4.2.3.114, 4.2.3.115, 4.2.3.15]  \n",
       "8490                         [2.5.1.63, 2.5.1.94]  \n",
       "\n",
       "[8491 rows x 3 columns]"
      ]
     },
     "execution_count": 22,
     "metadata": {},
     "output_type": "execute_result"
    }
   ],
   "source": [
    "promiscuous = swissprot[swissprot['Promiscuous']]\n",
    "# promiscuous = promiscuous[promiscuous['Duplicated clusterRes90'] == False] #prevent sequence identity from being too high, but then nothing comes out\n",
    "promiscuous = promiscuous.groupby(['Entry', 'Sequence']).agg({'EC number': lambda x: list(x)}).reset_index()\n",
    "promiscuous"
   ]
  },
  {
   "cell_type": "code",
   "execution_count": 23,
   "metadata": {},
   "outputs": [],
   "source": [
    "def get_difference_level(predicted_ECs):\n",
    "    counters = []\n",
    "\n",
    "    for true_EC in predicted_ECs:\n",
    "\n",
    "        #convert true_EC to a list\n",
    "        if type(predicted_ECs) == str:\n",
    "            predicted_ECs = [predicted_ECs]\n",
    "        true_split = true_EC.split('.')\n",
    "\n",
    "        for predicted in predicted_ECs:\n",
    "            #print(true_EC)\n",
    "            \n",
    "            predicted_split = predicted.split('.')\n",
    "            counter = 0\n",
    "            for predicted, true in zip(predicted_split, true_split):\n",
    "                if predicted == true:\n",
    "                    counter += 1\n",
    "                else:\n",
    "                    break\n",
    "            counters.append(4 - counter)\n",
    "\n",
    "    return np.max(counters)"
   ]
  },
  {
   "cell_type": "code",
   "execution_count": 24,
   "metadata": {},
   "outputs": [
    {
     "data": {
      "text/html": [
       "<div>\n",
       "<style scoped>\n",
       "    .dataframe tbody tr th:only-of-type {\n",
       "        vertical-align: middle;\n",
       "    }\n",
       "\n",
       "    .dataframe tbody tr th {\n",
       "        vertical-align: top;\n",
       "    }\n",
       "\n",
       "    .dataframe thead th {\n",
       "        text-align: right;\n",
       "    }\n",
       "</style>\n",
       "<table border=\"1\" class=\"dataframe\">\n",
       "  <thead>\n",
       "    <tr style=\"text-align: right;\">\n",
       "      <th></th>\n",
       "      <th>Entry</th>\n",
       "      <th>Sequence</th>\n",
       "      <th>EC number</th>\n",
       "      <th>Surprise Level</th>\n",
       "      <th>Number of ECs</th>\n",
       "      <th>Duplicated EC</th>\n",
       "      <th>Duplicated Sequence</th>\n",
       "    </tr>\n",
       "  </thead>\n",
       "  <tbody>\n",
       "    <tr>\n",
       "      <th>4647</th>\n",
       "      <td>Q1EG72</td>\n",
       "      <td>MAAPTLTTDGPRLGQQEMKKMSPSFHPTLWGDFFLSYEAPTEAQEA...</td>\n",
       "      <td>[4.2.3.113, 4.2.3.15, 4.2.3.16, 4.2.3.25, 4.2....</td>\n",
       "      <td>4</td>\n",
       "      <td>6</td>\n",
       "      <td>True</td>\n",
       "      <td>False</td>\n",
       "    </tr>\n",
       "    <tr>\n",
       "      <th>5923</th>\n",
       "      <td>Q5GJ60</td>\n",
       "      <td>MAAPTLTADGPRLGQQEMKKMSPSFHPTLWGDFFLSYEAPTEAQEA...</td>\n",
       "      <td>[4.2.3.113, 4.2.3.15, 4.2.3.16, 4.2.3.25, 4.2....</td>\n",
       "      <td>4</td>\n",
       "      <td>6</td>\n",
       "      <td>True</td>\n",
       "      <td>False</td>\n",
       "    </tr>\n",
       "    <tr>\n",
       "      <th>3274</th>\n",
       "      <td>P13437</td>\n",
       "      <td>MALLRGVFIVAAKRTPFGAYGGLLKDFTATDLTEFAARAALSAGKV...</td>\n",
       "      <td>[2.3.1.16, 2.3.1.9, 3.1.2.1, 3.1.2.2]</td>\n",
       "      <td>4</td>\n",
       "      <td>4</td>\n",
       "      <td>True</td>\n",
       "      <td>False</td>\n",
       "    </tr>\n",
       "    <tr>\n",
       "      <th>3281</th>\n",
       "      <td>P14060</td>\n",
       "      <td>MTGWSCLVTGAGGFLGQRIIRLLVKEKELKEIRVLDKAFGPELREE...</td>\n",
       "      <td>[1.1.1.145, 1.1.1.210, 1.1.1.270, 5.3.3.1]</td>\n",
       "      <td>4</td>\n",
       "      <td>4</td>\n",
       "      <td>True</td>\n",
       "      <td>False</td>\n",
       "    </tr>\n",
       "    <tr>\n",
       "      <th>3391</th>\n",
       "      <td>P22071</td>\n",
       "      <td>MPGWSCLVTGAGGFVGQRIIRMLVQEKELQEVRALDKVFRPETKEE...</td>\n",
       "      <td>[1.1.1.145, 1.1.1.210, 1.1.1.270, 5.3.3.1]</td>\n",
       "      <td>4</td>\n",
       "      <td>4</td>\n",
       "      <td>True</td>\n",
       "      <td>False</td>\n",
       "    </tr>\n",
       "    <tr>\n",
       "      <th>...</th>\n",
       "      <td>...</td>\n",
       "      <td>...</td>\n",
       "      <td>...</td>\n",
       "      <td>...</td>\n",
       "      <td>...</td>\n",
       "      <td>...</td>\n",
       "      <td>...</td>\n",
       "    </tr>\n",
       "    <tr>\n",
       "      <th>4096</th>\n",
       "      <td>P9WNX9</td>\n",
       "      <td>MPIATINPATGETVKTFTAATDDEVDAAIARAHRRFADYRQTSFAQ...</td>\n",
       "      <td>[1.2.1.79]</td>\n",
       "      <td>0</td>\n",
       "      <td>1</td>\n",
       "      <td>False</td>\n",
       "      <td>True</td>\n",
       "    </tr>\n",
       "    <tr>\n",
       "      <th>4373</th>\n",
       "      <td>Q0KBD1</td>\n",
       "      <td>MPRFAANLSMMYNEHAFLDRFAAAAADGFRAVEFLFPYEHAAAELR...</td>\n",
       "      <td>[5.3.1.35]</td>\n",
       "      <td>0</td>\n",
       "      <td>1</td>\n",
       "      <td>False</td>\n",
       "      <td>True</td>\n",
       "    </tr>\n",
       "    <tr>\n",
       "      <th>5480</th>\n",
       "      <td>Q44015</td>\n",
       "      <td>MPRFAANLSMMYNEHAFLDRFAAAAADGFRAVEFLFPYEHAAAELR...</td>\n",
       "      <td>[5.3.1.22]</td>\n",
       "      <td>0</td>\n",
       "      <td>1</td>\n",
       "      <td>False</td>\n",
       "      <td>True</td>\n",
       "    </tr>\n",
       "    <tr>\n",
       "      <th>6666</th>\n",
       "      <td>Q72K55</td>\n",
       "      <td>MDYGMYFFEHVTPYETLVRRMERVIASGKTPFQDYFLFESKGFGKV...</td>\n",
       "      <td>[2.5.1.16]</td>\n",
       "      <td>0</td>\n",
       "      <td>1</td>\n",
       "      <td>False</td>\n",
       "      <td>True</td>\n",
       "    </tr>\n",
       "    <tr>\n",
       "      <th>6847</th>\n",
       "      <td>Q7U2I0</td>\n",
       "      <td>MPIATINPATGETVKTFTAATDDEVDAAIARAHRRFADYRQTSFAQ...</td>\n",
       "      <td>[1.2.1.16]</td>\n",
       "      <td>0</td>\n",
       "      <td>1</td>\n",
       "      <td>False</td>\n",
       "      <td>True</td>\n",
       "    </tr>\n",
       "  </tbody>\n",
       "</table>\n",
       "<p>8491 rows × 7 columns</p>\n",
       "</div>"
      ],
      "text/plain": [
       "       Entry                                           Sequence  \\\n",
       "4647  Q1EG72  MAAPTLTTDGPRLGQQEMKKMSPSFHPTLWGDFFLSYEAPTEAQEA...   \n",
       "5923  Q5GJ60  MAAPTLTADGPRLGQQEMKKMSPSFHPTLWGDFFLSYEAPTEAQEA...   \n",
       "3274  P13437  MALLRGVFIVAAKRTPFGAYGGLLKDFTATDLTEFAARAALSAGKV...   \n",
       "3281  P14060  MTGWSCLVTGAGGFLGQRIIRLLVKEKELKEIRVLDKAFGPELREE...   \n",
       "3391  P22071  MPGWSCLVTGAGGFVGQRIIRMLVQEKELQEVRALDKVFRPETKEE...   \n",
       "...      ...                                                ...   \n",
       "4096  P9WNX9  MPIATINPATGETVKTFTAATDDEVDAAIARAHRRFADYRQTSFAQ...   \n",
       "4373  Q0KBD1  MPRFAANLSMMYNEHAFLDRFAAAAADGFRAVEFLFPYEHAAAELR...   \n",
       "5480  Q44015  MPRFAANLSMMYNEHAFLDRFAAAAADGFRAVEFLFPYEHAAAELR...   \n",
       "6666  Q72K55  MDYGMYFFEHVTPYETLVRRMERVIASGKTPFQDYFLFESKGFGKV...   \n",
       "6847  Q7U2I0  MPIATINPATGETVKTFTAATDDEVDAAIARAHRRFADYRQTSFAQ...   \n",
       "\n",
       "                                              EC number  Surprise Level  \\\n",
       "4647  [4.2.3.113, 4.2.3.15, 4.2.3.16, 4.2.3.25, 4.2....               4   \n",
       "5923  [4.2.3.113, 4.2.3.15, 4.2.3.16, 4.2.3.25, 4.2....               4   \n",
       "3274              [2.3.1.16, 2.3.1.9, 3.1.2.1, 3.1.2.2]               4   \n",
       "3281         [1.1.1.145, 1.1.1.210, 1.1.1.270, 5.3.3.1]               4   \n",
       "3391         [1.1.1.145, 1.1.1.210, 1.1.1.270, 5.3.3.1]               4   \n",
       "...                                                 ...             ...   \n",
       "4096                                         [1.2.1.79]               0   \n",
       "4373                                         [5.3.1.35]               0   \n",
       "5480                                         [5.3.1.22]               0   \n",
       "6666                                         [2.5.1.16]               0   \n",
       "6847                                         [1.2.1.16]               0   \n",
       "\n",
       "      Number of ECs  Duplicated EC  Duplicated Sequence  \n",
       "4647              6           True                False  \n",
       "5923              6           True                False  \n",
       "3274              4           True                False  \n",
       "3281              4           True                False  \n",
       "3391              4           True                False  \n",
       "...             ...            ...                  ...  \n",
       "4096              1          False                 True  \n",
       "4373              1          False                 True  \n",
       "5480              1          False                 True  \n",
       "6666              1          False                 True  \n",
       "6847              1          False                 True  \n",
       "\n",
       "[8491 rows x 7 columns]"
      ]
     },
     "execution_count": 24,
     "metadata": {},
     "output_type": "execute_result"
    }
   ],
   "source": [
    "promiscuous['Surprise Level'] = promiscuous['EC number'].apply(get_difference_level)\n",
    "promiscuous['Number of ECs'] = promiscuous['EC number'].apply(lambda x: len(x))\n",
    "# Check if there are duplicates in terms of EC and sequence\n",
    "promiscuous['Duplicated EC'] = promiscuous['EC number'].duplicated(keep=False)\n",
    "promiscuous['Duplicated Sequence'] = promiscuous['Sequence'].duplicated(keep=False)\n",
    "promiscuous = promiscuous.sort_values(['Duplicated EC', 'Surprise Level', 'Number of ECs'], ascending=False)\n",
    "promiscuous"
   ]
  },
  {
   "cell_type": "markdown",
   "metadata": {},
   "source": [
    "## Potentially remove duplicated sequneces for promiscous enzymes that have similar reactions"
   ]
  },
  {
   "cell_type": "code",
   "execution_count": 25,
   "metadata": {},
   "outputs": [
    {
     "name": "stderr",
     "output_type": "stream",
     "text": [
      "/tmp/ipykernel_614599/717349449.py:8: SettingWithCopyWarning: \n",
      "A value is trying to be set on a copy of a slice from a DataFrame.\n",
      "Try using .loc[row_indexer,col_indexer] = value instead\n",
      "\n",
      "See the caveats in the documentation: https://pandas.pydata.org/pandas-docs/stable/user_guide/indexing.html#returning-a-view-versus-a-copy\n",
      "  promiscuous['EC number'] = [';'.join(sorted(ecs)) for ecs in promiscuous['EC number']]\n"
     ]
    },
    {
     "data": {
      "text/html": [
       "<div>\n",
       "<style scoped>\n",
       "    .dataframe tbody tr th:only-of-type {\n",
       "        vertical-align: middle;\n",
       "    }\n",
       "\n",
       "    .dataframe tbody tr th {\n",
       "        vertical-align: top;\n",
       "    }\n",
       "\n",
       "    .dataframe thead th {\n",
       "        text-align: right;\n",
       "    }\n",
       "</style>\n",
       "<table border=\"1\" class=\"dataframe\">\n",
       "  <thead>\n",
       "    <tr style=\"text-align: right;\">\n",
       "      <th></th>\n",
       "      <th>index</th>\n",
       "      <th>Entry</th>\n",
       "      <th>Sequence</th>\n",
       "      <th>EC number</th>\n",
       "      <th>Surprise Level</th>\n",
       "      <th>Number of ECs</th>\n",
       "      <th>Duplicated EC</th>\n",
       "      <th>Duplicated Sequence</th>\n",
       "    </tr>\n",
       "  </thead>\n",
       "  <tbody>\n",
       "    <tr>\n",
       "      <th>0</th>\n",
       "      <td>4072</td>\n",
       "      <td>P9WGT3</td>\n",
       "      <td>MTATATEGAKPPFVSRSVLVTGGNRGIGLAIAQRLAADGHKVAVTH...</td>\n",
       "      <td>1.1.1.100;1.1.1.36</td>\n",
       "      <td>1</td>\n",
       "      <td>2</td>\n",
       "      <td>True</td>\n",
       "      <td>False</td>\n",
       "    </tr>\n",
       "    <tr>\n",
       "      <th>1</th>\n",
       "      <td>6834</td>\n",
       "      <td>Q7TS56</td>\n",
       "      <td>MDKVCAVFGGSRGIGKAVAQLMAQKGYRLAIVARNLEVAKATASEL...</td>\n",
       "      <td>1.1.1.100;1.6.5.10</td>\n",
       "      <td>3</td>\n",
       "      <td>2</td>\n",
       "      <td>True</td>\n",
       "      <td>False</td>\n",
       "    </tr>\n",
       "    <tr>\n",
       "      <th>2</th>\n",
       "      <td>4267</td>\n",
       "      <td>Q09851</td>\n",
       "      <td>MEAEKFVLITGCSEGGIGNALALKFHQEGFQVLATARQVERMDNLT...</td>\n",
       "      <td>1.1.1.101;3.1.1.3</td>\n",
       "      <td>4</td>\n",
       "      <td>2</td>\n",
       "      <td>True</td>\n",
       "      <td>False</td>\n",
       "    </tr>\n",
       "    <tr>\n",
       "      <th>3</th>\n",
       "      <td>7381</td>\n",
       "      <td>Q8JZV9</td>\n",
       "      <td>MGRLDGKVIVLTAAAQGIGRASALAFAREGAKVIATDINESKLQEL...</td>\n",
       "      <td>1.1.1.104;1.1.1.30</td>\n",
       "      <td>1</td>\n",
       "      <td>2</td>\n",
       "      <td>True</td>\n",
       "      <td>False</td>\n",
       "    </tr>\n",
       "    <tr>\n",
       "      <th>4</th>\n",
       "      <td>8233</td>\n",
       "      <td>Q9R092</td>\n",
       "      <td>MWFYLVTLVGLYHLLRWYRERQVVSHLQDKYVFITGCDSGFGNLLA...</td>\n",
       "      <td>1.1.1.105;1.1.1.209;1.1.1.239;1.1.1.53;1.1.1.62</td>\n",
       "      <td>1</td>\n",
       "      <td>5</td>\n",
       "      <td>True</td>\n",
       "      <td>False</td>\n",
       "    </tr>\n",
       "    <tr>\n",
       "      <th>...</th>\n",
       "      <td>...</td>\n",
       "      <td>...</td>\n",
       "      <td>...</td>\n",
       "      <td>...</td>\n",
       "      <td>...</td>\n",
       "      <td>...</td>\n",
       "      <td>...</td>\n",
       "      <td>...</td>\n",
       "    </tr>\n",
       "    <tr>\n",
       "      <th>534</th>\n",
       "      <td>6724</td>\n",
       "      <td>Q75UN0</td>\n",
       "      <td>MALEILGVEGIPEVDAGADLAGLIAKAGTYRDGDILLVTSKVVSKA...</td>\n",
       "      <td>6.3.2.31;6.3.2.34</td>\n",
       "      <td>1</td>\n",
       "      <td>2</td>\n",
       "      <td>True</td>\n",
       "      <td>False</td>\n",
       "    </tr>\n",
       "    <tr>\n",
       "      <th>535</th>\n",
       "      <td>7378</td>\n",
       "      <td>Q8IXN7</td>\n",
       "      <td>MCSQLWFLTDRRIREDYPQVQILRALRQRCSEQDVRFRAVLMDQIA...</td>\n",
       "      <td>6.3.2.41;6.3.2.42</td>\n",
       "      <td>1</td>\n",
       "      <td>2</td>\n",
       "      <td>True</td>\n",
       "      <td>False</td>\n",
       "    </tr>\n",
       "    <tr>\n",
       "      <th>536</th>\n",
       "      <td>7536</td>\n",
       "      <td>Q8TWX0</td>\n",
       "      <td>MPETPNKVLIIGSGPIIVGQAAEFDYSGSQACKALREEGVEVVLVN...</td>\n",
       "      <td>6.3.4.16;6.3.5.5</td>\n",
       "      <td>2</td>\n",
       "      <td>2</td>\n",
       "      <td>True</td>\n",
       "      <td>False</td>\n",
       "    </tr>\n",
       "    <tr>\n",
       "      <th>537</th>\n",
       "      <td>100</td>\n",
       "      <td>A0K6Q0</td>\n",
       "      <td>MFTARIARSMASESAPAASSVAPGSSGAPMADCVLEVRGVGKSFPG...</td>\n",
       "      <td>7.5.2.11;7.5.2.7</td>\n",
       "      <td>1</td>\n",
       "      <td>2</td>\n",
       "      <td>True</td>\n",
       "      <td>False</td>\n",
       "    </tr>\n",
       "    <tr>\n",
       "      <th>538</th>\n",
       "      <td>6248</td>\n",
       "      <td>Q62172</td>\n",
       "      <td>MTECFLPPSSSPSEHRRAEHGSGLTRTPSSEEISPTKFPGLYRTGE...</td>\n",
       "      <td>7.6.2.2;7.6.2.3</td>\n",
       "      <td>1</td>\n",
       "      <td>2</td>\n",
       "      <td>True</td>\n",
       "      <td>False</td>\n",
       "    </tr>\n",
       "  </tbody>\n",
       "</table>\n",
       "<p>539 rows × 8 columns</p>\n",
       "</div>"
      ],
      "text/plain": [
       "     index   Entry                                           Sequence  \\\n",
       "0     4072  P9WGT3  MTATATEGAKPPFVSRSVLVTGGNRGIGLAIAQRLAADGHKVAVTH...   \n",
       "1     6834  Q7TS56  MDKVCAVFGGSRGIGKAVAQLMAQKGYRLAIVARNLEVAKATASEL...   \n",
       "2     4267  Q09851  MEAEKFVLITGCSEGGIGNALALKFHQEGFQVLATARQVERMDNLT...   \n",
       "3     7381  Q8JZV9  MGRLDGKVIVLTAAAQGIGRASALAFAREGAKVIATDINESKLQEL...   \n",
       "4     8233  Q9R092  MWFYLVTLVGLYHLLRWYRERQVVSHLQDKYVFITGCDSGFGNLLA...   \n",
       "..     ...     ...                                                ...   \n",
       "534   6724  Q75UN0  MALEILGVEGIPEVDAGADLAGLIAKAGTYRDGDILLVTSKVVSKA...   \n",
       "535   7378  Q8IXN7  MCSQLWFLTDRRIREDYPQVQILRALRQRCSEQDVRFRAVLMDQIA...   \n",
       "536   7536  Q8TWX0  MPETPNKVLIIGSGPIIVGQAAEFDYSGSQACKALREEGVEVVLVN...   \n",
       "537    100  A0K6Q0  MFTARIARSMASESAPAASSVAPGSSGAPMADCVLEVRGVGKSFPG...   \n",
       "538   6248  Q62172  MTECFLPPSSSPSEHRRAEHGSGLTRTPSSEEISPTKFPGLYRTGE...   \n",
       "\n",
       "                                           EC number  Surprise Level  \\\n",
       "0                                 1.1.1.100;1.1.1.36               1   \n",
       "1                                 1.1.1.100;1.6.5.10               3   \n",
       "2                                  1.1.1.101;3.1.1.3               4   \n",
       "3                                 1.1.1.104;1.1.1.30               1   \n",
       "4    1.1.1.105;1.1.1.209;1.1.1.239;1.1.1.53;1.1.1.62               1   \n",
       "..                                               ...             ...   \n",
       "534                                6.3.2.31;6.3.2.34               1   \n",
       "535                                6.3.2.41;6.3.2.42               1   \n",
       "536                                 6.3.4.16;6.3.5.5               2   \n",
       "537                                 7.5.2.11;7.5.2.7               1   \n",
       "538                                  7.6.2.2;7.6.2.3               1   \n",
       "\n",
       "     Number of ECs  Duplicated EC  Duplicated Sequence  \n",
       "0                2           True                False  \n",
       "1                2           True                False  \n",
       "2                2           True                False  \n",
       "3                2           True                False  \n",
       "4                5           True                False  \n",
       "..             ...            ...                  ...  \n",
       "534              2           True                False  \n",
       "535              2           True                False  \n",
       "536              2           True                False  \n",
       "537              2           True                False  \n",
       "538              2           True                False  \n",
       "\n",
       "[539 rows x 8 columns]"
      ]
     },
     "execution_count": 25,
     "metadata": {},
     "output_type": "execute_result"
    }
   ],
   "source": [
    "# Keep ones which have duplicated ECs so that there is a homolog in the training dataaste\n",
    "promiscuous = promiscuous[promiscuous['Duplicated EC'] == True]\n",
    "# Make a validation set that is completely held out.\n",
    "np.random.seed(42)\n",
    "random.seed(42)\n",
    "\n",
    "# Make this so that we can just sample a single one\n",
    "promiscuous['EC number'] = [';'.join(sorted(ecs)) for ecs in promiscuous['EC number']]\n",
    "\n",
    "#sample a random one from each unique EC at level 3 for validation (i.e. not in training or the larger test set)\n",
    "promiscuous = promiscuous.groupby('EC number').sample(1)\n",
    "#promiscuous.drop_duplicates(subset='EC number', inplace=True)\n",
    "promiscuous.reset_index(inplace=True)\n",
    "promiscuous"
   ]
  },
  {
   "cell_type": "code",
   "execution_count": 26,
   "metadata": {},
   "outputs": [
    {
     "data": {
      "text/html": [
       "<div>\n",
       "<style scoped>\n",
       "    .dataframe tbody tr th:only-of-type {\n",
       "        vertical-align: middle;\n",
       "    }\n",
       "\n",
       "    .dataframe tbody tr th {\n",
       "        vertical-align: top;\n",
       "    }\n",
       "\n",
       "    .dataframe thead th {\n",
       "        text-align: right;\n",
       "    }\n",
       "</style>\n",
       "<table border=\"1\" class=\"dataframe\">\n",
       "  <thead>\n",
       "    <tr style=\"text-align: right;\">\n",
       "      <th></th>\n",
       "      <th>index</th>\n",
       "      <th>Entry</th>\n",
       "      <th>Sequence</th>\n",
       "      <th>EC number</th>\n",
       "      <th>Surprise Level</th>\n",
       "      <th>Number of ECs</th>\n",
       "      <th>Duplicated EC</th>\n",
       "      <th>Duplicated Sequence</th>\n",
       "    </tr>\n",
       "  </thead>\n",
       "  <tbody>\n",
       "    <tr>\n",
       "      <th>1</th>\n",
       "      <td>6834</td>\n",
       "      <td>Q7TS56</td>\n",
       "      <td>MDKVCAVFGGSRGIGKAVAQLMAQKGYRLAIVARNLEVAKATASEL...</td>\n",
       "      <td>1.1.1.100;1.6.5.10</td>\n",
       "      <td>3</td>\n",
       "      <td>2</td>\n",
       "      <td>True</td>\n",
       "      <td>False</td>\n",
       "    </tr>\n",
       "    <tr>\n",
       "      <th>2</th>\n",
       "      <td>4267</td>\n",
       "      <td>Q09851</td>\n",
       "      <td>MEAEKFVLITGCSEGGIGNALALKFHQEGFQVLATARQVERMDNLT...</td>\n",
       "      <td>1.1.1.101;3.1.1.3</td>\n",
       "      <td>4</td>\n",
       "      <td>2</td>\n",
       "      <td>True</td>\n",
       "      <td>False</td>\n",
       "    </tr>\n",
       "    <tr>\n",
       "      <th>8</th>\n",
       "      <td>7784</td>\n",
       "      <td>Q95JH7</td>\n",
       "      <td>MDSKHQCVKLNDGHFMPVLGFGTYAPAEVPKNKALEATKLAIEAGF...</td>\n",
       "      <td>1.1.1.112;1.1.1.149;1.1.1.209;1.1.1.210;1.1.1....</td>\n",
       "      <td>3</td>\n",
       "      <td>9</td>\n",
       "      <td>True</td>\n",
       "      <td>False</td>\n",
       "    </tr>\n",
       "    <tr>\n",
       "      <th>11</th>\n",
       "      <td>3391</td>\n",
       "      <td>P22071</td>\n",
       "      <td>MPGWSCLVTGAGGFVGQRIIRMLVQEKELQEVRALDKVFRPETKEE...</td>\n",
       "      <td>1.1.1.145;1.1.1.210;1.1.1.270;5.3.3.1</td>\n",
       "      <td>4</td>\n",
       "      <td>4</td>\n",
       "      <td>True</td>\n",
       "      <td>False</td>\n",
       "    </tr>\n",
       "    <tr>\n",
       "      <th>12</th>\n",
       "      <td>8380</td>\n",
       "      <td>Q9XWF0</td>\n",
       "      <td>MSIKRLSMRLKKGIHRSWNRMTSLEAGLEEEKEIKIVEEPEPRPWK...</td>\n",
       "      <td>1.1.1.145;5.3.3.1</td>\n",
       "      <td>4</td>\n",
       "      <td>2</td>\n",
       "      <td>True</td>\n",
       "      <td>False</td>\n",
       "    </tr>\n",
       "    <tr>\n",
       "      <th>...</th>\n",
       "      <td>...</td>\n",
       "      <td>...</td>\n",
       "      <td>...</td>\n",
       "      <td>...</td>\n",
       "      <td>...</td>\n",
       "      <td>...</td>\n",
       "      <td>...</td>\n",
       "      <td>...</td>\n",
       "    </tr>\n",
       "    <tr>\n",
       "      <th>504</th>\n",
       "      <td>4717</td>\n",
       "      <td>Q1LRV9</td>\n",
       "      <td>MPHAHPADIDGHHLTPDTVAAIARGQRAAIVPEPVLGKVADARARF...</td>\n",
       "      <td>4.3.1.23;5.4.3.6</td>\n",
       "      <td>4</td>\n",
       "      <td>2</td>\n",
       "      <td>True</td>\n",
       "      <td>False</td>\n",
       "    </tr>\n",
       "    <tr>\n",
       "      <th>515</th>\n",
       "      <td>3506</td>\n",
       "      <td>P30904</td>\n",
       "      <td>MPMFIVNTNVPRASVPEGFLSELTQQLAQATGKPAQYIAVHVVPDQ...</td>\n",
       "      <td>5.3.2.1;5.3.3.12</td>\n",
       "      <td>2</td>\n",
       "      <td>2</td>\n",
       "      <td>True</td>\n",
       "      <td>False</td>\n",
       "    </tr>\n",
       "    <tr>\n",
       "      <th>531</th>\n",
       "      <td>3236</td>\n",
       "      <td>P10378</td>\n",
       "      <td>MSIPFTRWPEEFARRYREKGYWQDLPLTDILTRHAASDSIAVIDGE...</td>\n",
       "      <td>6.2.1.71;6.3.2.14</td>\n",
       "      <td>3</td>\n",
       "      <td>2</td>\n",
       "      <td>True</td>\n",
       "      <td>False</td>\n",
       "    </tr>\n",
       "    <tr>\n",
       "      <th>532</th>\n",
       "      <td>6973</td>\n",
       "      <td>Q80WS1</td>\n",
       "      <td>MCSSVTGKLWFLTDRRIREDYPQKEILRALKAKCCEEELDFRAVVM...</td>\n",
       "      <td>6.3.1.17;6.3.2.41</td>\n",
       "      <td>2</td>\n",
       "      <td>2</td>\n",
       "      <td>True</td>\n",
       "      <td>False</td>\n",
       "    </tr>\n",
       "    <tr>\n",
       "      <th>536</th>\n",
       "      <td>7536</td>\n",
       "      <td>Q8TWX0</td>\n",
       "      <td>MPETPNKVLIIGSGPIIVGQAAEFDYSGSQACKALREEGVEVVLVN...</td>\n",
       "      <td>6.3.4.16;6.3.5.5</td>\n",
       "      <td>2</td>\n",
       "      <td>2</td>\n",
       "      <td>True</td>\n",
       "      <td>False</td>\n",
       "    </tr>\n",
       "  </tbody>\n",
       "</table>\n",
       "<p>179 rows × 8 columns</p>\n",
       "</div>"
      ],
      "text/plain": [
       "     index   Entry                                           Sequence  \\\n",
       "1     6834  Q7TS56  MDKVCAVFGGSRGIGKAVAQLMAQKGYRLAIVARNLEVAKATASEL...   \n",
       "2     4267  Q09851  MEAEKFVLITGCSEGGIGNALALKFHQEGFQVLATARQVERMDNLT...   \n",
       "8     7784  Q95JH7  MDSKHQCVKLNDGHFMPVLGFGTYAPAEVPKNKALEATKLAIEAGF...   \n",
       "11    3391  P22071  MPGWSCLVTGAGGFVGQRIIRMLVQEKELQEVRALDKVFRPETKEE...   \n",
       "12    8380  Q9XWF0  MSIKRLSMRLKKGIHRSWNRMTSLEAGLEEEKEIKIVEEPEPRPWK...   \n",
       "..     ...     ...                                                ...   \n",
       "504   4717  Q1LRV9  MPHAHPADIDGHHLTPDTVAAIARGQRAAIVPEPVLGKVADARARF...   \n",
       "515   3506  P30904  MPMFIVNTNVPRASVPEGFLSELTQQLAQATGKPAQYIAVHVVPDQ...   \n",
       "531   3236  P10378  MSIPFTRWPEEFARRYREKGYWQDLPLTDILTRHAASDSIAVIDGE...   \n",
       "532   6973  Q80WS1  MCSSVTGKLWFLTDRRIREDYPQKEILRALKAKCCEEELDFRAVVM...   \n",
       "536   7536  Q8TWX0  MPETPNKVLIIGSGPIIVGQAAEFDYSGSQACKALREEGVEVVLVN...   \n",
       "\n",
       "                                             EC number  Surprise Level  \\\n",
       "1                                   1.1.1.100;1.6.5.10               3   \n",
       "2                                    1.1.1.101;3.1.1.3               4   \n",
       "8    1.1.1.112;1.1.1.149;1.1.1.209;1.1.1.210;1.1.1....               3   \n",
       "11               1.1.1.145;1.1.1.210;1.1.1.270;5.3.3.1               4   \n",
       "12                                   1.1.1.145;5.3.3.1               4   \n",
       "..                                                 ...             ...   \n",
       "504                                   4.3.1.23;5.4.3.6               4   \n",
       "515                                   5.3.2.1;5.3.3.12               2   \n",
       "531                                  6.2.1.71;6.3.2.14               3   \n",
       "532                                  6.3.1.17;6.3.2.41               2   \n",
       "536                                   6.3.4.16;6.3.5.5               2   \n",
       "\n",
       "     Number of ECs  Duplicated EC  Duplicated Sequence  \n",
       "1                2           True                False  \n",
       "2                2           True                False  \n",
       "8                9           True                False  \n",
       "11               4           True                False  \n",
       "12               2           True                False  \n",
       "..             ...            ...                  ...  \n",
       "504              2           True                False  \n",
       "515              2           True                False  \n",
       "531              2           True                False  \n",
       "532              2           True                False  \n",
       "536              2           True                False  \n",
       "\n",
       "[179 rows x 8 columns]"
      ]
     },
     "execution_count": 26,
     "metadata": {},
     "output_type": "execute_result"
    }
   ],
   "source": [
    "promiscuous = promiscuous[promiscuous['Surprise Level'] >= 2]\n",
    "promiscuous = promiscuous[promiscuous['Duplicated EC']]\n",
    "promiscuous"
   ]
  },
  {
   "cell_type": "markdown",
   "metadata": {},
   "source": [
    "## Create a training dataset that doesn't include any of our proteins for validation\n",
    "\n",
    "Check for the sequences before we can use them for training."
   ]
  },
  {
   "cell_type": "code",
   "execution_count": 27,
   "metadata": {},
   "outputs": [
    {
     "data": {
      "text/plain": [
       "1106"
      ]
     },
     "execution_count": 27,
     "metadata": {},
     "output_type": "execute_result"
    }
   ],
   "source": [
    "test_pooled_seqs = pd.concat([validation_30, validation_50, validation_70, validation_90, price, promiscuous])['Sequence'].unique()\n",
    "len(test_pooled_seqs)"
   ]
  },
  {
   "cell_type": "code",
   "execution_count": 28,
   "metadata": {},
   "outputs": [
    {
     "data": {
      "text/html": [
       "<div>\n",
       "<style scoped>\n",
       "    .dataframe tbody tr th:only-of-type {\n",
       "        vertical-align: middle;\n",
       "    }\n",
       "\n",
       "    .dataframe tbody tr th {\n",
       "        vertical-align: top;\n",
       "    }\n",
       "\n",
       "    .dataframe thead th {\n",
       "        text-align: right;\n",
       "    }\n",
       "</style>\n",
       "<table border=\"1\" class=\"dataframe\">\n",
       "  <thead>\n",
       "    <tr style=\"text-align: right;\">\n",
       "      <th></th>\n",
       "      <th>Entry</th>\n",
       "      <th>Entry Name</th>\n",
       "      <th>Sequence</th>\n",
       "      <th>EC number</th>\n",
       "      <th>Length</th>\n",
       "      <th>EC All</th>\n",
       "      <th>clusterRes50</th>\n",
       "      <th>clusterRes30</th>\n",
       "      <th>clusterRes70</th>\n",
       "      <th>clusterRes90</th>\n",
       "      <th>EC3</th>\n",
       "      <th>EC2</th>\n",
       "      <th>EC1</th>\n",
       "      <th>Duplicated clusterRes30</th>\n",
       "      <th>Duplicated clusterRes50</th>\n",
       "      <th>Duplicated clusterRes70</th>\n",
       "      <th>Duplicated clusterRes90</th>\n",
       "      <th>Duplicated EC</th>\n",
       "      <th>Promiscuous</th>\n",
       "    </tr>\n",
       "  </thead>\n",
       "  <tbody>\n",
       "    <tr>\n",
       "      <th>0</th>\n",
       "      <td>A0A009IHW8</td>\n",
       "      <td>ABTIR_ACIB9</td>\n",
       "      <td>MSLEQKKGADIISKILQIQNSIGKTTSPSTLKTKLSEISRKEQENA...</td>\n",
       "      <td>3.2.2.6</td>\n",
       "      <td>269</td>\n",
       "      <td>3.2.2.-; 3.2.2.6</td>\n",
       "      <td>A0A009IHW8</td>\n",
       "      <td>A1AY86</td>\n",
       "      <td>A0A009IHW8</td>\n",
       "      <td>A0A009IHW8</td>\n",
       "      <td>3.2.2</td>\n",
       "      <td>3.2</td>\n",
       "      <td>3</td>\n",
       "      <td>True</td>\n",
       "      <td>False</td>\n",
       "      <td>False</td>\n",
       "      <td>False</td>\n",
       "      <td>True</td>\n",
       "      <td>False</td>\n",
       "    </tr>\n",
       "    <tr>\n",
       "      <th>1</th>\n",
       "      <td>A0A024SC78</td>\n",
       "      <td>CUTI1_HYPJR</td>\n",
       "      <td>MRSLAILTTLLAGHAFAYPKPAPQSVNRRDWPSINEFLSELAKVMP...</td>\n",
       "      <td>3.1.1.74</td>\n",
       "      <td>248</td>\n",
       "      <td>3.1.1.74</td>\n",
       "      <td>A8QPD8</td>\n",
       "      <td>A8QPD8</td>\n",
       "      <td>A8QPD8</td>\n",
       "      <td>A0A024SC78</td>\n",
       "      <td>3.1.1</td>\n",
       "      <td>3.1</td>\n",
       "      <td>3</td>\n",
       "      <td>True</td>\n",
       "      <td>True</td>\n",
       "      <td>True</td>\n",
       "      <td>False</td>\n",
       "      <td>True</td>\n",
       "      <td>False</td>\n",
       "    </tr>\n",
       "    <tr>\n",
       "      <th>2</th>\n",
       "      <td>A0A024SH76</td>\n",
       "      <td>GUX2_HYPJR</td>\n",
       "      <td>MIVGILTTLATLATLAASVPLEERQACSSVWGQCGGQNWSGPTCCA...</td>\n",
       "      <td>3.2.1.91</td>\n",
       "      <td>471</td>\n",
       "      <td>3.2.1.91</td>\n",
       "      <td>B2ABX7</td>\n",
       "      <td>B2AE04</td>\n",
       "      <td>A0A024SH76</td>\n",
       "      <td>A0A024SH76</td>\n",
       "      <td>3.2.1</td>\n",
       "      <td>3.2</td>\n",
       "      <td>3</td>\n",
       "      <td>True</td>\n",
       "      <td>True</td>\n",
       "      <td>False</td>\n",
       "      <td>False</td>\n",
       "      <td>True</td>\n",
       "      <td>False</td>\n",
       "    </tr>\n",
       "    <tr>\n",
       "      <th>3</th>\n",
       "      <td>A0A059TC02</td>\n",
       "      <td>CCR1_PETHY</td>\n",
       "      <td>MRSVSGQVVCVTGAGGFIASWLVKILLEKGYTVRGTVRNPDDPKNG...</td>\n",
       "      <td>1.2.1.44</td>\n",
       "      <td>333</td>\n",
       "      <td>1.2.1.44</td>\n",
       "      <td>Q6K9A2</td>\n",
       "      <td>Q5FB34</td>\n",
       "      <td>Q9S9N9</td>\n",
       "      <td>A0A059TC02</td>\n",
       "      <td>1.2.1</td>\n",
       "      <td>1.2</td>\n",
       "      <td>1</td>\n",
       "      <td>True</td>\n",
       "      <td>True</td>\n",
       "      <td>True</td>\n",
       "      <td>False</td>\n",
       "      <td>True</td>\n",
       "      <td>False</td>\n",
       "    </tr>\n",
       "    <tr>\n",
       "      <th>4</th>\n",
       "      <td>A0A067XGX8</td>\n",
       "      <td>AROG2_PETHY</td>\n",
       "      <td>MALTATATTRGGSALPNSCLQTPKFQSLQKPTFISSFPTNKKTKPR...</td>\n",
       "      <td>2.5.1.54</td>\n",
       "      <td>512</td>\n",
       "      <td>2.5.1.54</td>\n",
       "      <td>P80574</td>\n",
       "      <td>P80576</td>\n",
       "      <td>Q75W16</td>\n",
       "      <td>A0A067XGX8</td>\n",
       "      <td>2.5.1</td>\n",
       "      <td>2.5</td>\n",
       "      <td>2</td>\n",
       "      <td>True</td>\n",
       "      <td>True</td>\n",
       "      <td>True</td>\n",
       "      <td>False</td>\n",
       "      <td>True</td>\n",
       "      <td>False</td>\n",
       "    </tr>\n",
       "    <tr>\n",
       "      <th>...</th>\n",
       "      <td>...</td>\n",
       "      <td>...</td>\n",
       "      <td>...</td>\n",
       "      <td>...</td>\n",
       "      <td>...</td>\n",
       "      <td>...</td>\n",
       "      <td>...</td>\n",
       "      <td>...</td>\n",
       "      <td>...</td>\n",
       "      <td>...</td>\n",
       "      <td>...</td>\n",
       "      <td>...</td>\n",
       "      <td>...</td>\n",
       "      <td>...</td>\n",
       "      <td>...</td>\n",
       "      <td>...</td>\n",
       "      <td>...</td>\n",
       "      <td>...</td>\n",
       "      <td>...</td>\n",
       "    </tr>\n",
       "    <tr>\n",
       "      <th>169860</th>\n",
       "      <td>Q05115</td>\n",
       "      <td>AMDA_BORBO</td>\n",
       "      <td>MQQASTPTIGMIVPPAAGLVPADGARLYPDLPFIASGLGLGSVTPE...</td>\n",
       "      <td>4.1.1.76</td>\n",
       "      <td>240</td>\n",
       "      <td>4.1.1.76</td>\n",
       "      <td>Q05115</td>\n",
       "      <td>Q05115</td>\n",
       "      <td>Q05115</td>\n",
       "      <td>Q05115</td>\n",
       "      <td>4.1.1</td>\n",
       "      <td>4.1</td>\n",
       "      <td>4</td>\n",
       "      <td>False</td>\n",
       "      <td>False</td>\n",
       "      <td>False</td>\n",
       "      <td>False</td>\n",
       "      <td>False</td>\n",
       "      <td>False</td>\n",
       "    </tr>\n",
       "    <tr>\n",
       "      <th>169861</th>\n",
       "      <td>Q6HX62</td>\n",
       "      <td>Y3032_BACAN</td>\n",
       "      <td>MGQNQFRWSNEQLREHVEIIDGTRSPHKLLKNATYLNSYIREWMQA...</td>\n",
       "      <td>3.5.4.2</td>\n",
       "      <td>584</td>\n",
       "      <td>3.5.4.2</td>\n",
       "      <td>Q6HX62</td>\n",
       "      <td>O34909</td>\n",
       "      <td>Q81BX6</td>\n",
       "      <td>Q6HX62</td>\n",
       "      <td>3.5.4</td>\n",
       "      <td>3.5</td>\n",
       "      <td>3</td>\n",
       "      <td>True</td>\n",
       "      <td>True</td>\n",
       "      <td>True</td>\n",
       "      <td>False</td>\n",
       "      <td>True</td>\n",
       "      <td>False</td>\n",
       "    </tr>\n",
       "    <tr>\n",
       "      <th>169862</th>\n",
       "      <td>Q6L032</td>\n",
       "      <td>Y1085_PICTO</td>\n",
       "      <td>MLLKNIKISNDYNIFMIIASRKPSLKDIYKIIKVSKFDEPADLIIE...</td>\n",
       "      <td>3.5.4.2</td>\n",
       "      <td>573</td>\n",
       "      <td>3.5.4.2</td>\n",
       "      <td>Q6L032</td>\n",
       "      <td>O34909</td>\n",
       "      <td>Q6L032</td>\n",
       "      <td>Q6L032</td>\n",
       "      <td>3.5.4</td>\n",
       "      <td>3.5</td>\n",
       "      <td>3</td>\n",
       "      <td>True</td>\n",
       "      <td>False</td>\n",
       "      <td>False</td>\n",
       "      <td>False</td>\n",
       "      <td>True</td>\n",
       "      <td>False</td>\n",
       "    </tr>\n",
       "    <tr>\n",
       "      <th>169863</th>\n",
       "      <td>Q94MV8</td>\n",
       "      <td>VG56_BPLZ5</td>\n",
       "      <td>MAHFNECAHLIEGVDKANRAYAENIMHNIDPLQVMLDMQRHLQIRL...</td>\n",
       "      <td>3.6.1.12</td>\n",
       "      <td>172</td>\n",
       "      <td>3.6.1.12</td>\n",
       "      <td>P39262</td>\n",
       "      <td>P39262</td>\n",
       "      <td>Q94MV8</td>\n",
       "      <td>Q94MV8</td>\n",
       "      <td>3.6.1</td>\n",
       "      <td>3.6</td>\n",
       "      <td>3</td>\n",
       "      <td>True</td>\n",
       "      <td>True</td>\n",
       "      <td>False</td>\n",
       "      <td>False</td>\n",
       "      <td>True</td>\n",
       "      <td>False</td>\n",
       "    </tr>\n",
       "    <tr>\n",
       "      <th>169864</th>\n",
       "      <td>Q9J5H2</td>\n",
       "      <td>V029_FOWPN</td>\n",
       "      <td>MANVFDNSSYRDMLKMVFVIRDDLKMTKGEIVSQCCHGAISAYEKS...</td>\n",
       "      <td>3.1.1.29</td>\n",
       "      <td>124</td>\n",
       "      <td>3.1.1.29</td>\n",
       "      <td>Q9J5H2</td>\n",
       "      <td>Q9J5H2</td>\n",
       "      <td>Q9J5H2</td>\n",
       "      <td>Q9J5H2</td>\n",
       "      <td>3.1.1</td>\n",
       "      <td>3.1</td>\n",
       "      <td>3</td>\n",
       "      <td>False</td>\n",
       "      <td>False</td>\n",
       "      <td>False</td>\n",
       "      <td>False</td>\n",
       "      <td>True</td>\n",
       "      <td>False</td>\n",
       "    </tr>\n",
       "  </tbody>\n",
       "</table>\n",
       "<p>168682 rows × 19 columns</p>\n",
       "</div>"
      ],
      "text/plain": [
       "             Entry   Entry Name  \\\n",
       "0       A0A009IHW8  ABTIR_ACIB9   \n",
       "1       A0A024SC78  CUTI1_HYPJR   \n",
       "2       A0A024SH76   GUX2_HYPJR   \n",
       "3       A0A059TC02   CCR1_PETHY   \n",
       "4       A0A067XGX8  AROG2_PETHY   \n",
       "...            ...          ...   \n",
       "169860      Q05115   AMDA_BORBO   \n",
       "169861      Q6HX62  Y3032_BACAN   \n",
       "169862      Q6L032  Y1085_PICTO   \n",
       "169863      Q94MV8   VG56_BPLZ5   \n",
       "169864      Q9J5H2   V029_FOWPN   \n",
       "\n",
       "                                                 Sequence EC number  Length  \\\n",
       "0       MSLEQKKGADIISKILQIQNSIGKTTSPSTLKTKLSEISRKEQENA...   3.2.2.6     269   \n",
       "1       MRSLAILTTLLAGHAFAYPKPAPQSVNRRDWPSINEFLSELAKVMP...  3.1.1.74     248   \n",
       "2       MIVGILTTLATLATLAASVPLEERQACSSVWGQCGGQNWSGPTCCA...  3.2.1.91     471   \n",
       "3       MRSVSGQVVCVTGAGGFIASWLVKILLEKGYTVRGTVRNPDDPKNG...  1.2.1.44     333   \n",
       "4       MALTATATTRGGSALPNSCLQTPKFQSLQKPTFISSFPTNKKTKPR...  2.5.1.54     512   \n",
       "...                                                   ...       ...     ...   \n",
       "169860  MQQASTPTIGMIVPPAAGLVPADGARLYPDLPFIASGLGLGSVTPE...  4.1.1.76     240   \n",
       "169861  MGQNQFRWSNEQLREHVEIIDGTRSPHKLLKNATYLNSYIREWMQA...   3.5.4.2     584   \n",
       "169862  MLLKNIKISNDYNIFMIIASRKPSLKDIYKIIKVSKFDEPADLIIE...   3.5.4.2     573   \n",
       "169863  MAHFNECAHLIEGVDKANRAYAENIMHNIDPLQVMLDMQRHLQIRL...  3.6.1.12     172   \n",
       "169864  MANVFDNSSYRDMLKMVFVIRDDLKMTKGEIVSQCCHGAISAYEKS...  3.1.1.29     124   \n",
       "\n",
       "                  EC All clusterRes50 clusterRes30 clusterRes70 clusterRes90  \\\n",
       "0       3.2.2.-; 3.2.2.6   A0A009IHW8       A1AY86   A0A009IHW8   A0A009IHW8   \n",
       "1               3.1.1.74       A8QPD8       A8QPD8       A8QPD8   A0A024SC78   \n",
       "2               3.2.1.91       B2ABX7       B2AE04   A0A024SH76   A0A024SH76   \n",
       "3               1.2.1.44       Q6K9A2       Q5FB34       Q9S9N9   A0A059TC02   \n",
       "4               2.5.1.54       P80574       P80576       Q75W16   A0A067XGX8   \n",
       "...                  ...          ...          ...          ...          ...   \n",
       "169860          4.1.1.76       Q05115       Q05115       Q05115       Q05115   \n",
       "169861           3.5.4.2       Q6HX62       O34909       Q81BX6       Q6HX62   \n",
       "169862           3.5.4.2       Q6L032       O34909       Q6L032       Q6L032   \n",
       "169863          3.6.1.12       P39262       P39262       Q94MV8       Q94MV8   \n",
       "169864          3.1.1.29       Q9J5H2       Q9J5H2       Q9J5H2       Q9J5H2   \n",
       "\n",
       "          EC3  EC2  EC1  Duplicated clusterRes30  Duplicated clusterRes50  \\\n",
       "0       3.2.2  3.2    3                     True                    False   \n",
       "1       3.1.1  3.1    3                     True                     True   \n",
       "2       3.2.1  3.2    3                     True                     True   \n",
       "3       1.2.1  1.2    1                     True                     True   \n",
       "4       2.5.1  2.5    2                     True                     True   \n",
       "...       ...  ...  ...                      ...                      ...   \n",
       "169860  4.1.1  4.1    4                    False                    False   \n",
       "169861  3.5.4  3.5    3                     True                     True   \n",
       "169862  3.5.4  3.5    3                     True                    False   \n",
       "169863  3.6.1  3.6    3                     True                     True   \n",
       "169864  3.1.1  3.1    3                    False                    False   \n",
       "\n",
       "        Duplicated clusterRes70  Duplicated clusterRes90  Duplicated EC  \\\n",
       "0                         False                    False           True   \n",
       "1                          True                    False           True   \n",
       "2                         False                    False           True   \n",
       "3                          True                    False           True   \n",
       "4                          True                    False           True   \n",
       "...                         ...                      ...            ...   \n",
       "169860                    False                    False          False   \n",
       "169861                     True                    False           True   \n",
       "169862                    False                    False           True   \n",
       "169863                    False                    False           True   \n",
       "169864                    False                    False           True   \n",
       "\n",
       "        Promiscuous  \n",
       "0             False  \n",
       "1             False  \n",
       "2             False  \n",
       "3             False  \n",
       "4             False  \n",
       "...             ...  \n",
       "169860        False  \n",
       "169861        False  \n",
       "169862        False  \n",
       "169863        False  \n",
       "169864        False  \n",
       "\n",
       "[168682 rows x 19 columns]"
      ]
     },
     "execution_count": 28,
     "metadata": {},
     "output_type": "execute_result"
    }
   ],
   "source": [
    "#remove from the training set\n",
    "train_swissprot = swissprot[~swissprot['Sequence'].isin(test_pooled_seqs)]\n",
    "train_swissprot"
   ]
  },
  {
   "cell_type": "code",
   "execution_count": 29,
   "metadata": {},
   "outputs": [
    {
     "name": "stdout",
     "output_type": "stream",
     "text": [
      "168682\n",
      "175\n",
      "196\n",
      "204\n",
      "206\n",
      "146\n",
      "179\n"
     ]
    }
   ],
   "source": [
    "#save all of the generated splits\n",
    "train_swissprot.iloc[:,:-6].to_csv('../splits/task1/protein_train.csv')\n",
    "validation_30.iloc[:,:-6].to_csv('../splits/task1/30_protein_test.csv', index=False)\n",
    "validation_50.iloc[:,:-6].to_csv('../splits/task1/30-50_protein_test.csv', index=False)\n",
    "validation_70.iloc[:,:-6].to_csv('../splits/task1/50-70_protein_test.csv', index=False)\n",
    "validation_90.iloc[:,:-6].to_csv('../splits/task1/70-90_protein_test.csv', index=False)\n",
    "price.to_csv('../splits/task1/price_protein_test.csv', index=False)\n",
    "promiscuous.to_csv('../splits/task1/promiscuous_protein_test.csv', index=False)\n",
    "\n",
    "#print the length of every saved file\n",
    "for split in [train_swissprot, validation_30, validation_50, validation_70, validation_90, price, promiscuous]:\n",
    "    print(len(split))"
   ]
  },
  {
   "cell_type": "markdown",
   "metadata": {},
   "source": [
    "## Check the test set similarities/contamination to the training set\n",
    "\n",
    "For this, we seek to check if there are sequences with very high similarity in the training set. To do this, we use npyblast to get the highest match."
   ]
  },
  {
   "cell_type": "code",
   "execution_count": 93,
   "metadata": {},
   "outputs": [],
   "source": [
    "def save_seqs_as_fasta(df, filename):\n",
    "    with open(filename, 'w+') as fout:\n",
    "        for entry, seq in df[['Entry', 'Sequence']].values:\n",
    "            fout.write(f'>{entry}\\n{seq}\\n')\n",
    "\n",
    "save_seqs_as_fasta(validation_30, f'../processed_data/validation_30.fasta')\n",
    "save_seqs_as_fasta(validation_50, f'../processed_data/validation_50.fasta')\n",
    "save_seqs_as_fasta(validation_70, f'../processed_data/validation_70.fasta')\n",
    "save_seqs_as_fasta(validation_90, f'../processed_data/validation_90.fasta')\n",
    "save_seqs_as_fasta(price, f'../processed_data/price.fasta')\n",
    "save_seqs_as_fasta(promiscuous, f'../processed_data/promiscuous.fasta')\n"
   ]
  },
  {
   "cell_type": "code",
   "execution_count": 95,
   "metadata": {},
   "outputs": [],
   "source": [
    "save_seqs_as_fasta(train_swissprot, f'../processed_data/train_swissprot.fasta')"
   ]
  },
  {
   "cell_type": "code",
   "execution_count": 57,
   "metadata": {},
   "outputs": [
    {
     "name": "stdout",
     "output_type": "stream",
     "text": [
      "\n"
     ]
    },
    {
     "name": "stderr",
     "output_type": "stream",
     "text": [
      "\n",
      "   Read database: 100.0% (58 MB)                    \n",
      "Analyze database: 100.0% (168k)                    \n",
      "  Index database: 100.0% (168k)                    \n",
      "    Read queries: 100.0% (59 kB)                      \n",
      " Search database: 100.0% (175.0)                    \n",
      "      Write hits: 100.0% (174.0)                    \r"
     ]
    },
    {
     "data": {
      "text/plain": [
       "Text(0.5, 1.0, '30% similarity')"
      ]
     },
     "execution_count": 57,
     "metadata": {},
     "output_type": "execute_result"
    },
    {
     "data": {
      "image/png": "[encoded data removed]",
      "text/plain": [
       "<Figure size 640x480 with 1 Axes>"
      ]
     },
     "metadata": {},
     "output_type": "display_data"
    }
   ],
   "source": [
    "# Lets also look at the protein our query is the query genome and our database is going to be ecoli.\n",
    "results_prot = npy.blast(query=f'../processed_data/validation_30.fasta',\n",
    "                         database=f'../processed_data/train_swissprot.fasta',\n",
    "                         minIdentity=0.1,\n",
    "                         maxAccepts=1,\n",
    "                         alphabet=\"protein\")\n",
    "results = pd.DataFrame(results_prot)  # Convert this into a dataframe so that we can see it more easily\n",
    "plt.hist(results['Identity'], bins=20)\n",
    "plt.title('30% similarity')"
   ]
  },
  {
   "cell_type": "code",
   "execution_count": 58,
   "metadata": {},
   "outputs": [
    {
     "name": "stdout",
     "output_type": "stream",
     "text": [
      "\n"
     ]
    },
    {
     "name": "stderr",
     "output_type": "stream",
     "text": [
      "\n",
      "   Read database: 100.0% (58 MB)                    \n",
      "Analyze database: 100.0% (168k)                    \n",
      "  Index database: 100.0% (168k)                    \n",
      "    Read queries: 100.0% (74 kB)                      \n",
      " Search database: 100.0% (196.0)                    \n",
      "      Write hits: 100.0% (196.0)                    \r"
     ]
    },
    {
     "data": {
      "text/plain": [
       "Text(0.5, 1.0, '50% similarity')"
      ]
     },
     "execution_count": 58,
     "metadata": {},
     "output_type": "execute_result"
    },
    {
     "data": {
      "image/png": "[encoded data removed]",
      "text/plain": [
       "<Figure size 640x480 with 1 Axes>"
      ]
     },
     "metadata": {},
     "output_type": "display_data"
    }
   ],
   "source": [
    "# Lets also look at the protein our query is the query genome and our database is going to be ecoli.\n",
    "results_prot = npy.blast(query=f'../processed_data/validation_50.fasta',\n",
    "                         database=f'../processed_data/train_swissprot.fasta',\n",
    "                         minIdentity=0.,\n",
    "                         maxAccepts=1,\n",
    "                         alphabet=\"protein\")\n",
    "results = pd.DataFrame(results_prot)  # Convert this into a dataframe so that we can see it more easily\n",
    "plt.hist(results['Identity'], bins=20)\n",
    "plt.title('50% similarity')"
   ]
  },
  {
   "cell_type": "code",
   "execution_count": 59,
   "metadata": {},
   "outputs": [
    {
     "name": "stdout",
     "output_type": "stream",
     "text": [
      "\n"
     ]
    },
    {
     "name": "stderr",
     "output_type": "stream",
     "text": [
      "\n",
      "   Read database: 100.0% (58 MB)                    \n",
      "Analyze database: 100.0% (168k)                    \n",
      "  Index database: 100.0% (168k)                    \n",
      "    Read queries: 100.0% (74 kB)                      \n",
      " Search database: 100.0% (204.0)                    \n",
      "      Write hits: 100.0% (204.0)                    \r"
     ]
    },
    {
     "data": {
      "text/plain": [
       "Text(0.5, 1.0, '70% similarity')"
      ]
     },
     "execution_count": 59,
     "metadata": {},
     "output_type": "execute_result"
    },
    {
     "data": {
      "image/png": "[encoded data removed]",
      "text/plain": [
       "<Figure size 640x480 with 1 Axes>"
      ]
     },
     "metadata": {},
     "output_type": "display_data"
    }
   ],
   "source": [
    "\n",
    "# Lets also look at the protein our query is the query genome and our database is going to be ecoli.\n",
    "results_prot = npy.blast(query=f'../processed_data/validation_70.fasta',\n",
    "                         database=f'../processed_data/train_swissprot.fasta',\n",
    "                         minIdentity=0.,\n",
    "                         maxAccepts=1,\n",
    "                         alphabet=\"protein\")\n",
    "results = pd.DataFrame(results_prot)  # Convert this into a dataframe so that we can see it more easily\n",
    "plt.hist(results['Identity'], bins=20)\n",
    "plt.title('70% similarity')"
   ]
  },
  {
   "cell_type": "code",
   "execution_count": 60,
   "metadata": {},
   "outputs": [
    {
     "name": "stderr",
     "output_type": "stream",
     "text": [
      "\n",
      "   Read database: 100.0% (58 MB)                    \n",
      "Analyze database: 100.0% (168k)                    \n",
      "  Index database: 100.0% (168k)                    \n",
      "    Read queries: 100.0% (75 kB)                      \n",
      " Search database: 100.0% (206.0)                    \n",
      "      Write hits: 100.0% (206.0)                    \r"
     ]
    },
    {
     "name": "stdout",
     "output_type": "stream",
     "text": [
      "\n"
     ]
    },
    {
     "data": {
      "text/plain": [
       "Text(0.5, 1.0, 'Testset 90% similarity')"
      ]
     },
     "execution_count": 60,
     "metadata": {},
     "output_type": "execute_result"
    },
    {
     "data": {
      "image/png": "[encoded data removed]",
      "text/plain": [
       "<Figure size 640x480 with 1 Axes>"
      ]
     },
     "metadata": {},
     "output_type": "display_data"
    }
   ],
   "source": [
    "# For each now check the npysearch\n",
    "import npysearch as npy\n",
    "\n",
    "# Lets also look at the protein our query is the query genome and our database is going to be ecoli.\n",
    "results_prot = npy.blast(query=f'../processed_data/validation_90.fasta',\n",
    "                         database=f'../processed_data/train_swissprot.fasta',\n",
    "                         minIdentity=0.1,\n",
    "                         maxAccepts=1,\n",
    "                         alphabet=\"protein\")\n",
    "results = pd.DataFrame(results_prot)  # Convert this into a dataframe so that we can see it more easily\n",
    "plt.hist(results['Identity'], bins=20)\n",
    "plt.title('Testset 90% similarity')"
   ]
  },
  {
   "cell_type": "code",
   "execution_count": 62,
   "metadata": {},
   "outputs": [
    {
     "name": "stdout",
     "output_type": "stream",
     "text": [
      "\n"
     ]
    },
    {
     "name": "stderr",
     "output_type": "stream",
     "text": [
      "\n",
      "   Read database: 100.0% (58 MB)                    \n",
      "Analyze database: 100.0% (168k)                    \n",
      "  Index database: 100.0% (168k)                    \n",
      "    Read queries: 100.0% (57 kB)                      \n",
      " Search database: 100.0% (146.0)                    \n",
      "      Write hits: 100.0% (146.0)                    \r"
     ]
    },
    {
     "data": {
      "text/plain": [
       "Text(0.5, 1.0, 'Price similarity')"
      ]
     },
     "execution_count": 62,
     "metadata": {},
     "output_type": "execute_result"
    },
    {
     "data": {
      "image/png": "[encoded data removed]",
      "text/plain": [
       "<Figure size 640x480 with 1 Axes>"
      ]
     },
     "metadata": {},
     "output_type": "display_data"
    }
   ],
   "source": [
    "\n",
    "# Lets also look at the protein our query is the query genome and our database is going to be ecoli.\n",
    "results_prot = npy.blast(query=f'../processed_data/price.fasta',\n",
    "                         database=f'../processed_data/train_swissprot.fasta',\n",
    "                         minIdentity=0.1,\n",
    "                         maxAccepts=1,\n",
    "                         alphabet=\"protein\")\n",
    "results = pd.DataFrame(results_prot)  # Convert this into a dataframe so that we can see it more easily\n",
    "plt.hist(results['Identity'], bins=20)\n",
    "plt.title('Price similarity')"
   ]
  },
  {
   "cell_type": "code",
   "execution_count": 96,
   "metadata": {},
   "outputs": [
    {
     "name": "stdout",
     "output_type": "stream",
     "text": [
      "\n"
     ]
    },
    {
     "name": "stderr",
     "output_type": "stream",
     "text": [
      "\n",
      "   Read database: 100.0% (57 MB)                    \n",
      "Analyze database: 100.0% (167k)                    \n",
      "  Index database: 100.0% (167k)                    \n",
      "    Read queries: 100.0% (213 kB)                     \n",
      " Search database: 100.0% (539.0)                    \n",
      "      Write hits: 100.0% (539.0)                    \r"
     ]
    },
    {
     "data": {
      "text/plain": [
       "Text(0.5, 1.0, 'Promiscuous similarity')"
      ]
     },
     "execution_count": 96,
     "metadata": {},
     "output_type": "execute_result"
    },
    {
     "data": {
      "image/png": "[encoded data removed]",
      "text/plain": [
       "<Figure size 640x480 with 1 Axes>"
      ]
     },
     "metadata": {},
     "output_type": "display_data"
    }
   ],
   "source": [
    "# Lets also look at the protein our query is the query genome and our database is going to be ecoli.\n",
    "results_prot = npy.blast(query=f'../processed_data/promiscuous.fasta',\n",
    "                         database=f'../processed_data/train_swissprot.fasta',\n",
    "                         minIdentity=0.1,\n",
    "                         maxAccepts=1,\n",
    "                         alphabet=\"protein\")\n",
    "results = pd.DataFrame(results_prot)  # Convert this into a dataframe so that we can see it more easily\n",
    "plt.hist(results['Identity'], bins=20)\n",
    "plt.title('Promiscuous similarity')"
   ]
  },
  {
   "cell_type": "markdown",
   "metadata": {},
   "source": [
    "## Mabe drop the sequneces which are > 95% similar to our dataset?\n",
    "for now just skip this"
   ]
  },
  {
   "cell_type": "code",
   "execution_count": 97,
   "metadata": {},
   "outputs": [],
   "source": [
    "with open(f'../processed_data/all_test_seqs.fasta', 'w+') as fout:\n",
    "    for entry, seq in enumerate(test_pooled_seqs):\n",
    "        fout.write(f'>{entry}\\n{seq}\\n')"
   ]
  },
  {
   "cell_type": "code",
   "execution_count": 101,
   "metadata": {},
   "outputs": [
    {
     "name": "stdout",
     "output_type": "stream",
     "text": [
      "\n"
     ]
    },
    {
     "name": "stderr",
     "output_type": "stream",
     "text": [
      "\n",
      "   Read database: 100.0% (57 MB)                    \n",
      "Analyze database: 100.0% (167k)                    \n",
      "  Index database: 100.0% (167k)                    \n",
      "    Read queries: 100.0% (213 kB)                     \n",
      " Search database: 100.0% (539.0)                    \n",
      "      Write hits: 100.0% (240.0)                    \r"
     ]
    },
    {
     "data": {
      "text/plain": [
       "Text(0.5, 1.0, 'Similarity from training to test')"
      ]
     },
     "execution_count": 101,
     "metadata": {},
     "output_type": "execute_result"
    },
    {
     "data": {
      "image/png": "[encoded data removed]",
      "text/plain": [
       "<Figure size 640x480 with 1 Axes>"
      ]
     },
     "metadata": {},
     "output_type": "display_data"
    }
   ],
   "source": [
    "# Lets also look at the protein our query is the query genome and our database is going to be ecoli.\n",
    "results_prot = npy.blast(query=f'../processed_data/promiscuous.fasta', # Use swiss prot to remove seqs that it's simlar to\n",
    "                         database=f'../processed_data/train_swissprot.fasta',\n",
    "                         minIdentity=0.90,\n",
    "                         maxAccepts=1,\n",
    "                         alphabet=\"protein\")\n",
    "results = pd.DataFrame(results_prot)  # Convert this into a dataframe so that we can see it more easily\n",
    "plt.hist(results['Identity'], bins=20)\n",
    "plt.title('Similarity from training to test')"
   ]
  },
  {
   "cell_type": "code",
   "execution_count": 102,
   "metadata": {},
   "outputs": [
    {
     "data": {
      "text/plain": [
       "240"
      ]
     },
     "execution_count": 102,
     "metadata": {},
     "output_type": "execute_result"
    }
   ],
   "source": [
    "len(set(results['QueryId'].values))"
   ]
  },
  {
   "cell_type": "code",
   "execution_count": 103,
   "metadata": {},
   "outputs": [
    {
     "data": {
      "text/html": [
       "<div>\n",
       "<style scoped>\n",
       "    .dataframe tbody tr th:only-of-type {\n",
       "        vertical-align: middle;\n",
       "    }\n",
       "\n",
       "    .dataframe tbody tr th {\n",
       "        vertical-align: top;\n",
       "    }\n",
       "\n",
       "    .dataframe thead th {\n",
       "        text-align: right;\n",
       "    }\n",
       "</style>\n",
       "<table border=\"1\" class=\"dataframe\">\n",
       "  <thead>\n",
       "    <tr style=\"text-align: right;\">\n",
       "      <th></th>\n",
       "      <th>index</th>\n",
       "      <th>Entry</th>\n",
       "      <th>Sequence</th>\n",
       "      <th>EC number</th>\n",
       "      <th>Surprise Level</th>\n",
       "      <th>Number of ECs</th>\n",
       "      <th>Duplicated EC</th>\n",
       "      <th>Duplicated Sequence</th>\n",
       "      <th>EC simple</th>\n",
       "    </tr>\n",
       "  </thead>\n",
       "  <tbody>\n",
       "    <tr>\n",
       "      <th>0</th>\n",
       "      <td>4072</td>\n",
       "      <td>P9WGT3</td>\n",
       "      <td>MTATATEGAKPPFVSRSVLVTGGNRGIGLAIAQRLAADGHKVAVTH...</td>\n",
       "      <td>[1.1.1.100, 1.1.1.36]</td>\n",
       "      <td>1</td>\n",
       "      <td>2</td>\n",
       "      <td>True</td>\n",
       "      <td>False</td>\n",
       "      <td>1.1.1.100_1.1.1.36</td>\n",
       "    </tr>\n",
       "    <tr>\n",
       "      <th>2</th>\n",
       "      <td>4267</td>\n",
       "      <td>Q09851</td>\n",
       "      <td>MEAEKFVLITGCSEGGIGNALALKFHQEGFQVLATARQVERMDNLT...</td>\n",
       "      <td>[1.1.1.101, 3.1.1.3]</td>\n",
       "      <td>4</td>\n",
       "      <td>2</td>\n",
       "      <td>True</td>\n",
       "      <td>False</td>\n",
       "      <td>1.1.1.101_3.1.1.3</td>\n",
       "    </tr>\n",
       "    <tr>\n",
       "      <th>4</th>\n",
       "      <td>8233</td>\n",
       "      <td>Q9R092</td>\n",
       "      <td>MWFYLVTLVGLYHLLRWYRERQVVSHLQDKYVFITGCDSGFGNLLA...</td>\n",
       "      <td>[1.1.1.105, 1.1.1.209, 1.1.1.239, 1.1.1.53, 1....</td>\n",
       "      <td>1</td>\n",
       "      <td>5</td>\n",
       "      <td>True</td>\n",
       "      <td>False</td>\n",
       "      <td>1.1.1.105_1.1.1.209_1.1.1.239_1.1.1.53_1.1.1.62</td>\n",
       "    </tr>\n",
       "    <tr>\n",
       "      <th>5</th>\n",
       "      <td>2871</td>\n",
       "      <td>O54909</td>\n",
       "      <td>MWLYLVALVGLWTLLRFFRVRQVVSHLQDKYVFITGCDSGFGTLLA...</td>\n",
       "      <td>[1.1.1.105, 1.1.1.209, 1.1.1.315, 1.1.1.53]</td>\n",
       "      <td>1</td>\n",
       "      <td>4</td>\n",
       "      <td>True</td>\n",
       "      <td>False</td>\n",
       "      <td>1.1.1.105_1.1.1.209_1.1.1.315_1.1.1.53</td>\n",
       "    </tr>\n",
       "    <tr>\n",
       "      <th>6</th>\n",
       "      <td>7885</td>\n",
       "      <td>Q9BPW9</td>\n",
       "      <td>MLFWVLGLLILCGFLWTRKGKLKIEDITDKYIFITGCDSGFGNLAA...</td>\n",
       "      <td>[1.1.1.105, 1.1.1.209, 1.1.1.53]</td>\n",
       "      <td>1</td>\n",
       "      <td>3</td>\n",
       "      <td>True</td>\n",
       "      <td>False</td>\n",
       "      <td>1.1.1.105_1.1.1.209_1.1.1.53</td>\n",
       "    </tr>\n",
       "    <tr>\n",
       "      <th>...</th>\n",
       "      <td>...</td>\n",
       "      <td>...</td>\n",
       "      <td>...</td>\n",
       "      <td>...</td>\n",
       "      <td>...</td>\n",
       "      <td>...</td>\n",
       "      <td>...</td>\n",
       "      <td>...</td>\n",
       "      <td>...</td>\n",
       "    </tr>\n",
       "    <tr>\n",
       "      <th>530</th>\n",
       "      <td>3558</td>\n",
       "      <td>P36967</td>\n",
       "      <td>MISAGMIARNFGKRFFSTKPSVLINKHTKVICQGFTGNQGTFHSKQ...</td>\n",
       "      <td>[6.2.1.4, 6.2.1.5]</td>\n",
       "      <td>1</td>\n",
       "      <td>2</td>\n",
       "      <td>True</td>\n",
       "      <td>False</td>\n",
       "      <td>6.2.1.4_6.2.1.5</td>\n",
       "    </tr>\n",
       "    <tr>\n",
       "      <th>533</th>\n",
       "      <td>3124</td>\n",
       "      <td>P08192</td>\n",
       "      <td>MIIKRTPQAASPLASWLSYLENLHSKTIDLGLERVSLVAARLGVLK...</td>\n",
       "      <td>[6.3.2.12, 6.3.2.17]</td>\n",
       "      <td>1</td>\n",
       "      <td>2</td>\n",
       "      <td>True</td>\n",
       "      <td>False</td>\n",
       "      <td>6.3.2.12_6.3.2.17</td>\n",
       "    </tr>\n",
       "    <tr>\n",
       "      <th>534</th>\n",
       "      <td>6724</td>\n",
       "      <td>Q75UN0</td>\n",
       "      <td>MALEILGVEGIPEVDAGADLAGLIAKAGTYRDGDILLVTSKVVSKA...</td>\n",
       "      <td>[6.3.2.31, 6.3.2.34]</td>\n",
       "      <td>1</td>\n",
       "      <td>2</td>\n",
       "      <td>True</td>\n",
       "      <td>False</td>\n",
       "      <td>6.3.2.31_6.3.2.34</td>\n",
       "    </tr>\n",
       "    <tr>\n",
       "      <th>535</th>\n",
       "      <td>7378</td>\n",
       "      <td>Q8IXN7</td>\n",
       "      <td>MCSQLWFLTDRRIREDYPQVQILRALRQRCSEQDVRFRAVLMDQIA...</td>\n",
       "      <td>[6.3.2.41, 6.3.2.42]</td>\n",
       "      <td>1</td>\n",
       "      <td>2</td>\n",
       "      <td>True</td>\n",
       "      <td>False</td>\n",
       "      <td>6.3.2.41_6.3.2.42</td>\n",
       "    </tr>\n",
       "    <tr>\n",
       "      <th>536</th>\n",
       "      <td>7536</td>\n",
       "      <td>Q8TWX0</td>\n",
       "      <td>MPETPNKVLIIGSGPIIVGQAAEFDYSGSQACKALREEGVEVVLVN...</td>\n",
       "      <td>[6.3.4.16, 6.3.5.5]</td>\n",
       "      <td>2</td>\n",
       "      <td>2</td>\n",
       "      <td>True</td>\n",
       "      <td>False</td>\n",
       "      <td>6.3.4.16_6.3.5.5</td>\n",
       "    </tr>\n",
       "  </tbody>\n",
       "</table>\n",
       "<p>299 rows × 9 columns</p>\n",
       "</div>"
      ],
      "text/plain": [
       "     index   Entry                                           Sequence  \\\n",
       "0     4072  P9WGT3  MTATATEGAKPPFVSRSVLVTGGNRGIGLAIAQRLAADGHKVAVTH...   \n",
       "2     4267  Q09851  MEAEKFVLITGCSEGGIGNALALKFHQEGFQVLATARQVERMDNLT...   \n",
       "4     8233  Q9R092  MWFYLVTLVGLYHLLRWYRERQVVSHLQDKYVFITGCDSGFGNLLA...   \n",
       "5     2871  O54909  MWLYLVALVGLWTLLRFFRVRQVVSHLQDKYVFITGCDSGFGTLLA...   \n",
       "6     7885  Q9BPW9  MLFWVLGLLILCGFLWTRKGKLKIEDITDKYIFITGCDSGFGNLAA...   \n",
       "..     ...     ...                                                ...   \n",
       "530   3558  P36967  MISAGMIARNFGKRFFSTKPSVLINKHTKVICQGFTGNQGTFHSKQ...   \n",
       "533   3124  P08192  MIIKRTPQAASPLASWLSYLENLHSKTIDLGLERVSLVAARLGVLK...   \n",
       "534   6724  Q75UN0  MALEILGVEGIPEVDAGADLAGLIAKAGTYRDGDILLVTSKVVSKA...   \n",
       "535   7378  Q8IXN7  MCSQLWFLTDRRIREDYPQVQILRALRQRCSEQDVRFRAVLMDQIA...   \n",
       "536   7536  Q8TWX0  MPETPNKVLIIGSGPIIVGQAAEFDYSGSQACKALREEGVEVVLVN...   \n",
       "\n",
       "                                             EC number  Surprise Level  \\\n",
       "0                                [1.1.1.100, 1.1.1.36]               1   \n",
       "2                                 [1.1.1.101, 3.1.1.3]               4   \n",
       "4    [1.1.1.105, 1.1.1.209, 1.1.1.239, 1.1.1.53, 1....               1   \n",
       "5          [1.1.1.105, 1.1.1.209, 1.1.1.315, 1.1.1.53]               1   \n",
       "6                     [1.1.1.105, 1.1.1.209, 1.1.1.53]               1   \n",
       "..                                                 ...             ...   \n",
       "530                                 [6.2.1.4, 6.2.1.5]               1   \n",
       "533                               [6.3.2.12, 6.3.2.17]               1   \n",
       "534                               [6.3.2.31, 6.3.2.34]               1   \n",
       "535                               [6.3.2.41, 6.3.2.42]               1   \n",
       "536                                [6.3.4.16, 6.3.5.5]               2   \n",
       "\n",
       "     Number of ECs  Duplicated EC  Duplicated Sequence  \\\n",
       "0                2           True                False   \n",
       "2                2           True                False   \n",
       "4                5           True                False   \n",
       "5                4           True                False   \n",
       "6                3           True                False   \n",
       "..             ...            ...                  ...   \n",
       "530              2           True                False   \n",
       "533              2           True                False   \n",
       "534              2           True                False   \n",
       "535              2           True                False   \n",
       "536              2           True                False   \n",
       "\n",
       "                                           EC simple  \n",
       "0                                 1.1.1.100_1.1.1.36  \n",
       "2                                  1.1.1.101_3.1.1.3  \n",
       "4    1.1.1.105_1.1.1.209_1.1.1.239_1.1.1.53_1.1.1.62  \n",
       "5             1.1.1.105_1.1.1.209_1.1.1.315_1.1.1.53  \n",
       "6                       1.1.1.105_1.1.1.209_1.1.1.53  \n",
       "..                                               ...  \n",
       "530                                  6.2.1.4_6.2.1.5  \n",
       "533                                6.3.2.12_6.3.2.17  \n",
       "534                                6.3.2.31_6.3.2.34  \n",
       "535                                6.3.2.41_6.3.2.42  \n",
       "536                                 6.3.4.16_6.3.5.5  \n",
       "\n",
       "[299 rows x 9 columns]"
      ]
     },
     "execution_count": 103,
     "metadata": {},
     "output_type": "execute_result"
    }
   ],
   "source": [
    "# Remove these from the promiscuous test dataset\n",
    "promiscuous = promiscuous[~promiscuous['Entry'].isin(list(set(results['QueryId'].values)))]\n",
    "promiscuous"
   ]
  },
  {
   "cell_type": "code",
   "execution_count": 57,
   "metadata": {},
   "outputs": [],
   "source": [
    "# Save each to a csv for testing and validation\n",
    "with open(f'../processed_data/protein2EC_train.fasta', 'w') as f:\n",
    "    for entry, sequence in train_swissprot[['Entry', 'Sequence']].values:\n",
    "        f.write('>{}\\n{}\\n'.format(entry, sequence))"
   ]
  },
  {
   "cell_type": "code",
   "execution_count": 58,
   "metadata": {},
   "outputs": [],
   "source": [
    "# Save each to a csv for testing and validation\n",
    "with open(f'../processed_data/price_protein_test.fasta', 'w') as f:\n",
    "    for entry, sequence in price[['Entry', 'Sequence']].values:\n",
    "        f.write('>{}\\n{}\\n'.format(entry, sequence))"
   ]
  },
  {
   "cell_type": "code",
   "execution_count": 59,
   "metadata": {},
   "outputs": [],
   "source": [
    "# Save each to a csv for testing and validation\n",
    "with open(f'../processed_data/validation_30.fasta', 'w') as f:\n",
    "    for entry, sequence in validation_30[['Entry', 'Sequence']].values:\n",
    "        f.write('>{}\\n{}\\n'.format(entry, sequence))"
   ]
  },
  {
   "cell_type": "code",
   "execution_count": 60,
   "metadata": {},
   "outputs": [],
   "source": [
    "# Save each to a csv for testing and validation\n",
    "with open(f'../processed_data/validation_50.fasta', 'w') as f:\n",
    "    for entry, sequence in validation_50[['Entry', 'Sequence']].values:\n",
    "        f.write('>{}\\n{}\\n'.format(entry, sequence))"
   ]
  },
  {
   "cell_type": "code",
   "execution_count": 61,
   "metadata": {},
   "outputs": [],
   "source": [
    "# Save each to a csv for testing and validation\n",
    "with open(f'../processed_data/validation_70.fasta', 'w') as f:\n",
    "    for entry, sequence in validation_70[['Entry', 'Sequence']].values:\n",
    "        f.write('>{}\\n{}\\n'.format(entry, sequence))"
   ]
  },
  {
   "cell_type": "code",
   "execution_count": 62,
   "metadata": {},
   "outputs": [],
   "source": [
    "# Save each to a csv for testing and validation\n",
    "with open(f'../processed_data/validation_90.fasta', 'w') as f:\n",
    "    for entry, sequence in validation_90[['Entry', 'Sequence']].values:\n",
    "        f.write('>{}\\n{}\\n'.format(entry, sequence))"
   ]
  },
  {
   "cell_type": "code",
   "execution_count": 63,
   "metadata": {},
   "outputs": [],
   "source": [
    "# Save each to a csv for testing and validation\n",
    "with open(f'../processed_data/promiscuous.fasta', 'w') as f:\n",
    "    for entry, sequence in promiscuous[['Entry', 'Sequence']].values:\n",
    "        f.write('>{}\\n{}\\n'.format(entry, sequence))"
   ]
  },
  {
   "cell_type": "markdown",
   "metadata": {},
   "source": [
    "# Basically we can drop any sequence in the training set that had a sample > 95% similarity in the test set?"
   ]
  },
  {
   "cell_type": "markdown",
   "metadata": {},
   "source": [
    "## For each of the training datasets, map the most similar sequence in the database to check for sequence similarity"
   ]
  },
  {
   "cell_type": "code",
   "execution_count": null,
   "metadata": {},
   "outputs": [],
   "source": [
    "#save indices of train_swissprot to txt\n",
    "np.savetxt('../splits/task1/protein2EC_train_indices.txt', train_swissprot.index, fmt='%d')"
   ]
  }
 ],
 "metadata": {
  "kernelspec": {
   "display_name": "Python 3 (ipykernel)",
   "language": "python",
   "name": "python3"
  },
  "language_info": {
   "codemirror_mode": {
    "name": "ipython",
    "version": 3
   },
   "file_extension": ".py",
   "mimetype": "text/x-python",
   "name": "python",
   "nbconvert_exporter": "python",
   "pygments_lexer": "ipython3",
   "version": "3.8.18"
  }
 },
 "nbformat": 4,
 "nbformat_minor": 4
}
