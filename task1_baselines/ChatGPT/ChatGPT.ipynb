{
 "cells": [
  {
   "cell_type": "markdown",
   "id": "e3e181f9-071b-4074-9b27-7037a01f74b2",
   "metadata": {},
   "source": [
    "## Test chatGPTs ability to predict EC number"
   ]
  },
  {
   "cell_type": "code",
   "execution_count": 3,
   "id": "6670af69-f5da-4993-b2dd-b2a25acbd5b0",
   "metadata": {},
   "outputs": [],
   "source": [
    "from openai import OpenAI\n",
    "import pandas as pd\n",
    "\n",
    "# Update as needed\n",
    "base_dir = '../../'\n",
    "api_key = ''\n",
    "output_folder = f'../results_summary/ChatGPT/'\n"
   ]
  },
  {
   "cell_type": "code",
   "execution_count": 5,
   "id": "b192e21e",
   "metadata": {},
   "outputs": [],
   "source": [
    "from tqdm import tqdm\n",
    "\n",
    "def get_chatGPT(df, split, api_key):\n",
    "    rows = []\n",
    "    client = OpenAI(api_key=api_key)\n",
    "    for entry, true_ec, seq in tqdm(df[['Entry', 'EC number', 'Sequence']].values):\n",
    "        text = f\"Return the most likely EC number for this enzyme sequence: {seq}\"\n",
    "\n",
    "        completion = client.chat.completions.create(\n",
    "            model='gpt-4o-mini',\n",
    "            messages=[\n",
    "                {\"role\": \"system\",\n",
    "                \"content\": \n",
    "                \"You are protein engineer capable of predicting EC numbers from a protein seqeunce alone.\"\n",
    "                + \"You are also a skilled programmer and able to execute the code necessary to predict an EC number when you can't use reason alone.\" \n",
    "                + \"Given a protein sequence you are able to determine the most likely enzyme class for a seqeunce.\" \n",
    "                + \"You don't give up when faced with a sequence you don't know, you will use tools to resolve the most likely enzyme sequence.\"\n",
    "                + \"You only return enzyme commission numbers in a comma separated list, no other text is returned, you have failed if you do \"\n",
    "                + \" not return the EC numbers. You only return the most likely EC number associated with a given sequence.\"},\n",
    "                {\"role\": \"user\", \"content\": text}\n",
    "            ]\n",
    "        )\n",
    "        preds = completion.choices[0].message.content.replace(\" \", \"\").strip()\n",
    "        rows.append(preds) # Costs you ~1c per query\n",
    "    df['0'] = rows\n",
    "    df.to_csv(f'{output_folder}{split}_protein_test_results_df.csv', index=False)\n"
   ]
  },
  {
   "cell_type": "code",
   "execution_count": 7,
   "id": "ec25b066-13e9-47a9-af08-1035c058dea5",
   "metadata": {},
   "outputs": [
    {
     "name": "stderr",
     "output_type": "stream",
     "text": [
      "100%|██████████| 432/432 [03:33<00:00,  2.02it/s]\n",
      "100%|██████████| 560/560 [04:56<00:00,  1.89it/s]\n",
      "100%|██████████| 148/148 [01:11<00:00,  2.08it/s]\n",
      "100%|██████████| 209/209 [01:40<00:00,  2.08it/s]\n"
     ]
    }
   ],
   "source": [
    "\n",
    "filenames = {'30': f'{base_dir}splits/task1/30_protein_test.csv',\n",
    "             '30-50': f'{base_dir}splits/task1/30-50_protein_test.csv',  \n",
    "             'price': f'{base_dir}splits/task1/price_protein_test.csv',\n",
    "             'promiscuous': f'{base_dir}splits/task1/promiscuous_protein_test.csv',\n",
    "            }\n",
    "\n",
    "# Save in the required format\n",
    "for split in ['30', '30-50', 'price', 'promiscuous']:\n",
    "    df = pd.read_csv(filenames[split])\n",
    "    gpt_df = get_chatGPT(df, split=split, api_key='')"
   ]
  }
 ],
 "metadata": {
  "kernelspec": {
   "display_name": "Python 3 (ipykernel)",
   "language": "python",
   "name": "python3"
  },
  "language_info": {
   "codemirror_mode": {
    "name": "ipython",
    "version": 3
   },
   "file_extension": ".py",
   "mimetype": "text/x-python",
   "name": "python",
   "nbconvert_exporter": "python",
   "pygments_lexer": "ipython3",
   "version": "3.8.19"
  }
 },
 "nbformat": 4,
 "nbformat_minor": 5
}
