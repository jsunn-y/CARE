{
 "cells": [
  {
   "cell_type": "markdown",
   "id": "e3e181f9-071b-4074-9b27-7037a01f74b2",
   "metadata": {},
   "source": [
    "## Test chatGPTs ability to predict EC number"
   ]
  },
  {
   "cell_type": "code",
   "execution_count": 11,
   "id": "6670af69-f5da-4993-b2dd-b2a25acbd5b0",
   "metadata": {},
   "outputs": [],
   "source": [
    "from openai import OpenAI\n",
    "import pandas as pd\n",
    "\n",
    "# Update as needed\n",
    "base_dir = '../'\n",
    "api_key = ''"
   ]
  },
  {
   "cell_type": "code",
   "execution_count": 20,
   "id": "ec25b066-13e9-47a9-af08-1035c058dea5",
   "metadata": {},
   "outputs": [
    {
     "name": "stdout",
     "output_type": "stream",
     "text": [
      "Done split\n",
      "Done split\n",
      "Done split\n"
     ]
    }
   ],
   "source": [
    "\n",
    "filenames = {'30': f'{base_dir}splits/task1/30_protein_test.csv',\n",
    "             '30-50': f'{base_dir}splits/task1/30-50_protein_test.csv',  \n",
    "             'price': f'{base_dir}splits/task1/price_protein_test.csv',\n",
    "             'promiscuous': f'{base_dir}splits/task1/promiscuous_protein_test.csv',\n",
    "            }\n",
    "\n",
    "def get_ChatGPT(test_label, n=10, save=False):\n",
    "    \"\"\"\n",
    "    Gets the results for a series of ECs and formats it correctly for the paper\n",
    "    \"\"\"\n",
    "    # Lets also look at the protein our query is the query genome and our database is going to be ecoli.\n",
    "    # ToDo: make more modula.\n",
    "    model = \"gpt-4\"\n",
    "    client = OpenAI(api_key=api_key)\n",
    "    df = pd.read_csv(filenames.get(test_label))\n",
    "    rows = []\n",
    "    for entry, true_ec, seq in df[['Entry', 'EC number', 'Sequence']].values:\n",
    "        text = f\"Return the top {n} most likely EC numbers as a comma separated list for this enzyme sequence: {seq}\"\n",
    "\n",
    "        completion = client.chat.completions.create(\n",
    "            model='gpt-4',\n",
    "            messages=[\n",
    "                {\"role\": \"system\",\n",
    "                \"content\": \n",
    "                \"You are protein engineer capable of predicting EC numbers from a protein seqeunce alone.\"\n",
    "                + \"You are also a skilled programmer and able to execute the code necessary to predict an EC number when you can't use reason alone.\" \n",
    "                + \"Given a protein sequence you are able to determine the most likely enzyme class for a seqeunce.\" \n",
    "                + \"You don't give up when faced with a sequence you don't know, you will use tools to resolve the most likely enzyme sequence.\"\n",
    "                + \"You only return enzyme commission numbers in a comma separated list, no other text is returned, you have failed if you do \"\n",
    "                + \" not return the EC numbers. You only return the exact number of EC numbers that a user has provided requested, ordered by their likelihood of being correct.\"},\n",
    "                {\"role\": \"user\", \"content\": text}\n",
    "            ]\n",
    "        )\n",
    "        preds = completion.choices[0].message.content.replace(\" \", \"\").split(',')\n",
    "        for p in preds:\n",
    "            rows.append([entry, true_ec, p, seq]) # Costs you ~1c per query\n",
    "    results = pd.DataFrame(rows)\n",
    "    results.columns = ['entry',  'true_ecs', 'predicted_ecs', 'seq']\n",
    "    grped = results.groupby('entry')\n",
    "    max_ecs = 0\n",
    "    rows = []\n",
    "    for query, grp in grped:\n",
    "        # Always will be the same for the grouped \n",
    "        true_ec = grp['true_ecs'].values[0]\n",
    "        seq = grp['seq'].values[0]\n",
    "        # Filter to only include rows which were not null\n",
    "        grp = grp[~grp['predicted_ecs'].isna()]\n",
    "        grp = grp[grp['predicted_ecs'] != 'None']\n",
    "        grp = grp.sort_values(by='predicted_ecs', ascending=False)\n",
    "\n",
    "        if len(list(grp['predicted_ecs'].values)) > max_ecs:\n",
    "            max_ecs = len(list(grp['predicted_ecs'].values))\n",
    "        if len(list(grp['predicted_ecs'].values)) == 0:\n",
    "            rows.append([query, true_ec, seq, ''])\n",
    "        else:\n",
    "            rows.append([query, true_ec, seq] + list(grp['predicted_ecs'].values))\n",
    "    new_df = pd.DataFrame(rows)\n",
    "    new_df.columns = ['Entry', 'EC number', 'Sequence'] + list(range(0, max_ecs))\n",
    "\n",
    "    # Since we may have no similar ones we'll add in these as a dummy\n",
    "    new_df = new_df.fillna('0.0.0.0')\n",
    "    # Save to a file in the default location\n",
    "    if save:\n",
    "        new_df.to_csv(f'{output_folder}{test_label}_protein_test_results_df.csv', index=False)\n",
    "    return new_df\n",
    "\n",
    "\n",
    "output_folder = f'{base_dir}task1_baselines/results_summary/ChatGPT/'\n",
    "# Save in the required format\n",
    "for split in ['30-50', 'price', 'promiscuous']:\n",
    "    get_ChatGPT(split, save=True)\n",
    "    print(\"Done split\")"
   ]
  }
 ],
 "metadata": {
  "kernelspec": {
   "display_name": "Python 3 (ipykernel)",
   "language": "python",
   "name": "python3"
  },
  "language_info": {
   "codemirror_mode": {
    "name": "ipython",
    "version": 3
   },
   "file_extension": ".py",
   "mimetype": "text/x-python",
   "name": "python",
   "nbconvert_exporter": "python",
   "pygments_lexer": "ipython3",
   "version": "3.11.5"
  }
 },
 "nbformat": 4,
 "nbformat_minor": 5
}
