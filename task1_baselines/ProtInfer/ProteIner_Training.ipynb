{
 "cells": [
  {
   "cell_type": "markdown",
   "id": "8fc89806-f93b-400d-a08f-a2d7040d2982",
   "metadata": {},
   "source": [
    "# Train \n",
    "\n",
    "\n",
    "## Train the model\n",
    "Unfortunatly insufficient data is provided to train the model.\n",
    "```\n",
    "python train.py --data_base_path=./testdata/ \\\n",
    "--label_vocab_path=./data/vocabs/EC.tsv \\\n",
    "--hparams_set=small_test_model \\\n",
    "--output_dir=trained_baseline1\n",
    "```"
   ]
  },
  {
   "cell_type": "code",
   "execution_count": 1,
   "id": "81df0962-b604-4b21-ac65-6bc9df3e8ce4",
   "metadata": {},
   "outputs": [
    {
     "name": "stdout",
     "output_type": "stream",
     "text": [
      "The history saving thread hit an unexpected error (OperationalError('attempt to write a readonly database')).History will not be written to the database.\n"
     ]
    },
    {
     "ename": "ModuleNotFoundError",
     "evalue": "No module named 'tensorflow'",
     "output_type": "error",
     "traceback": [
      "\u001b[0;31m---------------------------------------------------------------------------\u001b[0m",
      "\u001b[0;31mModuleNotFoundError\u001b[0m                       Traceback (most recent call last)",
      "Cell \u001b[0;32mIn[1], line 1\u001b[0m\n\u001b[0;32m----> 1\u001b[0m \u001b[38;5;28;01mimport\u001b[39;00m \u001b[38;5;21;01mtensorflow\u001b[39;00m \u001b[38;5;28;01mas\u001b[39;00m \u001b[38;5;21;01mtf\u001b[39;00m\n\u001b[1;32m      3\u001b[0m \u001b[38;5;66;03m# Define the path to your TFRecord file\u001b[39;00m\n\u001b[1;32m      4\u001b[0m tfrecord_file \u001b[38;5;241m=\u001b[39m \u001b[38;5;124m\"\u001b[39m\u001b[38;5;124m/disk1/ariane/pycharm/CARE/proteinfer/testdata/train-00000-of-00001.tfrecord\u001b[39m\u001b[38;5;124m\"\u001b[39m\n",
      "\u001b[0;31mModuleNotFoundError\u001b[0m: No module named 'tensorflow'"
     ]
    }
   ],
   "source": [
    "import tensorflow as tf\n",
    "\n",
    "# Define the path to your TFRecord file\n",
    "tfrecord_file = \"/disk1/ariane/pycharm/CARE/proteinfer/testdata/train-00000-of-00001.tfrecord\"\n",
    "\n",
    "# Create a raw dataset from the TFRecord file\n",
    "raw_dataset = tf.data.TFRecordDataset(tfrecord_file)"
   ]
  }
 ],
 "metadata": {
  "kernelspec": {
   "display_name": "Python 3 (ipykernel)",
   "language": "python",
   "name": "python3"
  },
  "language_info": {
   "codemirror_mode": {
    "name": "ipython",
    "version": 3
   },
   "file_extension": ".py",
   "mimetype": "text/x-python",
   "name": "python",
   "nbconvert_exporter": "python",
   "pygments_lexer": "ipython3",
   "version": "3.8.19"
  }
 },
 "nbformat": 4,
 "nbformat_minor": 5
}
