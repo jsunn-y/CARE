{
 "cells": [
  {
   "cell_type": "markdown",
   "id": "6028f2e5-3ac7-46d6-9022-60293b851da6",
   "metadata": {},
   "source": [
    "# Install protinfer \n",
    "\n",
    "Note protinfer was not re-trained so may be slightly biased.\n",
    "\n",
    "Protinfer needs to be installed as per the guidelines and then the following command (then CARE will take care of the rest!)\n",
    "\n",
    "```\n",
    "git clone https://github.com/google-research/proteinfer\n",
    "cd ~/proteinfer\n",
    "pip3 install -r requirements.txt\n",
    "python3 install_models.py\n",
    "```\n",
    "\n",
    "Example to run (you don't need this for our benchmarking pipeline but it may be useful to know!)\n",
    "\n",
    "```\n",
    "python3 proteinfer.py -i price.fasta -o price.tsv\n",
    "```\n"
   ]
  },
  {
   "cell_type": "markdown",
   "id": "2164184b-6813-45a7-8fbc-5ff56427f628",
   "metadata": {},
   "source": [
    "## Run CARE"
   ]
  },
  {
   "cell_type": "code",
   "execution_count": 1,
   "id": "4db7d782-8e98-4514-8f92-b29883939c65",
   "metadata": {},
   "outputs": [],
   "source": [
    "import sys\n",
    "sys.path.append('/disk1/ariane/vscode/CARE/')\n",
    "sys.path.append('/disk1/ariane/vscode/CARE/CARE/')\n",
    "\n",
    "from CARE.processing import *\n",
    "from CARE.task1 import *\n",
    "\n",
    "data_dir = '/disk1/ariane/vscode/CARE/data/task1/'\n",
    "output_dir = '/disk1/ariane/vscode/CARE/task1_baselines/results_summary/ProteInfer/'"
   ]
  },
  {
   "cell_type": "code",
   "execution_count": 2,
   "id": "4f792226-7d38-4b14-8178-55db9bc46fb8",
   "metadata": {},
   "outputs": [
    {
     "name": "stdout",
     "output_type": "stream",
     "text": [
      "\u001b[94m--------------------------------------------------------------------------------\u001b[0m\n",
      "\u001b[94m        Warning! You must already have the proteInfer environment made\t         \u001b[0m\n",
      "\u001b[94m--------------------------------------------------------------------------------\u001b[0m\n",
      "/disk1/ariane/vscode/CARE/data/task1/30_protein_test.fasta\n"
     ]
    }
   ],
   "source": [
    "# Save in the required format\n",
    "# Make a task1\n",
    "tasker = Task1(data_folder=data_dir, output_folder=output_dir)\n",
    "for split in ['30', '30-50', 'price', 'promiscuous']:\n",
    "    # For proteInfer you need to point where it was saved.\n",
    "    tasker.get_proteinfer(split, proteinfer_dir='/disk1/ariane/pycharm/CARE/proteinfer/', save=True)"
   ]
  },
  {
   "cell_type": "markdown",
   "id": "5fb62c6f",
   "metadata": {},
   "source": [
    "## Train the model\n",
    "Future work may include training the model:\n",
    "```\n",
    "python train.py --data_base_path=./testdata/ \\\n",
    "--label_vocab_path=./data/vocabs/EC.tsv \\\n",
    "--hparams_set=small_test_model \\\n",
    "--output_dir=trained_baseline1\n",
    "```"
   ]
  }
 ],
 "metadata": {
  "kernelspec": {
   "display_name": "Python 3 (ipykernel)",
   "language": "python",
   "name": "python3"
  },
  "language_info": {
   "codemirror_mode": {
    "name": "ipython",
    "version": 3
   },
   "file_extension": ".py",
   "mimetype": "text/x-python",
   "name": "python",
   "nbconvert_exporter": "python",
   "pygments_lexer": "ipython3",
   "version": "3.8.19"
  }
 },
 "nbformat": 4,
 "nbformat_minor": 5
}
