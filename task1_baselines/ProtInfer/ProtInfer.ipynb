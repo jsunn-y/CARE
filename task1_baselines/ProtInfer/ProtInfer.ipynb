{
 "cells": [
  {
   "cell_type": "markdown",
   "id": "6028f2e5-3ac7-46d6-9022-60293b851da6",
   "metadata": {},
   "source": [
    "# Install protinfer \n",
    "\n",
    "```\n",
    "git clone https://github.com/google-research/proteinfer\n",
    "cd ~/proteinfer\n",
    "pip3 install -r requirements.txt\n",
    "python3 install_models.py\n",
    "```\n",
    "\n",
    "## Train the model\n",
    "Unfortunatly insufficient data is provided to train the model.\n",
    "```\n",
    "python train.py --data_base_path=./testdata/ \\\n",
    "--label_vocab_path=./data/vocabs/EC.tsv \\\n",
    "--hparams_set=small_test_model \\\n",
    "--output_dir=trained_baseline1\n",
    "```\n",
    "Next run the following:\n",
    "\n",
    "```\n",
    "python3 proteinfer.py -i /disk1/ariane/pycharm/CARE/CLEAN/app/data/price.fasta -o ~/hemoglobin_predictions.tsv\n",
    "```\n"
   ]
  },
  {
   "cell_type": "code",
   "execution_count": 2,
   "id": "1c7b88ef-5234-4baf-b68b-832b9bc0533c",
   "metadata": {},
   "outputs": [],
   "source": [
    "import pandas as pd\n",
    "from sciutil import SciUtil\n",
    "\n",
    "u = SciUtil()\n",
    "\n",
    "base_dir = '/disk1/ariane/pycharm/CARE/'\n",
    "output_folder = f'{base_dir}task1_baselines/results_summary/ProteInfer/'\n",
    "task1_splits = ['30', '30-50', 'price', 'promiscuous']"
   ]
  },
  {
   "cell_type": "markdown",
   "id": "dfb91cee-a29b-472d-85c7-716a5db8adad",
   "metadata": {},
   "source": [
    "## Run protinfer\n",
    "\n",
    "Note protinfer was not re-trained so may be slightly biased.\n",
    "\n",
    "Protinfer needs to be installed as per the guidelines and then the following command can be run from the protinfer folder:"
   ]
  },
  {
   "cell_type": "code",
   "execution_count": 7,
   "id": "f587b33e-007e-44c9-ae04-26b49a0177d6",
   "metadata": {},
   "outputs": [
    {
     "name": "stdout",
     "output_type": "stream",
     "text": [
      "python3 proteinfer.py -i /disk1/ariane/pycharm/CARE/splits/task1/30-50_protein_test.fasta -o /disk1/ariane/pycharm/CARE/output/protinfer/30-50_protein_test.tsv\n",
      "python3 proteinfer.py -i /disk1/ariane/pycharm/CARE/splits/task1/30_protein_test.fasta -o /disk1/ariane/pycharm/CARE/output/protinfer/30_protein_test.tsv\n",
      "python3 proteinfer.py -i /disk1/ariane/pycharm/CARE/splits/task1/50-70_protein_test.fasta -o /disk1/ariane/pycharm/CARE/output/protinfer/50-70_protein_test.tsv\n",
      "python3 proteinfer.py -i /disk1/ariane/pycharm/CARE/splits/task1/70-90_protein_test.fasta -o /disk1/ariane/pycharm/CARE/output/protinfer/70-90_protein_test.tsv\n",
      "python3 proteinfer.py -i /disk1/ariane/pycharm/CARE/splits/task1/promiscuous_protein_test.fasta -o /disk1/ariane/pycharm/CARE/output/protinfer/promiscuous_protein_test.tsv\n",
      "python3 proteinfer.py -i /disk1/ariane/pycharm/CARE/splits/task1/protein_train.fasta -o /disk1/ariane/pycharm/CARE/output/protinfer/protein_train.tsv\n",
      "python3 proteinfer.py -i /disk1/ariane/pycharm/CARE/splits/task1/price_protein_test.fasta -o /disk1/ariane/pycharm/CARE/output/protinfer/price_protein_test.tsv\n"
     ]
    }
   ],
   "source": [
    "import os\n",
    "\n",
    "filenames = [f'{base_dir}splits/task1/30-50_protein_test.csv', \n",
    "             f'{base_dir}splits/task1/30_protein_test.csv', \n",
    "             f'{base_dir}splits/task1/50-70_protein_test.csv',\n",
    "             f'{base_dir}splits/task1/70-90_protein_test.csv',\n",
    "             f'{base_dir}splits/task1/promiscuous_protein_test.csv',\n",
    "             f'{base_dir}splits/task1/protein_train.csv',\n",
    "             f'{base_dir}splits/task1/price_protein_test.csv']\n",
    "for f in filenames:\n",
    "    print(f'python3 proteinfer.py -i {f.replace(\".csv\", \".fasta\")} -o /disk1/ariane/pycharm/CARE/output/protinfer/{f.split(\"/\")[-1].replace(\".csv\", \".tsv\")}')"
   ]
  },
  {
   "cell_type": "markdown",
   "id": "2164184b-6813-45a7-8fbc-5ff56427f628",
   "metadata": {},
   "source": [
    "## Format the dataframe"
   ]
  },
  {
   "cell_type": "code",
   "execution_count": 3,
   "id": "4db7d782-8e98-4514-8f92-b29883939c65",
   "metadata": {},
   "outputs": [],
   "source": [
    "def get_uniprot2ec():\n",
    "    swissprot = pd.read_csv(f'{base_dir}processed_data/protein2EC.csv')\n",
    "    id2ec = swissprot.set_index('Entry')['EC number'].to_dict()\n",
    "    return id2ec\n",
    "\n",
    "def get_price2ec():\n",
    "    df = pd.read_csv(f'{base_dir}splits/task1/price_protein_test.csv')\n",
    "    id2ec = df.set_index('Entry')['EC number'].to_dict()\n",
    "    return id2ec\n",
    "\n",
    "def get_test_df(label):\n",
    "    return pd.read_csv(f'{base_dir}splits/task1/{label}_protein_test.csv')\n",
    "\n",
    "\n",
    "def get_proteinfer(test_label, save=False):\n",
    "    \"\"\"\n",
    "    Gets the results for a series of ECs and formats it correctly for the paper\n",
    "    \"\"\"\n",
    "    # Lets also look at the protein our query is the query genome and our database is going to be ecoli.\n",
    "    # ToDo: make more modula.\n",
    "    results = pd.read_csv(f'/disk1/ariane/pycharm/CARE/output/protinfer/{test_label}_protein_test.tsv', sep='\\t')\n",
    "    results['predicted_ecs'] = [ec.split(':')[1] if 'EC:' in ec else 'None' for ec in results['predicted_label'].values]\n",
    "    if test_label == 'price':\n",
    "        results['true_ecs'] = results['sequence_name'].map(get_price2ec())\n",
    "    else:\n",
    "        results['true_ecs'] = results['sequence_name'].map(get_uniprot2ec())\n",
    "\n",
    "    grped = results.groupby('sequence_name')\n",
    "    max_ecs = 0\n",
    "    rows = []\n",
    "    # Get the raw test set and then build the new dataset based on that! \n",
    "    test_df = get_test_df(test_label)\n",
    "    # Now we want to iterate through and get the predicted EC numbers\n",
    "    entry_to_ec = dict(zip(test_df['Entry'], test_df['EC number']))\n",
    "    entry_to_seq = dict(zip(test_df['Entry'], test_df['Sequence']))\n",
    "\n",
    "    for query in test_df['Entry'].values:\n",
    "        try:\n",
    "            grp = grped.get_group(query)\n",
    "            # Always will be the same for the grouped \n",
    "            # Always will be the same for the grouped \n",
    "            true_ec = ';'.join(set([ec for ec in grp['true_ecs'].values]))\n",
    "            # Filter to only include rows which were not null\n",
    "            grp = grp[~grp['predicted_ecs'].isna()]\n",
    "            grp = grp[grp['predicted_ecs'] != 'None']\n",
    "            grp = grp.sort_values(by='predicted_ecs', ascending=False)\n",
    "\n",
    "            if len(list(grp['predicted_ecs'].values)) > max_ecs:\n",
    "                max_ecs = len(list(grp['predicted_ecs'].values))\n",
    "            if len(list(grp['predicted_ecs'].values)) == 0:\n",
    "                rows.append([query, true_ec, '', None])\n",
    "            else:\n",
    "                rows.append([query, true_ec, ''] + list(grp['predicted_ecs'].values))\n",
    "        except:\n",
    "            rows.append([query, entry_to_ec[query], entry_to_seq[query]])\n",
    "\n",
    "    new_df = pd.DataFrame(rows)\n",
    "    new_df.columns = ['Entry', 'EC number', 'Sequence'] + list(range(0, max_ecs))\n",
    "\n",
    "    # Since we may have no similar ones we'll add in these as a dummy\n",
    "    new_df = new_df.fillna('0.0.0.0')\n",
    "    # Save to a file in the default location\n",
    "    if save:\n",
    "        new_df.to_csv(f'{output_folder}{test_label}_protein_test_results_df.csv', index=False)\n",
    "    return new_df"
   ]
  },
  {
   "cell_type": "code",
   "execution_count": 4,
   "id": "4f792226-7d38-4b14-8178-55db9bc46fb8",
   "metadata": {},
   "outputs": [
    {
     "ename": "NameError",
     "evalue": "name 'get_uniprot2ec' is not defined",
     "output_type": "error",
     "traceback": [
      "\u001b[0;31m---------------------------------------------------------------------------\u001b[0m",
      "\u001b[0;31mNameError\u001b[0m                                 Traceback (most recent call last)",
      "Cell \u001b[0;32mIn[4], line 3\u001b[0m\n\u001b[1;32m      1\u001b[0m \u001b[38;5;66;03m# Save in the required format\u001b[39;00m\n\u001b[1;32m      2\u001b[0m \u001b[38;5;28;01mfor\u001b[39;00m split \u001b[38;5;129;01min\u001b[39;00m [\u001b[38;5;124m'\u001b[39m\u001b[38;5;124m30\u001b[39m\u001b[38;5;124m'\u001b[39m, \u001b[38;5;124m'\u001b[39m\u001b[38;5;124m30-50\u001b[39m\u001b[38;5;124m'\u001b[39m, \u001b[38;5;124m'\u001b[39m\u001b[38;5;124mprice\u001b[39m\u001b[38;5;124m'\u001b[39m, \u001b[38;5;124m'\u001b[39m\u001b[38;5;124mpromiscuous\u001b[39m\u001b[38;5;124m'\u001b[39m]:\n\u001b[0;32m----> 3\u001b[0m     \u001b[43mget_proteinfer\u001b[49m\u001b[43m(\u001b[49m\u001b[43msplit\u001b[49m\u001b[43m,\u001b[49m\u001b[43m \u001b[49m\u001b[43msave\u001b[49m\u001b[38;5;241;43m=\u001b[39;49m\u001b[38;5;28;43;01mTrue\u001b[39;49;00m\u001b[43m)\u001b[49m\n",
      "Cell \u001b[0;32mIn[3], line 16\u001b[0m, in \u001b[0;36mget_proteinfer\u001b[0;34m(test_label, save)\u001b[0m\n\u001b[1;32m     14\u001b[0m     results[\u001b[38;5;124m'\u001b[39m\u001b[38;5;124mtrue_ecs\u001b[39m\u001b[38;5;124m'\u001b[39m] \u001b[38;5;241m=\u001b[39m results[\u001b[38;5;124m'\u001b[39m\u001b[38;5;124msequence_name\u001b[39m\u001b[38;5;124m'\u001b[39m]\u001b[38;5;241m.\u001b[39mmap(get_price2ec())\n\u001b[1;32m     15\u001b[0m \u001b[38;5;28;01melse\u001b[39;00m:\n\u001b[0;32m---> 16\u001b[0m     results[\u001b[38;5;124m'\u001b[39m\u001b[38;5;124mtrue_ecs\u001b[39m\u001b[38;5;124m'\u001b[39m] \u001b[38;5;241m=\u001b[39m results[\u001b[38;5;124m'\u001b[39m\u001b[38;5;124msequence_name\u001b[39m\u001b[38;5;124m'\u001b[39m]\u001b[38;5;241m.\u001b[39mmap(\u001b[43mget_uniprot2ec\u001b[49m())\n\u001b[1;32m     18\u001b[0m grped \u001b[38;5;241m=\u001b[39m results\u001b[38;5;241m.\u001b[39mgroupby(\u001b[38;5;124m'\u001b[39m\u001b[38;5;124msequence_name\u001b[39m\u001b[38;5;124m'\u001b[39m)\n\u001b[1;32m     19\u001b[0m max_ecs \u001b[38;5;241m=\u001b[39m \u001b[38;5;241m0\u001b[39m\n",
      "\u001b[0;31mNameError\u001b[0m: name 'get_uniprot2ec' is not defined"
     ]
    }
   ],
   "source": [
    "# Save in the required format\n",
    "for split in ['30', '30-50', 'price', 'promiscuous']:\n",
    "    get_proteinfer(split, save=True)"
   ]
  }
 ],
 "metadata": {
  "kernelspec": {
   "display_name": "Python 3 (ipykernel)",
   "language": "python",
   "name": "python3"
  },
  "language_info": {
   "codemirror_mode": {
    "name": "ipython",
    "version": 3
   },
   "file_extension": ".py",
   "mimetype": "text/x-python",
   "name": "python",
   "nbconvert_exporter": "python",
   "pygments_lexer": "ipython3",
   "version": "3.8.19"
  }
 },
 "nbformat": 4,
 "nbformat_minor": 5
}
