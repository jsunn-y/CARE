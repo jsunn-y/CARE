{
 "cells": [
  {
   "cell_type": "code",
   "execution_count": null,
   "metadata": {},
   "outputs": [],
   "source": [
    "from CLEAN.utils import *\n",
    "ensure_dirs(\"data/esm_data\")\n",
    "ensure_dirs(\"data/pretrained\")\n",
    "csv_to_fasta(\"data/EC2protein_train.csv\", \"data/EC2protein_train.fasta\")"
   ]
  },
  {
   "cell_type": "code",
   "execution_count": null,
   "metadata": {},
   "outputs": [],
   "source": [
    "retrive_esm1b_embedding(\"EC2protein_train\")"
   ]
  },
  {
   "cell_type": "markdown",
   "metadata": {},
   "source": [
    "### training\n",
    "might be better to do this outside of the jupyter notebook if it takes a long time"
   ]
  },
  {
   "cell_type": "code",
   "execution_count": null,
   "metadata": {},
   "outputs": [],
   "source": [
    "!./train-supconH.py --training_data EC2protein_train --model_name EC2protein_train_supconH --epoch 1500 --n_pos 9 --n_neg 30 -T 0.1"
   ]
  },
  {
   "cell_type": "markdown",
   "metadata": {},
   "source": [
    "### inference"
   ]
  },
  {
   "cell_type": "code",
   "execution_count": null,
   "metadata": {},
   "outputs": [],
   "source": [
    "csv_to_fasta(\"data/test.csv\", \"data/test.fasta\")\n",
    "retrive_esm1b_embedding(\"test\")"
   ]
  },
  {
   "cell_type": "code",
   "execution_count": null,
   "metadata": {},
   "outputs": [],
   "source": [
    "from CLEAN.infer import infer_pvalue\n",
    "train_data = \"EC2protein_train\"\n",
    "test_data = \"test\"\n",
    "\n",
    "infer_pvalue(train_data, test_data, p_value=1e-5, nk_random=20, report_metrics=True, pretrained=True)"
   ]
  }
 ],
 "metadata": {
  "kernelspec": {
   "display_name": "clean",
   "language": "python",
   "name": "python3"
  },
  "language_info": {
   "name": "python",
   "version": "3.10.4"
  }
 },
 "nbformat": 4,
 "nbformat_minor": 2
}
