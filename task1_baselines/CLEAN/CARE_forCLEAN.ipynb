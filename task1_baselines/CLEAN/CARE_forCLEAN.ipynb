{
 "cells": [
  {
   "cell_type": "markdown",
   "metadata": {},
   "source": [
    "### Run from within cloned CLEAN repo so that it's easier\n",
    "1. Clone the CLEAN repo\n",
    "2. Follow the installation instruction\n",
    "3. Move this file to `CLEAN/app` (should be in same folder as demo.ipynb)\n",
    "4. Move `EC2protein_train.csv` and `price_protein_test.csv` to `CLEAN/app/data`\n",
    "5. Run this notebook from the CLEAN directory"
   ]
  },
  {
   "cell_type": "code",
   "execution_count": 71,
   "metadata": {},
   "outputs": [],
   "source": [
    "from CLEAN.utils import *\n",
    "import pandas as pd\n",
    "ensure_dirs(\"data/esm_data\")\n",
    "ensure_dirs(\"data/pretrained\")"
   ]
  },
  {
   "cell_type": "code",
   "execution_count": 72,
   "metadata": {},
   "outputs": [
    {
     "data": {
      "text/html": [
       "<div>\n",
       "<style scoped>\n",
       "    .dataframe tbody tr th:only-of-type {\n",
       "        vertical-align: middle;\n",
       "    }\n",
       "\n",
       "    .dataframe tbody tr th {\n",
       "        vertical-align: top;\n",
       "    }\n",
       "\n",
       "    .dataframe thead th {\n",
       "        text-align: right;\n",
       "    }\n",
       "</style>\n",
       "<table border=\"1\" class=\"dataframe\">\n",
       "  <thead>\n",
       "    <tr style=\"text-align: right;\">\n",
       "      <th></th>\n",
       "      <th>Entry</th>\n",
       "      <th>EC number</th>\n",
       "      <th>Sequence</th>\n",
       "    </tr>\n",
       "  </thead>\n",
       "  <tbody>\n",
       "    <tr>\n",
       "      <th>0</th>\n",
       "      <td>O24396</td>\n",
       "      <td>6.3.4.4</td>\n",
       "      <td>AAAAAGRGRSFSPAAPAPSSVRLPGRQAPAPAAASALAVEADPAAD...</td>\n",
       "    </tr>\n",
       "    <tr>\n",
       "      <th>1</th>\n",
       "      <td>P80405</td>\n",
       "      <td>6.3.3.2</td>\n",
       "      <td>AAAAAVSGAKRSLRAELKQRLRAISAEERLRCQRLLTQKVIAHRQY...</td>\n",
       "    </tr>\n",
       "    <tr>\n",
       "      <th>2</th>\n",
       "      <td>P12762</td>\n",
       "      <td>1.2.1.3</td>\n",
       "      <td>AAAATQAVPAPNQQPEVFYNQIFINNEWHDAVSKKTFPTVNPSTGE...</td>\n",
       "    </tr>\n",
       "    <tr>\n",
       "      <th>3</th>\n",
       "      <td>P36514</td>\n",
       "      <td>2.4.1.17</td>\n",
       "      <td>AAAMDFSHWINLKVILEELQLRGHEITVLVPSPSLLLDHTKIPFNV...</td>\n",
       "    </tr>\n",
       "    <tr>\n",
       "      <th>4</th>\n",
       "      <td>P68734</td>\n",
       "      <td>3.4.24.28</td>\n",
       "      <td>AAATGSGTTLKGATVPLNISYEGGKYVLRDLSKPTGTQIITYDLQN...</td>\n",
       "    </tr>\n",
       "    <tr>\n",
       "      <th>...</th>\n",
       "      <td>...</td>\n",
       "      <td>...</td>\n",
       "      <td>...</td>\n",
       "    </tr>\n",
       "    <tr>\n",
       "      <th>995</th>\n",
       "      <td>P28073</td>\n",
       "      <td>3.4.25.1</td>\n",
       "      <td>MAAALAVRGAVSAPAFGPEALTPDWENREVSTGTTIMAVQFDGGVV...</td>\n",
       "    </tr>\n",
       "    <tr>\n",
       "      <th>996</th>\n",
       "      <td>Q60692</td>\n",
       "      <td>3.4.25.1</td>\n",
       "      <td>MAAALAVRRAGSAPAFGPEALTPDWENREVSTGTTIMAVQFNGGVV...</td>\n",
       "    </tr>\n",
       "    <tr>\n",
       "      <th>997</th>\n",
       "      <td>Q19087</td>\n",
       "      <td>3.4.11.21</td>\n",
       "      <td>MAAALKPSAPEIRKAAQEFINYLNKAVTPFHATQEVKDRLLQAGFT...</td>\n",
       "    </tr>\n",
       "    <tr>\n",
       "      <th>998</th>\n",
       "      <td>P79273</td>\n",
       "      <td>1.3.8.1</td>\n",
       "      <td>MAAALLARACGPVRGALWPRDCRRLHTIFQSVELPETYQMLRQTCR...</td>\n",
       "    </tr>\n",
       "    <tr>\n",
       "      <th>999</th>\n",
       "      <td>P15651</td>\n",
       "      <td>1.3.8.1</td>\n",
       "      <td>MAAALLARAGGSLGRALRARDWRRLHTVYQSVELPETHQMLRQTCR...</td>\n",
       "    </tr>\n",
       "  </tbody>\n",
       "</table>\n",
       "<p>1000 rows × 3 columns</p>\n",
       "</div>"
      ],
      "text/plain": [
       "      Entry  EC number                                           Sequence\n",
       "0    O24396    6.3.4.4  AAAAAGRGRSFSPAAPAPSSVRLPGRQAPAPAAASALAVEADPAAD...\n",
       "1    P80405    6.3.3.2  AAAAAVSGAKRSLRAELKQRLRAISAEERLRCQRLLTQKVIAHRQY...\n",
       "2    P12762    1.2.1.3  AAAATQAVPAPNQQPEVFYNQIFINNEWHDAVSKKTFPTVNPSTGE...\n",
       "3    P36514   2.4.1.17  AAAMDFSHWINLKVILEELQLRGHEITVLVPSPSLLLDHTKIPFNV...\n",
       "4    P68734  3.4.24.28  AAATGSGTTLKGATVPLNISYEGGKYVLRDLSKPTGTQIITYDLQN...\n",
       "..      ...        ...                                                ...\n",
       "995  P28073   3.4.25.1  MAAALAVRGAVSAPAFGPEALTPDWENREVSTGTTIMAVQFDGGVV...\n",
       "996  Q60692   3.4.25.1  MAAALAVRRAGSAPAFGPEALTPDWENREVSTGTTIMAVQFNGGVV...\n",
       "997  Q19087  3.4.11.21  MAAALKPSAPEIRKAAQEFINYLNKAVTPFHATQEVKDRLLQAGFT...\n",
       "998  P79273    1.3.8.1  MAAALLARACGPVRGALWPRDCRRLHTIFQSVELPETYQMLRQTCR...\n",
       "999  P15651    1.3.8.1  MAAALLARAGGSLGRALRARDWRRLHTVYQSVELPETHQMLRQTCR...\n",
       "\n",
       "[1000 rows x 3 columns]"
      ]
     },
     "execution_count": 72,
     "metadata": {},
     "output_type": "execute_result"
    }
   ],
   "source": [
    "#should not have any duplciates in any columns\n",
    "\n",
    "split100 = pd.read_csv(\"./data/split100.csv\", delimiter=\"\\t\")\n",
    "train_set = pd.read_csv(\"./data/protein2EC_train.csv\", delimiter=\"\\t\")\n",
    "# split100[split100['EC number'].str.contains(';')]\n",
    "# #split100.drop_duplicates(subset=[\"Entry\"])\n",
    "# #find duplicated Sequences\n",
    "# split100[split100.duplicated(subset=[\"Sequence\", \"EC number\"])]\n",
    "# split100[split100.duplicated(subset=[\"Sequence\"])][~split100.duplicated(subset=[\"EC number\"])]\n",
    "train_set"
   ]
  },
  {
   "cell_type": "markdown",
   "metadata": {},
   "source": [
    "### training\n",
    "might be better to do this in a script if it takes a long time\n"
   ]
  },
  {
   "cell_type": "code",
   "execution_count": 73,
   "metadata": {},
   "outputs": [],
   "source": [
    "from CLEAN.utils import mutate_single_seq_ECs, retrive_esm1b_embedding, compute_esm_distance\n",
    "train_set = \"protein2EC_train\""
   ]
  },
  {
   "cell_type": "code",
   "execution_count": 74,
   "metadata": {},
   "outputs": [
    {
     "name": "stdout",
     "output_type": "stream",
     "text": [
      "Transferred model to GPU\n",
      "Read data/protein2EC_train.fasta with 1000 sequences\n",
      "Processing 1 of 73 batches (37 sequences)\n",
      "Processing 2 of 73 batches (33 sequences)\n",
      "Processing 3 of 73 batches (32 sequences)\n",
      "Processing 4 of 73 batches (31 sequences)\n",
      "Processing 5 of 73 batches (31 sequences)\n",
      "Processing 6 of 73 batches (29 sequences)\n",
      "Processing 7 of 73 batches (26 sequences)\n",
      "Processing 8 of 73 batches (25 sequences)\n",
      "Processing 9 of 73 batches (23 sequences)\n",
      "Processing 10 of 73 batches (21 sequences)\n",
      "Processing 11 of 73 batches (21 sequences)\n",
      "Processing 12 of 73 batches (20 sequences)\n",
      "Processing 13 of 73 batches (19 sequences)\n",
      "Processing 14 of 73 batches (18 sequences)\n",
      "Processing 15 of 73 batches (18 sequences)\n",
      "Processing 16 of 73 batches (17 sequences)\n",
      "Processing 17 of 73 batches (17 sequences)\n",
      "Processing 18 of 73 batches (17 sequences)\n",
      "Processing 19 of 73 batches (16 sequences)\n",
      "Processing 20 of 73 batches (16 sequences)\n",
      "Processing 21 of 73 batches (15 sequences)\n",
      "Processing 22 of 73 batches (15 sequences)\n",
      "Processing 23 of 73 batches (14 sequences)\n",
      "Processing 24 of 73 batches (14 sequences)\n",
      "Processing 25 of 73 batches (14 sequences)\n",
      "Processing 26 of 73 batches (13 sequences)\n",
      "Processing 27 of 73 batches (13 sequences)\n",
      "Processing 28 of 73 batches (13 sequences)\n",
      "Processing 29 of 73 batches (13 sequences)\n",
      "Processing 30 of 73 batches (13 sequences)\n",
      "Processing 31 of 73 batches (12 sequences)\n",
      "Processing 32 of 73 batches (12 sequences)\n",
      "Processing 33 of 73 batches (12 sequences)\n",
      "Processing 34 of 73 batches (12 sequences)\n",
      "Processing 35 of 73 batches (11 sequences)\n",
      "Processing 36 of 73 batches (11 sequences)\n",
      "Processing 37 of 73 batches (11 sequences)\n",
      "Processing 38 of 73 batches (11 sequences)\n",
      "Processing 39 of 73 batches (11 sequences)\n",
      "Processing 40 of 73 batches (11 sequences)\n",
      "Processing 41 of 73 batches (10 sequences)\n",
      "Processing 42 of 73 batches (10 sequences)\n",
      "Processing 43 of 73 batches (10 sequences)\n",
      "Processing 44 of 73 batches (10 sequences)\n",
      "Processing 45 of 73 batches (10 sequences)\n",
      "Processing 46 of 73 batches (10 sequences)\n",
      "Processing 47 of 73 batches (9 sequences)\n",
      "Processing 48 of 73 batches (9 sequences)\n",
      "Processing 49 of 73 batches (9 sequences)\n",
      "Processing 50 of 73 batches (9 sequences)\n",
      "Processing 51 of 73 batches (9 sequences)\n",
      "Processing 52 of 73 batches (9 sequences)\n",
      "Processing 53 of 73 batches (9 sequences)\n",
      "Processing 54 of 73 batches (9 sequences)\n",
      "Processing 55 of 73 batches (9 sequences)\n",
      "Processing 56 of 73 batches (9 sequences)\n",
      "Processing 57 of 73 batches (9 sequences)\n",
      "Processing 58 of 73 batches (9 sequences)\n",
      "Processing 59 of 73 batches (8 sequences)\n",
      "Processing 60 of 73 batches (8 sequences)\n",
      "Processing 61 of 73 batches (8 sequences)\n",
      "Processing 62 of 73 batches (8 sequences)\n",
      "Processing 63 of 73 batches (8 sequences)\n",
      "Processing 64 of 73 batches (8 sequences)\n",
      "Processing 65 of 73 batches (8 sequences)\n",
      "Processing 66 of 73 batches (8 sequences)\n",
      "Processing 67 of 73 batches (8 sequences)\n",
      "Processing 68 of 73 batches (8 sequences)\n",
      "Processing 69 of 73 batches (8 sequences)\n",
      "Processing 70 of 73 batches (8 sequences)\n",
      "Processing 71 of 73 batches (8 sequences)\n",
      "Processing 72 of 73 batches (8 sequences)\n",
      "Processing 73 of 73 batches (2 sequences)\n"
     ]
    }
   ],
   "source": [
    "csv_to_fasta(\"data/{}.csv\".format(train_set), \"data/{}.fasta\".format(train_set))\n",
    "retrive_esm1b_embedding(train_set)"
   ]
  },
  {
   "cell_type": "code",
   "execution_count": 75,
   "metadata": {},
   "outputs": [
    {
     "name": "stdout",
     "output_type": "stream",
     "text": [
      "Number of EC numbers with only one sequences: 219\n",
      "Number of single-seq EC number sequences need to mutate:  204\n",
      "Number of single-seq EC numbers already mutated:  15\n"
     ]
    },
    {
     "name": "stdout",
     "output_type": "stream",
     "text": [
      "Transferred model to GPU\n",
      "Read data/protein2EC_train_single_seq_ECs.fasta with 2040 sequences\n",
      "Processing 1 of 237 batches (25 sequences)\n",
      "Processing 2 of 237 batches (24 sequences)\n",
      "Processing 3 of 237 batches (23 sequences)\n",
      "Processing 4 of 237 batches (22 sequences)\n",
      "Processing 5 of 237 batches (21 sequences)\n",
      "Processing 6 of 237 batches (20 sequences)\n",
      "Processing 7 of 237 batches (19 sequences)\n",
      "Processing 8 of 237 batches (18 sequences)\n",
      "Processing 9 of 237 batches (18 sequences)\n",
      "Processing 10 of 237 batches (17 sequences)\n",
      "Processing 11 of 237 batches (17 sequences)\n",
      "Processing 12 of 237 batches (17 sequences)\n",
      "Processing 13 of 237 batches (16 sequences)\n",
      "Processing 14 of 237 batches (16 sequences)\n",
      "Processing 15 of 237 batches (16 sequences)\n",
      "Processing 16 of 237 batches (16 sequences)\n",
      "Processing 17 of 237 batches (15 sequences)\n",
      "Processing 18 of 237 batches (15 sequences)\n",
      "Processing 19 of 237 batches (15 sequences)\n",
      "Processing 20 of 237 batches (15 sequences)\n",
      "Processing 21 of 237 batches (15 sequences)\n",
      "Processing 22 of 237 batches (14 sequences)\n",
      "Processing 23 of 237 batches (14 sequences)\n",
      "Processing 24 of 237 batches (14 sequences)\n",
      "Processing 25 of 237 batches (14 sequences)\n",
      "Processing 26 of 237 batches (14 sequences)\n",
      "Processing 27 of 237 batches (13 sequences)\n",
      "Processing 28 of 237 batches (13 sequences)\n",
      "Processing 29 of 237 batches (13 sequences)\n",
      "Processing 30 of 237 batches (13 sequences)\n",
      "Processing 31 of 237 batches (13 sequences)\n",
      "Processing 32 of 237 batches (13 sequences)\n",
      "Processing 33 of 237 batches (13 sequences)\n",
      "Processing 34 of 237 batches (12 sequences)\n",
      "Processing 35 of 237 batches (12 sequences)\n",
      "Processing 36 of 237 batches (12 sequences)\n",
      "Processing 37 of 237 batches (12 sequences)\n",
      "Processing 38 of 237 batches (12 sequences)\n",
      "Processing 39 of 237 batches (12 sequences)\n",
      "Processing 40 of 237 batches (12 sequences)\n",
      "Processing 41 of 237 batches (12 sequences)\n",
      "Processing 42 of 237 batches (12 sequences)\n",
      "Processing 43 of 237 batches (12 sequences)\n",
      "Processing 44 of 237 batches (12 sequences)\n",
      "Processing 45 of 237 batches (12 sequences)\n",
      "Processing 46 of 237 batches (11 sequences)\n",
      "Processing 47 of 237 batches (11 sequences)\n",
      "Processing 48 of 237 batches (11 sequences)\n",
      "Processing 49 of 237 batches (11 sequences)\n",
      "Processing 50 of 237 batches (11 sequences)\n",
      "Processing 51 of 237 batches (11 sequences)\n",
      "Processing 52 of 237 batches (11 sequences)\n",
      "Processing 53 of 237 batches (11 sequences)\n",
      "Processing 54 of 237 batches (11 sequences)\n",
      "Processing 55 of 237 batches (11 sequences)\n",
      "Processing 56 of 237 batches (11 sequences)\n",
      "Processing 57 of 237 batches (11 sequences)\n",
      "Processing 58 of 237 batches (11 sequences)\n",
      "Processing 59 of 237 batches (10 sequences)\n",
      "Processing 60 of 237 batches (10 sequences)\n",
      "Processing 61 of 237 batches (10 sequences)\n",
      "Processing 62 of 237 batches (10 sequences)\n",
      "Processing 63 of 237 batches (10 sequences)\n",
      "Processing 64 of 237 batches (10 sequences)\n",
      "Processing 65 of 237 batches (10 sequences)\n",
      "Processing 66 of 237 batches (10 sequences)\n",
      "Processing 67 of 237 batches (10 sequences)\n",
      "Processing 68 of 237 batches (10 sequences)\n",
      "Processing 69 of 237 batches (10 sequences)\n",
      "Processing 70 of 237 batches (10 sequences)\n",
      "Processing 71 of 237 batches (10 sequences)\n",
      "Processing 72 of 237 batches (10 sequences)\n",
      "Processing 73 of 237 batches (10 sequences)\n",
      "Processing 74 of 237 batches (9 sequences)\n",
      "Processing 75 of 237 batches (9 sequences)\n",
      "Processing 76 of 237 batches (9 sequences)\n",
      "Processing 77 of 237 batches (9 sequences)\n",
      "Processing 78 of 237 batches (9 sequences)\n",
      "Processing 79 of 237 batches (9 sequences)\n",
      "Processing 80 of 237 batches (9 sequences)\n",
      "Processing 81 of 237 batches (9 sequences)\n",
      "Processing 82 of 237 batches (9 sequences)\n",
      "Processing 83 of 237 batches (9 sequences)\n",
      "Processing 84 of 237 batches (9 sequences)\n",
      "Processing 85 of 237 batches (9 sequences)\n",
      "Processing 86 of 237 batches (9 sequences)\n",
      "Processing 87 of 237 batches (9 sequences)\n",
      "Processing 88 of 237 batches (9 sequences)\n",
      "Processing 89 of 237 batches (9 sequences)\n",
      "Processing 90 of 237 batches (9 sequences)\n",
      "Processing 91 of 237 batches (9 sequences)\n",
      "Processing 92 of 237 batches (9 sequences)\n",
      "Processing 93 of 237 batches (8 sequences)\n",
      "Processing 94 of 237 batches (8 sequences)\n",
      "Processing 95 of 237 batches (8 sequences)\n",
      "Processing 96 of 237 batches (8 sequences)\n",
      "Processing 97 of 237 batches (8 sequences)\n",
      "Processing 98 of 237 batches (8 sequences)\n",
      "Processing 99 of 237 batches (8 sequences)\n",
      "Processing 100 of 237 batches (8 sequences)\n",
      "Processing 101 of 237 batches (8 sequences)\n",
      "Processing 102 of 237 batches (8 sequences)\n",
      "Processing 103 of 237 batches (8 sequences)\n",
      "Processing 104 of 237 batches (8 sequences)\n",
      "Processing 105 of 237 batches (8 sequences)\n",
      "Processing 106 of 237 batches (8 sequences)\n",
      "Processing 107 of 237 batches (8 sequences)\n",
      "Processing 108 of 237 batches (8 sequences)\n",
      "Processing 109 of 237 batches (8 sequences)\n",
      "Processing 110 of 237 batches (8 sequences)\n",
      "Processing 111 of 237 batches (8 sequences)\n",
      "Processing 112 of 237 batches (8 sequences)\n",
      "Processing 113 of 237 batches (8 sequences)\n",
      "Processing 114 of 237 batches (8 sequences)\n",
      "Processing 115 of 237 batches (8 sequences)\n",
      "Processing 116 of 237 batches (8 sequences)\n",
      "Processing 117 of 237 batches (8 sequences)\n",
      "Processing 118 of 237 batches (7 sequences)\n",
      "Processing 119 of 237 batches (7 sequences)\n",
      "Processing 120 of 237 batches (7 sequences)\n",
      "Processing 121 of 237 batches (7 sequences)\n",
      "Processing 122 of 237 batches (7 sequences)\n",
      "Processing 123 of 237 batches (7 sequences)\n",
      "Processing 124 of 237 batches (7 sequences)\n",
      "Processing 125 of 237 batches (7 sequences)\n",
      "Processing 126 of 237 batches (7 sequences)\n",
      "Processing 127 of 237 batches (7 sequences)\n",
      "Processing 128 of 237 batches (7 sequences)\n",
      "Processing 129 of 237 batches (7 sequences)\n",
      "Processing 130 of 237 batches (7 sequences)\n",
      "Processing 131 of 237 batches (7 sequences)\n",
      "Processing 132 of 237 batches (7 sequences)\n",
      "Processing 133 of 237 batches (7 sequences)\n",
      "Processing 134 of 237 batches (7 sequences)\n",
      "Processing 135 of 237 batches (7 sequences)\n",
      "Processing 136 of 237 batches (7 sequences)\n",
      "Processing 137 of 237 batches (7 sequences)\n",
      "Processing 138 of 237 batches (7 sequences)\n",
      "Processing 139 of 237 batches (7 sequences)\n",
      "Processing 140 of 237 batches (7 sequences)\n",
      "Processing 141 of 237 batches (6 sequences)\n",
      "Processing 142 of 237 batches (6 sequences)\n",
      "Processing 143 of 237 batches (6 sequences)\n",
      "Processing 144 of 237 batches (6 sequences)\n",
      "Processing 145 of 237 batches (6 sequences)\n",
      "Processing 146 of 237 batches (6 sequences)\n",
      "Processing 147 of 237 batches (6 sequences)\n",
      "Processing 148 of 237 batches (6 sequences)\n",
      "Processing 149 of 237 batches (6 sequences)\n",
      "Processing 150 of 237 batches (6 sequences)\n",
      "Processing 151 of 237 batches (6 sequences)\n",
      "Processing 152 of 237 batches (6 sequences)\n",
      "Processing 153 of 237 batches (6 sequences)\n",
      "Processing 154 of 237 batches (6 sequences)\n",
      "Processing 155 of 237 batches (6 sequences)\n",
      "Processing 156 of 237 batches (6 sequences)\n",
      "Processing 157 of 237 batches (6 sequences)\n",
      "Processing 158 of 237 batches (6 sequences)\n",
      "Processing 159 of 237 batches (6 sequences)\n",
      "Processing 160 of 237 batches (6 sequences)\n",
      "Processing 161 of 237 batches (6 sequences)\n",
      "Processing 162 of 237 batches (6 sequences)\n",
      "Processing 163 of 237 batches (6 sequences)\n",
      "Processing 164 of 237 batches (6 sequences)\n",
      "Processing 165 of 237 batches (6 sequences)\n",
      "Processing 166 of 237 batches (6 sequences)\n",
      "Processing 167 of 237 batches (6 sequences)\n",
      "Processing 168 of 237 batches (6 sequences)\n",
      "Processing 169 of 237 batches (6 sequences)\n",
      "Processing 170 of 237 batches (6 sequences)\n",
      "Processing 171 of 237 batches (6 sequences)\n",
      "Processing 172 of 237 batches (6 sequences)\n",
      "Processing 173 of 237 batches (6 sequences)\n",
      "Processing 174 of 237 batches (6 sequences)\n",
      "Processing 175 of 237 batches (6 sequences)\n",
      "Processing 176 of 237 batches (6 sequences)\n",
      "Processing 177 of 237 batches (6 sequences)\n",
      "Processing 178 of 237 batches (6 sequences)\n",
      "Processing 179 of 237 batches (6 sequences)\n",
      "Processing 180 of 237 batches (6 sequences)\n",
      "Processing 181 of 237 batches (6 sequences)\n",
      "Processing 182 of 237 batches (6 sequences)\n",
      "Processing 183 of 237 batches (6 sequences)\n",
      "Processing 184 of 237 batches (6 sequences)\n",
      "Processing 185 of 237 batches (6 sequences)\n",
      "Processing 186 of 237 batches (6 sequences)\n",
      "Processing 187 of 237 batches (6 sequences)\n",
      "Processing 188 of 237 batches (6 sequences)\n",
      "Processing 189 of 237 batches (6 sequences)\n",
      "Processing 190 of 237 batches (6 sequences)\n",
      "Processing 191 of 237 batches (5 sequences)\n",
      "Processing 192 of 237 batches (5 sequences)\n",
      "Processing 193 of 237 batches (5 sequences)\n",
      "Processing 194 of 237 batches (5 sequences)\n",
      "Processing 195 of 237 batches (5 sequences)\n",
      "Processing 196 of 237 batches (5 sequences)\n",
      "Processing 197 of 237 batches (5 sequences)\n",
      "Processing 198 of 237 batches (5 sequences)\n",
      "Processing 199 of 237 batches (5 sequences)\n",
      "Processing 200 of 237 batches (5 sequences)\n",
      "Processing 201 of 237 batches (5 sequences)\n",
      "Processing 202 of 237 batches (5 sequences)\n",
      "Processing 203 of 237 batches (5 sequences)\n",
      "Processing 204 of 237 batches (5 sequences)\n",
      "Processing 205 of 237 batches (5 sequences)\n",
      "Processing 206 of 237 batches (5 sequences)\n",
      "Processing 207 of 237 batches (5 sequences)\n",
      "Processing 208 of 237 batches (5 sequences)\n",
      "Processing 209 of 237 batches (5 sequences)\n",
      "Processing 210 of 237 batches (5 sequences)\n",
      "Processing 211 of 237 batches (5 sequences)\n",
      "Processing 212 of 237 batches (5 sequences)\n",
      "Processing 213 of 237 batches (5 sequences)\n",
      "Processing 214 of 237 batches (5 sequences)\n",
      "Processing 215 of 237 batches (5 sequences)\n",
      "Processing 216 of 237 batches (5 sequences)\n",
      "Processing 217 of 237 batches (5 sequences)\n",
      "Processing 218 of 237 batches (5 sequences)\n",
      "Processing 219 of 237 batches (5 sequences)\n",
      "Processing 220 of 237 batches (5 sequences)\n",
      "Processing 221 of 237 batches (5 sequences)\n",
      "Processing 222 of 237 batches (5 sequences)\n",
      "Processing 223 of 237 batches (5 sequences)\n",
      "Processing 224 of 237 batches (5 sequences)\n",
      "Processing 225 of 237 batches (5 sequences)\n",
      "Processing 226 of 237 batches (5 sequences)\n",
      "Processing 227 of 237 batches (5 sequences)\n",
      "Processing 228 of 237 batches (5 sequences)\n",
      "Processing 229 of 237 batches (5 sequences)\n",
      "Processing 230 of 237 batches (5 sequences)\n",
      "Processing 231 of 237 batches (5 sequences)\n",
      "Processing 232 of 237 batches (5 sequences)\n",
      "Processing 233 of 237 batches (5 sequences)\n",
      "Processing 234 of 237 batches (5 sequences)\n",
      "Processing 235 of 237 batches (5 sequences)\n",
      "Processing 236 of 237 batches (4 sequences)\n",
      "Processing 237 of 237 batches (1 sequences)\n"
     ]
    }
   ],
   "source": [
    "#this is to generate masked sequences for examples iwth only one positive\n",
    "masked_fasta_file = mutate_single_seq_ECs(train_set) #get rid of duplicates\n",
    "\n",
    "#retrieving embeddings and distance matrix needs to be done once per training dataset\n",
    "retrive_esm1b_embedding(masked_fasta_file)"
   ]
  },
  {
   "cell_type": "code",
   "execution_count": 76,
   "metadata": {},
   "outputs": [
    {
     "name": "stderr",
     "output_type": "stream",
     "text": [
      "100%|██████████| 368/368 [00:00<00:00, 34855.45it/s]\n"
     ]
    },
    {
     "name": "stdout",
     "output_type": "stream",
     "text": [
      "Calculating distance map, number of unique EC is 368\n"
     ]
    },
    {
     "name": "stderr",
     "output_type": "stream",
     "text": [
      "0it [00:00, ?it/s]"
     ]
    },
    {
     "name": "stderr",
     "output_type": "stream",
     "text": [
      "368it [00:00, 8477.58it/s]\n"
     ]
    }
   ],
   "source": [
    "compute_esm_distance(train_set)"
   ]
  },
  {
   "cell_type": "code",
   "execution_count": 106,
   "metadata": {},
   "outputs": [],
   "source": [
    "#if this step is too long\n",
    "#make a temporary empty file\n",
    "model_name = '{}_triplet_2.pth'.format(train_set)\n",
    "with open('./data/model/{}'.format(model_name), 'w') as fp:\n",
    "    pass"
   ]
  },
  {
   "cell_type": "markdown",
   "metadata": {},
   "source": [
    "train with triplet loss for now"
   ]
  },
  {
   "cell_type": "code",
   "execution_count": 109,
   "metadata": {},
   "outputs": [
    {
     "name": "stdout",
     "output_type": "stream",
     "text": [
      "==> device used: cuda:0 | dtype used:  torch.float32 \n",
      "==> args: Namespace(learning_rate=0.0005, epoch=2, model_name='protein2EC_train_triplet', training_data='protein2EC_train', hidden_dim=512, out_dim=128, adaptive_rate=100, verbose=False)\n",
      "The number of unique EC numbers:  368\n",
      "---------------------------------------------------------------------------\n",
      "| end of epoch   1 | time:  0.41s | training loss 0.8793\n",
      "---------------------------------------------------------------------------\n",
      "Best from epoch :   2; loss: 0.8413\n",
      "---------------------------------------------------------------------------\n",
      "| end of epoch   2 | time:  0.12s | training loss 0.8413\n",
      "---------------------------------------------------------------------------\n"
     ]
    }
   ],
   "source": [
    "!python ./train-triplet.py --training_data protein2EC_train --model_name protein2EC_train_triplet --epoch 2"
   ]
  },
  {
   "cell_type": "code",
   "execution_count": 98,
   "metadata": {},
   "outputs": [
    {
     "name": "stdout",
     "output_type": "stream",
     "text": [
      "==> device used: cuda:0 | dtype used:  torch.float32 \n",
      "==> args: Namespace(learning_rate=0.0005, epoch=2, model_name='protein2EC_train_supconH', training_data='protein2EC_train', temp=0.1, n_pos=9, n_neg=30, hidden_dim=512, out_dim=256, adaptive_rate=60, verbose=False)\n",
      "The number of unique EC numbers:  368\n",
      "---------------------------------------------------------------------------\n",
      "| end of epoch   1 | time:  2.32s | training loss 3.5778\n",
      "---------------------------------------------------------------------------\n",
      "Best from epoch :   2; loss: 3.3484\n",
      "---------------------------------------------------------------------------\n",
      "| end of epoch   2 | time:  2.56s | training loss 3.3484\n",
      "---------------------------------------------------------------------------\n"
     ]
    }
   ],
   "source": [
    "#this might work better, but it's slower and you need to manually change the dimension size during inference\n",
    "!python ./train-supconH.py --training_data protein2EC_train --model_name protein2EC_train_supconH --epoch 2 --n_pos 9 --n_neg 30 -T 0.1"
   ]
  },
  {
   "cell_type": "markdown",
   "metadata": {},
   "source": [
    "### inference on the test set"
   ]
  },
  {
   "cell_type": "code",
   "execution_count": 89,
   "metadata": {},
   "outputs": [
    {
     "name": "stdout",
     "output_type": "stream",
     "text": [
      "Transferred model to GPU\n",
      "Read data/price_protein_test.fasta with 148 sequences\n",
      "Processing 1 of 16 batches (15 sequences)\n",
      "Processing 2 of 16 batches (13 sequences)\n",
      "Processing 3 of 16 batches (13 sequences)\n",
      "Processing 4 of 16 batches (11 sequences)\n",
      "Processing 5 of 16 batches (11 sequences)\n",
      "Processing 6 of 16 batches (10 sequences)\n",
      "Processing 7 of 16 batches (10 sequences)\n",
      "Processing 8 of 16 batches (9 sequences)\n",
      "Processing 9 of 16 batches (9 sequences)\n",
      "Processing 10 of 16 batches (8 sequences)\n",
      "Processing 11 of 16 batches (8 sequences)\n",
      "Processing 12 of 16 batches (8 sequences)\n",
      "Processing 13 of 16 batches (7 sequences)\n",
      "Processing 14 of 16 batches (6 sequences)\n",
      "Processing 15 of 16 batches (6 sequences)\n",
      "Processing 16 of 16 batches (4 sequences)\n"
     ]
    }
   ],
   "source": [
    "test_set = 'price_protein_test'\n",
    "csv_to_fasta(\"data/{}.csv\".format(test_set), \"data/{}.fasta\".format(test_set))\n",
    "retrive_esm1b_embedding(test_set)"
   ]
  },
  {
   "cell_type": "code",
   "execution_count": null,
   "metadata": {},
   "outputs": [],
   "source": [
    "#move the trained model to the pretrained folder and rename to the [train_set].pth"
   ]
  },
  {
   "cell_type": "code",
   "execution_count": 110,
   "metadata": {},
   "outputs": [
    {
     "name": "stdout",
     "output_type": "stream",
     "text": [
      "The embedding sizes for train and test: torch.Size([1060, 128]) torch.Size([148, 128])\n"
     ]
    },
    {
     "name": "stderr",
     "output_type": "stream",
     "text": [
      "100%|██████████| 368/368 [00:00<00:00, 36703.78it/s]\n"
     ]
    },
    {
     "name": "stdout",
     "output_type": "stream",
     "text": [
      "Calculating eval distance map, between 148 test ids and 368 train EC cluster centers\n"
     ]
    },
    {
     "name": "stderr",
     "output_type": "stream",
     "text": [
      "148it [00:00, 7698.64it/s]\n",
      "100%|██████████| 368/368 [00:00<00:00, 34840.50it/s]\n",
      "20000it [00:01, 10726.82it/s]\n",
      "100%|██████████| 148/148 [00:00<00:00, 929.15it/s]\n"
     ]
    },
    {
     "name": "stdout",
     "output_type": "stream",
     "text": [
      "############ EC calling results using random chosen 20k samples ############\n",
      "---------------------------------------------------------------------------\n",
      ">>> total samples: 148 | total ec: 56 \n",
      ">>> precision: 0.0326 | recall: 0.053| F1: 0.0404 | AUC: 0.526 | accuracy: 0.0541 \n",
      "---------------------------------------------------------------------------\n"
     ]
    }
   ],
   "source": [
    "from CLEAN.infer import infer_pvalue\n",
    "\n",
    "infer_pvalue(train_set, test_set, p_value=1e-5, nk_random=20, report_metrics=True, pretrained=True)"
   ]
  },
  {
   "cell_type": "code",
   "execution_count": 111,
   "metadata": {},
   "outputs": [
    {
     "name": "stdout",
     "output_type": "stream",
     "text": [
      "The embedding sizes for train and test: torch.Size([1060, 128]) torch.Size([148, 128])\n"
     ]
    },
    {
     "name": "stderr",
     "output_type": "stream",
     "text": [
      "100%|██████████| 368/368 [00:00<00:00, 49129.58it/s]\n"
     ]
    },
    {
     "name": "stdout",
     "output_type": "stream",
     "text": [
      "Calculating eval distance map, between 148 test ids and 368 train EC cluster centers\n"
     ]
    },
    {
     "name": "stderr",
     "output_type": "stream",
     "text": [
      "148it [00:00, 11704.89it/s]"
     ]
    },
    {
     "name": "stdout",
     "output_type": "stream",
     "text": [
      "############ EC calling results using maximum separation ############\n",
      "---------------------------------------------------------------------------\n",
      ">>> total samples: 148 | total ec: 56 \n",
      ">>> precision: 0.0283 | recall: 0.053| F1: 0.0369 | AUC: 0.526 | accuracy: 0.0541 \n",
      "---------------------------------------------------------------------------\n",
      "############ EC calling results using maximum separation ############\n",
      "---------------------------------------------------------------------------\n",
      ">>> total samples: 148 | total ec: 56 \n",
      ">>> precision: 0.0283 | recall: 0.053| F1: 0.0369 | AUC: 0.526 \n",
      "---------------------------------------------------------------------------\n"
     ]
    },
    {
     "name": "stderr",
     "output_type": "stream",
     "text": [
      "\n"
     ]
    }
   ],
   "source": [
    "from CLEAN.infer import infer_maxsep\n",
    "infer_maxsep(train_set, test_set, report_metrics=True, pretrained=True)"
   ]
  },
  {
   "cell_type": "markdown",
   "metadata": {},
   "source": [
    "### TODO: update the processing code and recompile CLEAN to have a a more raw output for our downstream tasks"
   ]
  },
  {
   "cell_type": "code",
   "execution_count": null,
   "metadata": {},
   "outputs": [],
   "source": []
  }
 ],
 "metadata": {
  "kernelspec": {
   "display_name": "clean",
   "language": "python",
   "name": "python3"
  },
  "language_info": {
   "codemirror_mode": {
    "name": "ipython",
    "version": 3
   },
   "file_extension": ".py",
   "mimetype": "text/x-python",
   "name": "python",
   "nbconvert_exporter": "python",
   "pygments_lexer": "ipython3",
   "version": "3.10.4"
  }
 },
 "nbformat": 4,
 "nbformat_minor": 2
}
