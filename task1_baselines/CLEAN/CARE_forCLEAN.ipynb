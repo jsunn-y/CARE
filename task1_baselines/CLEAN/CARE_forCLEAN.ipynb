{
 "cells": [
  {
   "cell_type": "markdown",
   "metadata": {},
   "source": [
    "### Run from within cloned CLEAN repo so that it's easier\n",
    "1. Clone the CLEAN repo\n",
    "2. Follow the installation instruction\n",
    "3. Move this file to `CLEAN/app` (should be in same folder as demo)\n",
    "4. Move `EC2protein_train.csv` and `test.csv` to `CLEAN/app/data`\n",
    "5. Run this notebook from the CLEAN directory"
   ]
  },
  {
   "cell_type": "code",
   "execution_count": null,
   "metadata": {},
   "outputs": [],
   "source": [
    "from CLEAN.utils import *\n",
    "ensure_dirs(\"data/esm_data\")\n",
    "ensure_dirs(\"data/pretrained\")"
   ]
  },
  {
   "cell_type": "markdown",
   "metadata": {},
   "source": [
    "### training\n",
    "might be better to do this in a script if it takes a long time\n"
   ]
  },
  {
   "cell_type": "code",
   "execution_count": null,
   "metadata": {},
   "outputs": [],
   "source": [
    "from CLEAN.utils import mutate_single_seq_ECs, retrive_esm1b_embedding, compute_esm_distance\n",
    "\n",
    "train_file = \"EC2protein_train\"\n",
    "train_fasta_file = mutate_single_seq_ECs(train_file) #get rid of duplicates\n",
    "\n",
    "#retrieving embeddings and distance matrix needs to be done once per training dataset\n",
    "retrive_esm1b_embedding(train_fasta_file)\n",
    "compute_esm_distance(train_file)"
   ]
  },
  {
   "cell_type": "code",
   "execution_count": null,
   "metadata": {},
   "outputs": [],
   "source": [
    "!./train-supconH.py --training_data EC2protein_train --model_name EC2protein_train_supconH --epoch 1500 --n_pos 9 --n_neg 30 -T 0.1"
   ]
  },
  {
   "cell_type": "markdown",
   "metadata": {},
   "source": [
    "### inference on the test set"
   ]
  },
  {
   "cell_type": "code",
   "execution_count": null,
   "metadata": {},
   "outputs": [],
   "source": [
    "csv_to_fasta(\"data/test.csv\", \"data/test.fasta\")\n",
    "retrive_esm1b_embedding(\"test\")"
   ]
  },
  {
   "cell_type": "code",
   "execution_count": null,
   "metadata": {},
   "outputs": [],
   "source": [
    "from CLEAN.infer import infer_pvalue\n",
    "train_data = \"EC2protein_train\"\n",
    "test_data = \"test\"\n",
    "\n",
    "infer_pvalue(train_data, test_data, p_value=1e-5, nk_random=20, report_metrics=True, pretrained=True)"
   ]
  }
 ],
 "metadata": {
  "kernelspec": {
   "display_name": "clean",
   "language": "python",
   "name": "python3"
  },
  "language_info": {
   "name": "python",
   "version": "3.10.4"
  }
 },
 "nbformat": 4,
 "nbformat_minor": 2
}
