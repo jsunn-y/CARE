{
 "cells": [
  {
   "cell_type": "markdown",
   "id": "d7d87af8-596e-4591-916f-2c09fdabd065",
   "metadata": {},
   "source": [
    "# npyblast baseline\n",
    "\n",
    "Using npyBLAST check for the most similar entries to a given sequence and then use the EC number from that sequence."
   ]
  },
  {
   "cell_type": "code",
   "execution_count": 1,
   "id": "5d7fd6b3-16d9-410a-ba6e-63f53359829a",
   "metadata": {},
   "outputs": [],
   "source": [
    "import sys\n",
    "sys.path.append('/disk1/ariane/vscode/CARE/')\n",
    "sys.path.append('/disk1/ariane/vscode/CARE/CARE/')\n",
    "\n",
    "from CARE.processing import *\n",
    "from CARE.task1 import *\n",
    "\n",
    "data_dir = '/disk1/ariane/vscode/CARE/data/task1/'\n",
    "output_dir = '/disk1/ariane/vscode/CARE/task1_baselines/results_summary/BLAST/'"
   ]
  },
  {
   "cell_type": "code",
   "execution_count": 2,
   "id": "15d402c1-a493-4259-ac7e-50064cc4f312",
   "metadata": {},
   "outputs": [
    {
     "name": "stdout",
     "output_type": "stream",
     "text": [
      "/disk1/ariane/vscode/CARE/data/task1/30_protein_test.fasta\n",
      "\n"
     ]
    },
    {
     "name": "stderr",
     "output_type": "stream",
     "text": [
      "\n",
      "   Read database: 100.0% (58 MB)                    \n",
      "Analyze database: 100.0% (168k)                    \n",
      "  Index database: 100.0% (168k)                    \n",
      "    Read queries: 100.0% (59 kB)                      \n",
      " Search database: 100.0% (175.0)                    \n",
      "      Write hits: 100.0% (174.0)                    \r"
     ]
    },
    {
     "name": "stdout",
     "output_type": "stream",
     "text": [
      "\u001b[93m--------------------------------------------------------------------------------\u001b[0m\n",
      "\u001b[93m                      P29898\tHad no sequences within 0.1.\t                      \u001b[0m\n",
      "\u001b[93m--------------------------------------------------------------------------------\u001b[0m\n",
      "\u001b[94m--------------------------------------------------------------------------------\u001b[0m\n",
      "\u001b[94mDone: \t30\t\n",
      "Saved to:\t/disk1/ariane/vscode/CARE/task1_baselines/results_summary/BLAST/30_protein_test_results_df.csv\t\u001b[0m\n",
      "\u001b[94m--------------------------------------------------------------------------------\u001b[0m\n",
      "/disk1/ariane/vscode/CARE/data/task1/30-50_protein_test.fasta\n",
      "\n"
     ]
    },
    {
     "name": "stderr",
     "output_type": "stream",
     "text": [
      "\n",
      "   Read database: 100.0% (58 MB)                    \n",
      "Analyze database: 100.0% (168k)                    \n",
      "  Index database: 100.0% (168k)                    \n",
      "    Read queries: 100.0% (72 kB)                      \n",
      " Search database: 100.0% (204.0)                    \n",
      "      Write hits: 100.0% (204.0)                    \r"
     ]
    },
    {
     "name": "stdout",
     "output_type": "stream",
     "text": [
      "\u001b[94m--------------------------------------------------------------------------------\u001b[0m\n",
      "\u001b[94mDone: \t30-50\t\n",
      "Saved to:\t/disk1/ariane/vscode/CARE/task1_baselines/results_summary/BLAST/30-50_protein_test_results_df.csv\t\u001b[0m\n",
      "\u001b[94m--------------------------------------------------------------------------------\u001b[0m\n",
      "/disk1/ariane/vscode/CARE/data/task1/price_protein_test.fasta\n",
      "\n"
     ]
    },
    {
     "name": "stderr",
     "output_type": "stream",
     "text": [
      "\n",
      "   Read database: 100.0% (58 MB)                    \n",
      "Analyze database: 100.0% (168k)                    \n",
      "  Index database: 100.0% (168k)                    \n",
      "    Read queries: 100.0% (57 kB)                      \n",
      " Search database: 100.0% (146.0)                    \n",
      "      Write hits: 100.0% (146.0)                    \r"
     ]
    },
    {
     "name": "stdout",
     "output_type": "stream",
     "text": [
      "\u001b[94m--------------------------------------------------------------------------------\u001b[0m\n",
      "\u001b[94mDone: \tprice\t\n",
      "Saved to:\t/disk1/ariane/vscode/CARE/task1_baselines/results_summary/BLAST/price_protein_test_results_df.csv\t\u001b[0m\n",
      "\u001b[94m--------------------------------------------------------------------------------\u001b[0m\n",
      "/disk1/ariane/vscode/CARE/data/task1/promiscuous_protein_test.fasta\n",
      "\n"
     ]
    },
    {
     "name": "stderr",
     "output_type": "stream",
     "text": [
      "\n",
      "   Read database: 100.0% (58 MB)                    \n",
      "Analyze database: 100.0% (168k)                    \n",
      "  Index database: 100.0% (168k)                    \n",
      "    Read queries: 100.0% (71 kB)                      \n",
      " Search database: 100.0% (179.0)                    \n",
      "      Write hits: 100.0% (179.0)                    \r"
     ]
    },
    {
     "name": "stdout",
     "output_type": "stream",
     "text": [
      "\u001b[94m--------------------------------------------------------------------------------\u001b[0m\n",
      "\u001b[94mDone: \tpromiscuous\t\n",
      "Saved to:\t/disk1/ariane/vscode/CARE/task1_baselines/results_summary/BLAST/promiscuous_protein_test_results_df.csv\t\u001b[0m\n",
      "\u001b[94m--------------------------------------------------------------------------------\u001b[0m\n"
     ]
    }
   ],
   "source": [
    "# Save in the required format\n",
    "# Make a task1\n",
    "tasker = Task1(data_folder=data_dir, output_folder=output_dir)\n",
    "for split in ['30', '30-50', 'price', 'promiscuous']:\n",
    "    # For proteInfer you need to point where it was saved.\n",
    "    tasker.get_blast(split, num_ecs=1, save=True)"
   ]
  }
 ],
 "metadata": {
  "kernelspec": {
   "display_name": "Python 3 (ipykernel)",
   "language": "python",
   "name": "python3"
  },
  "language_info": {
   "codemirror_mode": {
    "name": "ipython",
    "version": 3
   },
   "file_extension": ".py",
   "mimetype": "text/x-python",
   "name": "python",
   "nbconvert_exporter": "python",
   "pygments_lexer": "ipython3",
   "version": "3.8.19"
  }
 },
 "nbformat": 4,
 "nbformat_minor": 5
}
