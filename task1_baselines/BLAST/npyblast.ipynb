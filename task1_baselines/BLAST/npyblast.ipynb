{
 "cells": [
  {
   "cell_type": "markdown",
   "id": "d7d87af8-596e-4591-916f-2c09fdabd065",
   "metadata": {},
   "source": [
    "# npyblast baseline\n",
    "\n",
    "For the first baselines we want to generate accuracy, precision, recall and F1 score for each of the EC numbers.\n",
    "\n",
    "The first dataset is the price dataset.\n",
    "\n",
    "Requires: npysearch, sciutil"
   ]
  },
  {
   "cell_type": "code",
   "execution_count": 1,
   "id": "5d7fd6b3-16d9-410a-ba6e-63f53359829a",
   "metadata": {},
   "outputs": [],
   "source": [
    "import numpy as np\n",
    "import pandas as pd\n",
    "import seaborn as sns"
   ]
  },
  {
   "cell_type": "code",
   "execution_count": 24,
   "id": "15d402c1-a493-4259-ac7e-50064cc4f312",
   "metadata": {},
   "outputs": [],
   "source": [
    "from sciutil import SciUtil\n",
    "u = SciUtil()\n",
    "\n",
    "base_dir = '/disk1/ariane/pycharm/CARE/'\n",
    "\n",
    "# Input a ranked ordered list of EC numbers from best to worst.\n",
    "\n",
    "# I'll \n",
    "    \n",
    "def compute_accuracy_baseline1(predicted_ecs, true_ecs):\n",
    "    pred_level1 = np.zeros(len(predicted_ecs))\n",
    "    pred_level2 = np.zeros(len(predicted_ecs))\n",
    "    pred_level3 = np.zeros(len(predicted_ecs))\n",
    "    pred_level4 = np.zeros(len(predicted_ecs))\n",
    "\n",
    "    # Basically given we have a highly multiclass problem doing precision recall probably doesn't make sense\n",
    "    for i, predicted_ec in enumerate(predicted_ecs):\n",
    "        true_ec = true_ecs[i]\n",
    "        # First check level 1\n",
    "        pred1 = predicted_ec.split('.')[0]\n",
    "        true_ecs1 = [ec.split('.')[0] for ec in true_ec.split(';')]\n",
    "        if pred1 in true_ecs1:\n",
    "            pred_level1[i] = 1\n",
    "\n",
    "        # Do the same for each other level\n",
    "        pred2 = predicted_ec.split('.')[1]\n",
    "        true_ecs2 = [ec.split('.')[1] for ec in true_ec.split(';')]\n",
    "        if pred2 in true_ecs2:\n",
    "            # Check also that pred1 was correct\n",
    "            if pred_level1[i] == 1:\n",
    "                pred_level2[i] = 1\n",
    "        \n",
    "        # Do the same for each other level\n",
    "        pred3 = predicted_ec.split('.')[2]\n",
    "        true_ecs3 = [ec.split('.')[2] for ec in true_ec.split(';')]\n",
    "        if pred3 in true_ecs3:\n",
    "            # Check previous levels were correct\n",
    "            if pred_level1[i] == 1 and pred_level2[i] == 1:\n",
    "                pred_level3[i] = 1\n",
    "        \n",
    "        # Do the same for each other level\n",
    "        pred4 = predicted_ec.split('.')[3]\n",
    "        true_ecs4 = [ec.split('.')[3] for ec in true_ec.split(';')]\n",
    "        if pred4 in true_ecs4:\n",
    "            if pred_level1[i] == 1 and pred_level2[i] == 1 and pred_level3[i] == 1:\n",
    "                pred_level4[i] = 1\n",
    "    # Print out the accuracy\n",
    "    u.dp(['Acc level 1:', round(np.mean(pred_level1)*100, 2), \n",
    "          '\\nAcc level 2:', round(np.mean(pred_level2)*100, 2), \n",
    "          '\\nAcc level 3:', round(np.mean(pred_level3)*100, 2), \n",
    "          '\\nAcc level 4:', round(np.mean(pred_level4)*100, 2)])\n",
    "    \n",
    "    return np.mean(pred_level1), np.mean(pred_level2), np.mean(pred_level3), np.mean(pred_level4)\n",
    "\n",
    "\n",
    "def make_default_training_fasta():\n",
    "    swissprot = pd.read_csv(f'{base_dir}processed_data/protein2EC.csv')\n",
    "    train_indices = np.loadtxt(f'{base_dir}splits/task1/protein2EC_train_indices.txt', dtype=int)\n",
    "    swissprot_train = swissprot.iloc[train_indices]\n",
    "    entries = swissprot_train['Entry'].values\n",
    "    sequences = swissprot_train['Sequence'].values\n",
    "    #save sequences to fasta\n",
    "    with open(f'{base_dir}protein2EC_train.fasta', 'w') as f:\n",
    "        for entry, sequence in zip(entries, sequences):\n",
    "            f.write('>{}\\n{}\\n'.format(entry, sequence))\n",
    "    u.dp(['Default training dataset built using: ', f'{base_dir}processed_data/protein2EC.csv', \n",
    "          '\\nIncides:', f'{base_dir}splits/task1/protein2EC_train_indices.txt', \n",
    "          '\\nOutput:', f'{base_dir}protein2EC_train.fasta'])\n",
    "\n",
    "def make_default_price_fasta():\n",
    "    df = pd.read_csv(f'{base_dir}splits/task1/price_protein_test.csv', sep='\\t')\n",
    "    #write seqs to fasta format\n",
    "    with open(f'{base_dir}splits/task1/price_protein_test.fasta', 'w') as f:\n",
    "        for i, (entry, seq) in enumerate(zip(entries, seqs)):\n",
    "            f.write('>{}\\n{}\\n'.format(entry, seq))\n",
    "    u.dp(['Default price dataset built using: ', f'{base_dir}splits/task1/price_protein_test.csv', \n",
    "      '\\nOutput:', f'{base_dir}splits/task1/price_protein_test.fasta'])\n",
    "\n",
    "def make_fastas():\n",
    "    filenames = [f'{base_dir}splits/task1/30-50_protein_test.csv', \n",
    "                 f'{base_dir}splits/task1/30_protein_test.csv', \n",
    "                 f'{base_dir}splits/task1/50-70_protein_test.csv',\n",
    "                 f'{base_dir}splits/task1/70-90_protein_test.csv',\n",
    "                 f'{base_dir}splits/task1/promiscuous_protein_test.csv',\n",
    "                 f'{base_dir}splits/task1/protein_train.csv',\n",
    "                 f'{base_dir}splits/task1/price_protein_test.csv']\n",
    "\n",
    "    for filename in filenames:\n",
    "        with open(filename.replace('.csv', '.fasta'), 'w') as f:\n",
    "            df = pd.read_csv(filename)\n",
    "            for entry, seq in df[['Entry', 'Sequence']].values:\n",
    "                f.write('>{}\\n{}\\n'.format(entry, seq))\n",
    "                     \n",
    "def get_uniprot2ec():\n",
    "    swissprot = pd.read_csv(f'{base_dir}processed_data/protein2EC.csv')\n",
    "    id2ec = swissprot.set_index('Entry')['EC number'].to_dict()\n",
    "    return id2ec\n",
    "\n",
    "def get_price2ec():\n",
    "    df = pd.read_csv(f'{base_dir}splits/task1/price_protein_test.csv')\n",
    "    id2ec = df.set_index('Entry')['EC number'].to_dict()\n",
    "    return id2ec\n",
    "    \n",
    "def get_default_training_fasta_path():\n",
    "    return f'{base_dir}splits/task1/protein_train.fasta'\n",
    "    \n",
    "def get_default_price_fasta_path():\n",
    "    return f'{base_dir}splits/task1/price_protein_test.fasta'\n",
    "\n",
    "def get_validation30():\n",
    "    return f'{base_dir}splits/task1/30_protein_test.fasta'\n",
    "\n",
    "def get_validation50():\n",
    "    return f'{base_dir}splits/task1/30-50_protein_test.fasta'\n",
    "    \n",
    "def get_validation70():\n",
    "    return f'{base_dir}splits/task1/50-70_protein_test.fasta'\n",
    "\n",
    "def get_validation90():\n",
    "    return f'{base_dir}splits/task1/70-90_protein_test.fasta'\n",
    "\n",
    "def get_promisc():\n",
    "    return f'{base_dir}splits/task1/promiscuous_protein_test.fasta'"
   ]
  },
  {
   "cell_type": "markdown",
   "id": "f4444501-ce68-4dba-a063-be2921d48566",
   "metadata": {},
   "source": [
    "## Make the default datasets"
   ]
  },
  {
   "cell_type": "code",
   "execution_count": 25,
   "id": "530c932c-fcc8-4f93-8b56-c793d55cf486",
   "metadata": {},
   "outputs": [],
   "source": [
    "# make_default_training_fasta()\n",
    "# make_default_price_fasta()\n",
    "make_fastas()"
   ]
  },
  {
   "cell_type": "markdown",
   "id": "7944cff5-8239-42d7-9153-51d8f4003cb7",
   "metadata": {},
   "source": [
    "## Perform npysearch"
   ]
  },
  {
   "cell_type": "code",
   "execution_count": 26,
   "id": "eff78f5f-ed23-444f-a8ae-eba63c44953b",
   "metadata": {},
   "outputs": [
    {
     "name": "stdout",
     "output_type": "stream",
     "text": [
      "\n"
     ]
    },
    {
     "name": "stderr",
     "output_type": "stream",
     "text": [
      "\n",
      "   Read database: 100.0% (58 MB)                    \n",
      "Analyze database: 100.0% (168k)                    \n",
      "  Index database: 100.0% (168k)                    \n",
      "    Read queries: 100.0% (57 kB)                      \n",
      " Search database: 100.0% (146.0)                    \n",
      "      Write hits: 100.0% (146.0)                    \r"
     ]
    }
   ],
   "source": [
    "import npysearch as npy\n",
    "\n",
    "# Lets also look at the protein our query is the query genome and our database is going to be ecoli.\n",
    "results_prot = npy.blast(query=get_default_price_fasta_path(),\n",
    "                         database=get_default_training_fasta_path(),\n",
    "                         minIdentity=0.1,\n",
    "                         maxAccepts=1,\n",
    "                         alphabet=\"protein\")\n",
    "results = pd.DataFrame(results_prot)  # Convert this into a dataframe so that we can see it more easily"
   ]
  },
  {
   "cell_type": "markdown",
   "id": "2f67cf3b-9020-4322-929c-bffe84046a10",
   "metadata": {},
   "source": [
    "## Map the targetID which is the prediction to the the predicted EC number"
   ]
  },
  {
   "cell_type": "code",
   "execution_count": 27,
   "id": "f88f8330-77aa-4b55-a8fd-53ff826cd17b",
   "metadata": {},
   "outputs": [
    {
     "data": {
      "text/html": [
       "<div>\n",
       "<style scoped>\n",
       "    .dataframe tbody tr th:only-of-type {\n",
       "        vertical-align: middle;\n",
       "    }\n",
       "\n",
       "    .dataframe tbody tr th {\n",
       "        vertical-align: top;\n",
       "    }\n",
       "\n",
       "    .dataframe thead th {\n",
       "        text-align: right;\n",
       "    }\n",
       "</style>\n",
       "<table border=\"1\" class=\"dataframe\">\n",
       "  <thead>\n",
       "    <tr style=\"text-align: right;\">\n",
       "      <th></th>\n",
       "      <th>QueryId</th>\n",
       "      <th>TargetId</th>\n",
       "      <th>QueryMatchStart</th>\n",
       "      <th>QueryMatchEnd</th>\n",
       "      <th>TargetMatchStart</th>\n",
       "      <th>TargetMatchEnd</th>\n",
       "      <th>QueryMatchSeq</th>\n",
       "      <th>TargetMatchSeq</th>\n",
       "      <th>NumColumns</th>\n",
       "      <th>NumMatches</th>\n",
       "      <th>NumMismatches</th>\n",
       "      <th>NumGaps</th>\n",
       "      <th>Identity</th>\n",
       "      <th>Alignment</th>\n",
       "      <th>predicted_ecs</th>\n",
       "      <th>true_ecs</th>\n",
       "    </tr>\n",
       "  </thead>\n",
       "  <tbody>\n",
       "    <tr>\n",
       "      <th>0</th>\n",
       "      <td>NP_384741</td>\n",
       "      <td>A0AXY5</td>\n",
       "      <td>1</td>\n",
       "      <td>292</td>\n",
       "      <td>269</td>\n",
       "      <td>546</td>\n",
       "      <td>MMMKTVAVIDIGKTNAKVALVDLERFEEIAVRKSGNGVSDDGPYPH...</td>\n",
       "      <td>GILKTVAVKAPGFGDRRKALLEDIAILTGGQVIAEETGLTLEKTTL...</td>\n",
       "      <td>292</td>\n",
       "      <td>47</td>\n",
       "      <td>231</td>\n",
       "      <td>14</td>\n",
       "      <td>0.161</td>\n",
       "      <td>3X5=3X1=6X2=2X5I1X2=4X1=6X3I1X2I3X1I1=4X1=2X1=...</td>\n",
       "      <td>5.6.1.7</td>\n",
       "      <td>2.7.1.5</td>\n",
       "    </tr>\n",
       "    <tr>\n",
       "      <th>1</th>\n",
       "      <td>WP_010211220</td>\n",
       "      <td>Q1JUQ1</td>\n",
       "      <td>1</td>\n",
       "      <td>578</td>\n",
       "      <td>1</td>\n",
       "      <td>583</td>\n",
       "      <td>MPDKKPGLRSAQWFGTADKNGFMYRSWMKNQGIADHQFHGKPIIGI...</td>\n",
       "      <td>MSATKPRLRSTQWFGTNDKNGFMYRSWMKNQGIPDHEFDGRPIIGI...</td>\n",
       "      <td>584</td>\n",
       "      <td>459</td>\n",
       "      <td>118</td>\n",
       "      <td>7</td>\n",
       "      <td>0.786</td>\n",
       "      <td>1=3X2=1X3=1X5=1X16=1X2=1X1=1X1=1X20=2X7=2X21=1...</td>\n",
       "      <td>4.2.1.25</td>\n",
       "      <td>4.2.1.25</td>\n",
       "    </tr>\n",
       "    <tr>\n",
       "      <th>2</th>\n",
       "      <td>WP_010211217</td>\n",
       "      <td>Q6FFQ0</td>\n",
       "      <td>1</td>\n",
       "      <td>524</td>\n",
       "      <td>1</td>\n",
       "      <td>526</td>\n",
       "      <td>MTSFLGHNYIGGQRSANGSVTLQSVDATSGEALPQHFYQATPQEVD...</td>\n",
       "      <td>MSENNGKQFINGQRVAANAPTIESINATDYQPTGYLFSQATLDEVD...</td>\n",
       "      <td>526</td>\n",
       "      <td>304</td>\n",
       "      <td>220</td>\n",
       "      <td>2</td>\n",
       "      <td>0.578</td>\n",
       "      <td>1=4X1=3X1=1X3=1X1=4X1=2X1=2X2=8X1=1X3=2X3=1X2=...</td>\n",
       "      <td>1.2.1.26</td>\n",
       "      <td>1.2.1.26</td>\n",
       "    </tr>\n",
       "    <tr>\n",
       "      <th>3</th>\n",
       "      <td>WP_010211216</td>\n",
       "      <td>Q6AAZ9</td>\n",
       "      <td>1</td>\n",
       "      <td>287</td>\n",
       "      <td>16</td>\n",
       "      <td>297</td>\n",
       "      <td>MSCIAVTPHRAQLGEGPFWDAPTQALYWVNIAGKQALRLMGGQLQV...</td>\n",
       "      <td>RIVNGRTGGLIVLGDGPEINGVCSGGFPLDVRLTPQALRELSKMDG...</td>\n",
       "      <td>298</td>\n",
       "      <td>49</td>\n",
       "      <td>222</td>\n",
       "      <td>27</td>\n",
       "      <td>0.164</td>\n",
       "      <td>6X1=5X2=1X2=14X1D3X4=1D1=2D1=1X1=1X1=1X1=4X1=3...</td>\n",
       "      <td>2.7.7.85</td>\n",
       "      <td>3.1.1.15</td>\n",
       "    </tr>\n",
       "    <tr>\n",
       "      <th>4</th>\n",
       "      <td>WP_010210955</td>\n",
       "      <td>O66200</td>\n",
       "      <td>1</td>\n",
       "      <td>237</td>\n",
       "      <td>292</td>\n",
       "      <td>539</td>\n",
       "      <td>MSAINAVEKGAAAVGAHLVRDVSLPALVLHRDALEHNIRWMQDFVS...</td>\n",
       "      <td>IATLTGGTVISEEIGMELEKATLEDLGQAKRVVINKDTTTIIDGVG...</td>\n",
       "      <td>249</td>\n",
       "      <td>35</td>\n",
       "      <td>201</td>\n",
       "      <td>13</td>\n",
       "      <td>0.141</td>\n",
       "      <td>14X1=2X1=12X1=11X1=1X1=4X1=5X1=22X1=6X1=4X1=16...</td>\n",
       "      <td>5.6.1.7</td>\n",
       "      <td>4.3.1.9</td>\n",
       "    </tr>\n",
       "    <tr>\n",
       "      <th>...</th>\n",
       "      <td>...</td>\n",
       "      <td>...</td>\n",
       "      <td>...</td>\n",
       "      <td>...</td>\n",
       "      <td>...</td>\n",
       "      <td>...</td>\n",
       "      <td>...</td>\n",
       "      <td>...</td>\n",
       "      <td>...</td>\n",
       "      <td>...</td>\n",
       "      <td>...</td>\n",
       "      <td>...</td>\n",
       "      <td>...</td>\n",
       "      <td>...</td>\n",
       "      <td>...</td>\n",
       "      <td>...</td>\n",
       "    </tr>\n",
       "    <tr>\n",
       "      <th>141</th>\n",
       "      <td>NP_384885</td>\n",
       "      <td>P52074</td>\n",
       "      <td>24</td>\n",
       "      <td>438</td>\n",
       "      <td>1</td>\n",
       "      <td>407</td>\n",
       "      <td>ADPHVAESETILRKCVHCGFCTATCPTYVVLGDELDSPRGRIYLIK...</td>\n",
       "      <td>MQTQLTEEMRQNARALEADSILRACVHCGFCTATCPTYQLLGDELD...</td>\n",
       "      <td>419</td>\n",
       "      <td>122</td>\n",
       "      <td>281</td>\n",
       "      <td>16</td>\n",
       "      <td>0.291</td>\n",
       "      <td>6X1=17X1=1I5X1I5X1=2I3X1=2X1=1X1=3X1=1X3I1X1I3...</td>\n",
       "      <td>1.1.99.14</td>\n",
       "      <td>1.1.3.15</td>\n",
       "    </tr>\n",
       "    <tr>\n",
       "      <th>142</th>\n",
       "      <td>NP_384521</td>\n",
       "      <td>Q652Q8</td>\n",
       "      <td>1</td>\n",
       "      <td>314</td>\n",
       "      <td>17</td>\n",
       "      <td>329</td>\n",
       "      <td>MSSARKIIIDTDPGQDDAAAIMLALGSPEEIEVLGITAVAGNVPLT...</td>\n",
       "      <td>PPTEEKVIIDTDPGIDDSVAIMMAFEAPGVKVVGLTTIFGNCTTSH...</td>\n",
       "      <td>315</td>\n",
       "      <td>104</td>\n",
       "      <td>208</td>\n",
       "      <td>3</td>\n",
       "      <td>0.330</td>\n",
       "      <td>5X1=1X7=1X2=2X3=1X1=3X1=1X1I2X1=1X1=1X1=3X2=7X...</td>\n",
       "      <td>3.2.2.3</td>\n",
       "      <td>3.2.2.3</td>\n",
       "    </tr>\n",
       "    <tr>\n",
       "      <th>143</th>\n",
       "      <td>NP_384733</td>\n",
       "      <td>B1IB49</td>\n",
       "      <td>81</td>\n",
       "      <td>430</td>\n",
       "      <td>1</td>\n",
       "      <td>363</td>\n",
       "      <td>LEDCAVIQQLTRATPAVSLHIPWDKVSDLGALKEKGSALGLSFDAM...</td>\n",
       "      <td>MQYSEIMIRYGELSTKGKNRMRFINKLRNNISDVLSIYAQVKVTAD...</td>\n",
       "      <td>363</td>\n",
       "      <td>42</td>\n",
       "      <td>308</td>\n",
       "      <td>13</td>\n",
       "      <td>0.116</td>\n",
       "      <td>44X1=10X1=8X2=18X2=2X1=13X1=2X1=3X1=3X1D2X2=24...</td>\n",
       "      <td>2.8.1.4</td>\n",
       "      <td>5.3.1.14</td>\n",
       "    </tr>\n",
       "    <tr>\n",
       "      <th>144</th>\n",
       "      <td>NP_384124</td>\n",
       "      <td>P42604</td>\n",
       "      <td>4</td>\n",
       "      <td>501</td>\n",
       "      <td>1</td>\n",
       "      <td>495</td>\n",
       "      <td>PSSILLSPDDNVVVATAAIAPGDRLAGGVSAVARIEPGHKAAIRRI...</td>\n",
       "      <td>MQYIKIHALDNVAVALADLAEGTEVSVDNQTVTLRQDVARGHKFAL...</td>\n",
       "      <td>502</td>\n",
       "      <td>171</td>\n",
       "      <td>320</td>\n",
       "      <td>11</td>\n",
       "      <td>0.341</td>\n",
       "      <td>3X1=5X3=1X2=1X1=2X1=1X1=9X1=1X1D1=2D3X3=1X1=3X...</td>\n",
       "      <td>4.2.1.7</td>\n",
       "      <td>4.2.1.5</td>\n",
       "    </tr>\n",
       "    <tr>\n",
       "      <th>145</th>\n",
       "      <td>NP_384306</td>\n",
       "      <td>Q9PFE2</td>\n",
       "      <td>169</td>\n",
       "      <td>294</td>\n",
       "      <td>1</td>\n",
       "      <td>141</td>\n",
       "      <td>HQGSGVTDAVLAEFNDDPRDIVDFARLAKPGEFGRYAPRVFEFAER...</td>\n",
       "      <td>MITITLPDGSRREFEGPVSVMQVAHAIGPGLAKATIAGQIDGGHLV...</td>\n",
       "      <td>142</td>\n",
       "      <td>23</td>\n",
       "      <td>102</td>\n",
       "      <td>17</td>\n",
       "      <td>0.162</td>\n",
       "      <td>7X1=4X2=1I2X1=6X1=4X2=16X1=4X4D2X1=8X4=2X11D1=...</td>\n",
       "      <td>6.1.1.3</td>\n",
       "      <td>2.7.1.59</td>\n",
       "    </tr>\n",
       "  </tbody>\n",
       "</table>\n",
       "<p>146 rows × 16 columns</p>\n",
       "</div>"
      ],
      "text/plain": [
       "          QueryId TargetId  QueryMatchStart  QueryMatchEnd  TargetMatchStart  \\\n",
       "0       NP_384741   A0AXY5                1            292               269   \n",
       "1    WP_010211220   Q1JUQ1                1            578                 1   \n",
       "2    WP_010211217   Q6FFQ0                1            524                 1   \n",
       "3    WP_010211216   Q6AAZ9                1            287                16   \n",
       "4    WP_010210955   O66200                1            237               292   \n",
       "..            ...      ...              ...            ...               ...   \n",
       "141     NP_384885   P52074               24            438                 1   \n",
       "142     NP_384521   Q652Q8                1            314                17   \n",
       "143     NP_384733   B1IB49               81            430                 1   \n",
       "144     NP_384124   P42604                4            501                 1   \n",
       "145     NP_384306   Q9PFE2              169            294                 1   \n",
       "\n",
       "     TargetMatchEnd                                      QueryMatchSeq  \\\n",
       "0               546  MMMKTVAVIDIGKTNAKVALVDLERFEEIAVRKSGNGVSDDGPYPH...   \n",
       "1               583  MPDKKPGLRSAQWFGTADKNGFMYRSWMKNQGIADHQFHGKPIIGI...   \n",
       "2               526  MTSFLGHNYIGGQRSANGSVTLQSVDATSGEALPQHFYQATPQEVD...   \n",
       "3               297  MSCIAVTPHRAQLGEGPFWDAPTQALYWVNIAGKQALRLMGGQLQV...   \n",
       "4               539  MSAINAVEKGAAAVGAHLVRDVSLPALVLHRDALEHNIRWMQDFVS...   \n",
       "..              ...                                                ...   \n",
       "141             407  ADPHVAESETILRKCVHCGFCTATCPTYVVLGDELDSPRGRIYLIK...   \n",
       "142             329  MSSARKIIIDTDPGQDDAAAIMLALGSPEEIEVLGITAVAGNVPLT...   \n",
       "143             363  LEDCAVIQQLTRATPAVSLHIPWDKVSDLGALKEKGSALGLSFDAM...   \n",
       "144             495  PSSILLSPDDNVVVATAAIAPGDRLAGGVSAVARIEPGHKAAIRRI...   \n",
       "145             141  HQGSGVTDAVLAEFNDDPRDIVDFARLAKPGEFGRYAPRVFEFAER...   \n",
       "\n",
       "                                        TargetMatchSeq  NumColumns  \\\n",
       "0    GILKTVAVKAPGFGDRRKALLEDIAILTGGQVIAEETGLTLEKTTL...         292   \n",
       "1    MSATKPRLRSTQWFGTNDKNGFMYRSWMKNQGIPDHEFDGRPIIGI...         584   \n",
       "2    MSENNGKQFINGQRVAANAPTIESINATDYQPTGYLFSQATLDEVD...         526   \n",
       "3    RIVNGRTGGLIVLGDGPEINGVCSGGFPLDVRLTPQALRELSKMDG...         298   \n",
       "4    IATLTGGTVISEEIGMELEKATLEDLGQAKRVVINKDTTTIIDGVG...         249   \n",
       "..                                                 ...         ...   \n",
       "141  MQTQLTEEMRQNARALEADSILRACVHCGFCTATCPTYQLLGDELD...         419   \n",
       "142  PPTEEKVIIDTDPGIDDSVAIMMAFEAPGVKVVGLTTIFGNCTTSH...         315   \n",
       "143  MQYSEIMIRYGELSTKGKNRMRFINKLRNNISDVLSIYAQVKVTAD...         363   \n",
       "144  MQYIKIHALDNVAVALADLAEGTEVSVDNQTVTLRQDVARGHKFAL...         502   \n",
       "145  MITITLPDGSRREFEGPVSVMQVAHAIGPGLAKATIAGQIDGGHLV...         142   \n",
       "\n",
       "     NumMatches  NumMismatches  NumGaps  Identity  \\\n",
       "0            47            231       14     0.161   \n",
       "1           459            118        7     0.786   \n",
       "2           304            220        2     0.578   \n",
       "3            49            222       27     0.164   \n",
       "4            35            201       13     0.141   \n",
       "..          ...            ...      ...       ...   \n",
       "141         122            281       16     0.291   \n",
       "142         104            208        3     0.330   \n",
       "143          42            308       13     0.116   \n",
       "144         171            320       11     0.341   \n",
       "145          23            102       17     0.162   \n",
       "\n",
       "                                             Alignment predicted_ecs  true_ecs  \n",
       "0    3X5=3X1=6X2=2X5I1X2=4X1=6X3I1X2I3X1I1=4X1=2X1=...       5.6.1.7   2.7.1.5  \n",
       "1    1=3X2=1X3=1X5=1X16=1X2=1X1=1X1=1X20=2X7=2X21=1...      4.2.1.25  4.2.1.25  \n",
       "2    1=4X1=3X1=1X3=1X1=4X1=2X1=2X2=8X1=1X3=2X3=1X2=...      1.2.1.26  1.2.1.26  \n",
       "3    6X1=5X2=1X2=14X1D3X4=1D1=2D1=1X1=1X1=1X1=4X1=3...      2.7.7.85  3.1.1.15  \n",
       "4    14X1=2X1=12X1=11X1=1X1=4X1=5X1=22X1=6X1=4X1=16...       5.6.1.7   4.3.1.9  \n",
       "..                                                 ...           ...       ...  \n",
       "141  6X1=17X1=1I5X1I5X1=2I3X1=2X1=1X1=3X1=1X3I1X1I3...     1.1.99.14  1.1.3.15  \n",
       "142  5X1=1X7=1X2=2X3=1X1=3X1=1X1I2X1=1X1=1X1=3X2=7X...       3.2.2.3   3.2.2.3  \n",
       "143  44X1=10X1=8X2=18X2=2X1=13X1=2X1=3X1=3X1D2X2=24...       2.8.1.4  5.3.1.14  \n",
       "144  3X1=5X3=1X2=1X1=2X1=1X1=9X1=1X1D1=2D3X3=1X1=3X...       4.2.1.7   4.2.1.5  \n",
       "145  7X1=4X2=1I2X1=6X1=4X2=16X1=4X4D2X1=8X4=2X11D1=...       6.1.1.3  2.7.1.59  \n",
       "\n",
       "[146 rows x 16 columns]"
      ]
     },
     "execution_count": 27,
     "metadata": {},
     "output_type": "execute_result"
    }
   ],
   "source": [
    "results['predicted_ecs'] = results['TargetId'].map(get_uniprot2ec())\n",
    "results['true_ecs'] = results['QueryId'].map(get_price2ec())\n",
    "results"
   ]
  },
  {
   "cell_type": "markdown",
   "id": "de6e5390-5351-4a7a-b592-095733544089",
   "metadata": {},
   "source": [
    "## Compute accuracy for the prediction vs the true values for each level"
   ]
  },
  {
   "cell_type": "code",
   "execution_count": 28,
   "id": "eae092b2-c3f8-4927-a7bb-721b8cfb548d",
   "metadata": {},
   "outputs": [
    {
     "name": "stdout",
     "output_type": "stream",
     "text": [
      "\u001b[94m--------------------------------------------------------------------------------\u001b[0m\n",
      "\u001b[94m                                 Price dataset\t                                 \u001b[0m\n",
      "\u001b[94m--------------------------------------------------------------------------------\u001b[0m\n",
      "\u001b[94m--------------------------------------------------------------------------------\u001b[0m\n",
      "\u001b[94mAcc level 1:\t73.97\t\n",
      "Acc level 2:\t71.23\t\n",
      "Acc level 3:\t62.33\t\n",
      "Acc level 4:\t35.62\t \u001b[0m\n",
      "\u001b[94m--------------------------------------------------------------------------------\u001b[0m\n"
     ]
    },
    {
     "data": {
      "text/plain": [
       "(0.7397260273972602,\n",
       " 0.7123287671232876,\n",
       " 0.6232876712328768,\n",
       " 0.3561643835616438)"
      ]
     },
     "execution_count": 28,
     "metadata": {},
     "output_type": "execute_result"
    }
   ],
   "source": [
    "u.dp(['Price dataset'])\n",
    "compute_accuracy_baseline1(results['predicted_ecs'].values, results['true_ecs'].values)\n"
   ]
  },
  {
   "cell_type": "markdown",
   "id": "e5bc2fb8-0352-47cb-a47e-a5a7463e1818",
   "metadata": {},
   "source": [
    "## Do the same for each of the percentage splits"
   ]
  },
  {
   "cell_type": "code",
   "execution_count": 29,
   "id": "dfcf02bc-1d58-4507-96c5-ae79f8e9f251",
   "metadata": {},
   "outputs": [
    {
     "name": "stdout",
     "output_type": "stream",
     "text": [
      "\n"
     ]
    },
    {
     "name": "stderr",
     "output_type": "stream",
     "text": [
      "\n",
      "   Read database: 100.0% (58 MB)                    \n",
      "Analyze database: 100.0% (168k)                    \n",
      "  Index database: 100.0% (168k)                    \n",
      "    Read queries: 100.0% (59 kB)                      \n",
      " Search database: 100.0% (175.0)                    \n",
      "      Write hits: 100.0% (174.0)                    \r"
     ]
    },
    {
     "name": "stdout",
     "output_type": "stream",
     "text": [
      "\u001b[94m--------------------------------------------------------------------------------\u001b[0m\n",
      "\u001b[94m                                  30% dataset\t                                  \u001b[0m\n",
      "\u001b[94m--------------------------------------------------------------------------------\u001b[0m\n",
      "\u001b[94m--------------------------------------------------------------------------------\u001b[0m\n",
      "\u001b[94mAcc level 1:\t63.22\t\n",
      "Acc level 2:\t55.75\t\n",
      "Acc level 3:\t53.45\t\n",
      "Acc level 4:\t50.57\t \u001b[0m\n",
      "\u001b[94m--------------------------------------------------------------------------------\u001b[0m\n"
     ]
    },
    {
     "data": {
      "text/plain": [
       "(0.632183908045977, 0.5574712643678161, 0.5344827586206896, 0.5057471264367817)"
      ]
     },
     "execution_count": 29,
     "metadata": {},
     "output_type": "execute_result"
    }
   ],
   "source": [
    "import npysearch as npy\n",
    "\n",
    "# Lets also look at the protein our query is the query genome and our database is going to be ecoli.\n",
    "results_prot = npy.blast(query=get_validation30(),\n",
    "                         database=get_default_training_fasta_path(),\n",
    "                         minIdentity=0.1,\n",
    "                         maxAccepts=1,\n",
    "                         alphabet=\"protein\")\n",
    "results = pd.DataFrame(results_prot)  # Convert this into a dataframe so that we can see it more easily\n",
    "\n",
    "results['predicted_ecs'] = results['TargetId'].map(get_uniprot2ec())\n",
    "results['true_ecs'] = results['QueryId'].map(get_uniprot2ec())\n",
    "u.dp(['30% dataset'])\n",
    "\n",
    "compute_accuracy_baseline1(results['predicted_ecs'].values, results['true_ecs'].values)"
   ]
  },
  {
   "cell_type": "code",
   "execution_count": 30,
   "id": "9406a258-9f3d-45ab-9a8d-da0e8e76e5db",
   "metadata": {},
   "outputs": [
    {
     "name": "stdout",
     "output_type": "stream",
     "text": [
      "\n"
     ]
    },
    {
     "name": "stderr",
     "output_type": "stream",
     "text": [
      "\n",
      "   Read database: 100.0% (58 MB)                    \n",
      "Analyze database: 100.0% (168k)                    \n",
      "  Index database: 100.0% (168k)                    \n",
      "    Read queries: 100.0% (74 kB)                      \n",
      " Search database: 100.0% (196.0)                    \n",
      "      Write hits: 100.0% (196.0)                    \r"
     ]
    },
    {
     "name": "stdout",
     "output_type": "stream",
     "text": [
      "\u001b[94m--------------------------------------------------------------------------------\u001b[0m\n",
      "\u001b[94m                                  50% dataset\t                                  \u001b[0m\n",
      "\u001b[94m--------------------------------------------------------------------------------\u001b[0m\n",
      "\u001b[94m--------------------------------------------------------------------------------\u001b[0m\n",
      "\u001b[94mAcc level 1:\t93.88\t\n",
      "Acc level 2:\t90.31\t\n",
      "Acc level 3:\t87.24\t\n",
      "Acc level 4:\t84.18\t \u001b[0m\n",
      "\u001b[94m--------------------------------------------------------------------------------\u001b[0m\n"
     ]
    },
    {
     "data": {
      "text/plain": [
       "(0.9387755102040817,\n",
       " 0.9030612244897959,\n",
       " 0.8724489795918368,\n",
       " 0.8418367346938775)"
      ]
     },
     "execution_count": 30,
     "metadata": {},
     "output_type": "execute_result"
    }
   ],
   "source": [
    "import npysearch as npy\n",
    "\n",
    "# Lets also look at the protein our query is the query genome and our database is going to be ecoli.\n",
    "results_prot = npy.blast(query=get_validation50(),\n",
    "                         database=get_default_training_fasta_path(),\n",
    "                         minIdentity=0.1,\n",
    "                         maxAccepts=1,\n",
    "                         alphabet=\"protein\")\n",
    "results = pd.DataFrame(results_prot)  # Convert this into a dataframe so that we can see it more easily\n",
    "\n",
    "results['predicted_ecs'] = results['TargetId'].map(get_uniprot2ec())\n",
    "results['true_ecs'] = results['QueryId'].map(get_uniprot2ec())\n",
    "u.dp(['50% dataset'])\n",
    "\n",
    "compute_accuracy_baseline1(results['predicted_ecs'].values, results['true_ecs'].values)"
   ]
  },
  {
   "cell_type": "code",
   "execution_count": 31,
   "id": "512356cc-38ae-4372-9653-ce834dfe8f24",
   "metadata": {},
   "outputs": [
    {
     "name": "stdout",
     "output_type": "stream",
     "text": [
      "\n",
      "\u001b[94m--------------------------------------------------------------------------------\u001b[0m\n",
      "\u001b[94m                                30-70% dataset\t                                 \u001b[0m\n",
      "\u001b[94m--------------------------------------------------------------------------------\u001b[0m\n"
     ]
    },
    {
     "name": "stderr",
     "output_type": "stream",
     "text": [
      "\n",
      "   Read database: 100.0% (58 MB)                    \n",
      "Analyze database: 100.0% (168k)                    \n",
      "  Index database: 100.0% (168k)                    \n",
      "    Read queries: 100.0% (74 kB)                      \n",
      " Search database: 100.0% (204.0)                    \n",
      "      Write hits: 100.0% (204.0)                    \r"
     ]
    },
    {
     "name": "stdout",
     "output_type": "stream",
     "text": [
      "\u001b[94m--------------------------------------------------------------------------------\u001b[0m\n",
      "\u001b[94m Acc level 1:\t99.02\t\n",
      "Acc level 2:\t96.08\t\n",
      "Acc level 3:\t94.61\t\n",
      "Acc level 4:\t90.2\t \u001b[0m\n",
      "\u001b[94m--------------------------------------------------------------------------------\u001b[0m\n"
     ]
    },
    {
     "data": {
      "text/plain": [
       "(0.9901960784313726, 0.9607843137254902, 0.946078431372549, 0.9019607843137255)"
      ]
     },
     "execution_count": 31,
     "metadata": {},
     "output_type": "execute_result"
    }
   ],
   "source": [
    "\n",
    "# Lets also look at the protein our query is the query genome and our database is going to be ecoli.\n",
    "results_prot = npy.blast(query=get_validation70(),\n",
    "                         database=get_default_training_fasta_path(),\n",
    "                         minIdentity=0.1,\n",
    "                         maxAccepts=1,\n",
    "                         alphabet=\"protein\")\n",
    "results = pd.DataFrame(results_prot)  # Convert this into a dataframe so that we can see it more easily\n",
    "u.dp(['30-70% dataset'])\n",
    "\n",
    "results['predicted_ecs'] = results['TargetId'].map(get_uniprot2ec())\n",
    "results['true_ecs'] = results['QueryId'].map(get_uniprot2ec())\n",
    "compute_accuracy_baseline1(results['predicted_ecs'].values, results['true_ecs'].values)"
   ]
  },
  {
   "cell_type": "code",
   "execution_count": 32,
   "id": "16f3c61e-c1af-43f2-88d6-4d63a935a796",
   "metadata": {},
   "outputs": [
    {
     "name": "stdout",
     "output_type": "stream",
     "text": [
      "\n",
      "\u001b[94m--------------------------------------------------------------------------------\u001b[0m\n",
      "\u001b[94m                                70-90% dataset\t                                 \u001b[0m\n",
      "\u001b[94m--------------------------------------------------------------------------------\u001b[0m\n"
     ]
    },
    {
     "name": "stderr",
     "output_type": "stream",
     "text": [
      "\n",
      "   Read database: 100.0% (58 MB)                    \n",
      "Analyze database: 100.0% (168k)                    \n",
      "  Index database: 100.0% (168k)                    \n",
      "    Read queries: 100.0% (75 kB)                      \n",
      " Search database: 100.0% (206.0)                    \n",
      "      Write hits: 100.0% (206.0)                    \r"
     ]
    },
    {
     "name": "stdout",
     "output_type": "stream",
     "text": [
      "\u001b[94m--------------------------------------------------------------------------------\u001b[0m\n",
      "\u001b[94mAcc level 1:\t99.03\t\n",
      "Acc level 2:\t99.03\t\n",
      "Acc level 3:\t99.03\t\n",
      "Acc level 4:\t97.57\t \u001b[0m\n",
      "\u001b[94m--------------------------------------------------------------------------------\u001b[0m\n"
     ]
    },
    {
     "data": {
      "text/plain": [
       "(0.9902912621359223,\n",
       " 0.9902912621359223,\n",
       " 0.9902912621359223,\n",
       " 0.9757281553398058)"
      ]
     },
     "execution_count": 32,
     "metadata": {},
     "output_type": "execute_result"
    }
   ],
   "source": [
    "\n",
    "# Lets also look at the protein our query is the query genome and our database is going to be ecoli.\n",
    "results_prot = npy.blast(query=get_validation90(),\n",
    "                         database=get_default_training_fasta_path(),\n",
    "                         minIdentity=0.1,\n",
    "                         maxAccepts=1,\n",
    "                         alphabet=\"protein\")\n",
    "results = pd.DataFrame(results_prot)  # Convert this into a dataframe so that we can see it more easily\n",
    "u.dp(['70-90% dataset'])\n",
    "\n",
    "results['predicted_ecs'] = results['TargetId'].map(get_uniprot2ec())\n",
    "results['true_ecs'] = results['QueryId'].map(get_uniprot2ec())\n",
    "compute_accuracy_baseline1(results['predicted_ecs'].values, results['true_ecs'].values)"
   ]
  },
  {
   "cell_type": "code",
   "execution_count": 33,
   "id": "db5eb109-74c8-4eed-9848-a16e7ed83eec",
   "metadata": {},
   "outputs": [
    {
     "name": "stdout",
     "output_type": "stream",
     "text": [
      "\n",
      "\u001b[94m--------------------------------------------------------------------------------\u001b[0m\n",
      "\u001b[94m                              Promisuous dataset\t                               \u001b[0m\n",
      "\u001b[94m--------------------------------------------------------------------------------\u001b[0m\n"
     ]
    },
    {
     "name": "stderr",
     "output_type": "stream",
     "text": [
      "\n",
      "   Read database: 100.0% (58 MB)                    \n",
      "Analyze database: 100.0% (168k)                    \n",
      "  Index database: 100.0% (168k)                    \n",
      "    Read queries: 100.0% (71 kB)                      \n",
      " Search database: 100.0% (179.0)                    \n",
      "      Write hits: 100.0% (179.0)                    \r"
     ]
    },
    {
     "name": "stdout",
     "output_type": "stream",
     "text": [
      "\u001b[94m--------------------------------------------------------------------------------\u001b[0m\n",
      "\u001b[94mAcc level 1:\t94.97\t\n",
      "Acc level 2:\t92.74\t\n",
      "Acc level 3:\t92.18\t\n",
      "Acc level 4:\t91.62\t \u001b[0m\n",
      "\u001b[94m--------------------------------------------------------------------------------\u001b[0m\n"
     ]
    },
    {
     "data": {
      "text/plain": [
       "(0.9497206703910615,\n",
       " 0.9273743016759777,\n",
       " 0.9217877094972067,\n",
       " 0.9162011173184358)"
      ]
     },
     "execution_count": 33,
     "metadata": {},
     "output_type": "execute_result"
    }
   ],
   "source": [
    "\n",
    "# Lets also look at the protein our query is the query genome and our database is going to be ecoli.\n",
    "results_prot = npy.blast(query=get_promisc(),\n",
    "                         database=get_default_training_fasta_path(),\n",
    "                         minIdentity=0.1,\n",
    "                         maxAccepts=1,\n",
    "                         alphabet=\"protein\")\n",
    "results = pd.DataFrame(results_prot)  # Convert this into a dataframe so that we can see it more easily\n",
    "u.dp(['Promisuous dataset'])\n",
    "\n",
    "results['predicted_ecs'] = results['TargetId'].map(get_uniprot2ec())\n",
    "results['true_ecs'] = results['QueryId'].map(get_uniprot2ec())\n",
    "compute_accuracy_baseline1(results['predicted_ecs'].values, results['true_ecs'].values)"
   ]
  },
  {
   "cell_type": "code",
   "execution_count": null,
   "id": "37499121-9bda-4eac-9da0-4550097de2fd",
   "metadata": {},
   "outputs": [],
   "source": []
  },
  {
   "cell_type": "code",
   "execution_count": null,
   "id": "9f4173c5-6305-4bd2-8673-2a5dceb01029",
   "metadata": {},
   "outputs": [],
   "source": []
  }
 ],
 "metadata": {
  "kernelspec": {
   "display_name": "Python 3 (ipykernel)",
   "language": "python",
   "name": "python3"
  },
  "language_info": {
   "codemirror_mode": {
    "name": "ipython",
    "version": 3
   },
   "file_extension": ".py",
   "mimetype": "text/x-python",
   "name": "python",
   "nbconvert_exporter": "python",
   "pygments_lexer": "ipython3",
   "version": "3.8.19"
  }
 },
 "nbformat": 4,
 "nbformat_minor": 5
}
