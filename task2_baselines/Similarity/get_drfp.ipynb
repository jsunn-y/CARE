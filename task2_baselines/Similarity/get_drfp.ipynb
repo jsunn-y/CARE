{
 "cells": [
  {
   "cell_type": "code",
   "execution_count": 14,
   "metadata": {},
   "outputs": [],
   "source": [
    "import numpy as np\n",
    "import pandas as pd\n",
    "import os\n",
    "from drfp import DrfpEncoder"
   ]
  },
  {
   "cell_type": "code",
   "execution_count": 17,
   "metadata": {},
   "outputs": [
    {
     "name": "stderr",
     "output_type": "stream",
     "text": [
      "100%|██████████| 177/177 [00:01<00:00, 106.18it/s]\n",
      "100%|██████████| 177/177 [00:01<00:00, 106.40it/s]\n",
      "100%|██████████| 163/163 [00:01<00:00, 124.37it/s]\n"
     ]
    }
   ],
   "source": [
    "for split in ['easy', 'medium', 'hard']:\n",
    "\n",
    "    query_df = pd.read_csv('../../splits/task2/{}_reaction_test.csv'.format(split))\n",
    "    query_reactions = query_df['Reaction'].values\n",
    "\n",
    "    fps = DrfpEncoder.encode(query_reactions, show_progress_bar=True)\n",
    "\n",
    "    fps = np.vstack(fps)\n",
    "    os.makedirs('output/{}_split/representations/'.format(split), exist_ok=True)\n",
    "\n",
    "    saved_file_path = os.path.join('output/{}_split/representations/{}_reaction_test_representations'.format(split, split))\n",
    "\n",
    "    #if the file exists, load it\n",
    "    if os.path.exists(saved_file_path + \".npy\"):\n",
    "        results = np.load(saved_file_path + \".npy\", allow_pickle=True).item()\n",
    "    else:\n",
    "        results = {}\n",
    "\n",
    "    results[\"reaction_repr_array\"] = fps\n",
    "        \n",
    "    np.save(saved_file_path, results)"
   ]
  },
  {
   "cell_type": "code",
   "execution_count": 20,
   "metadata": {},
   "outputs": [
    {
     "name": "stderr",
     "output_type": "stream",
     "text": [
      "100%|██████████| 39893/39893 [06:17<00:00, 105.69it/s]\n"
     ]
    },
    {
     "name": "stdout",
     "output_type": "stream",
     "text": [
      "4673\n",
      "3326\n",
      "(4673, 2048)\n"
     ]
    }
   ],
   "source": [
    "#only uses one cpu, should take about 12 minutes per reaction\n",
    "for split in ['hard']:\n",
    "    output_folder = 'output/{}_split/representations/'.format(split)\n",
    "    \n",
    "    os.makedirs('output/{}_split/representations/'.format(split), exist_ok=True)\n",
    "\n",
    "    df = pd.read_csv('../../splits/task2/{}_reaction_train.csv'.format(split))\n",
    "\n",
    "    reactions = df['Reaction'].values\n",
    "\n",
    "    fps = DrfpEncoder.encode(reactions, show_progress_bar=True)\n",
    "    repr_array = np.vstack(fps)\n",
    "\n",
    "    df['index'] = df.index\n",
    "    ec2index = df.groupby('EC number')['index'].apply(list).to_frame().to_dict()['index']\n",
    "    EClist = np.loadtxt(\"../../processed_data/EC_list.txt\", dtype=str)\n",
    "\n",
    "    print(len(EClist))\n",
    "    print(len(ec2index.keys()))\n",
    "\n",
    "    #temporary line to just check if the code runs\n",
    "    #EClist = [ec for ec in EClist if ec in ec2index.keys()]\n",
    "    #assert len(EClist) == len(ec2index.keys())\n",
    "    \n",
    "    cluster_centers = np.zeros((len(EClist), repr_array.shape[1]))\n",
    "    for i, ec in enumerate(EClist):\n",
    "        #average together the embeddings for each EC number\n",
    "        if ec in ec2index.keys():\n",
    "            indices = ec2index[ec]\n",
    "            cluster_centers[i] = np.mean(repr_array[indices], axis=0)\n",
    "\n",
    "    saved_file_path = os.path.join(output_folder, \"all_ECs_cluster_centers\")\n",
    "    #if the file exists, load it\n",
    "    if os.path.exists(saved_file_path + \".npy\"):\n",
    "        results = np.load(saved_file_path + \".npy\", allow_pickle=True).item()\n",
    "    else:\n",
    "        results = {}\n",
    "\n",
    "    results[\"reaction_repr_array\"] = cluster_centers\n",
    "\n",
    "    print(cluster_centers.shape)\n",
    "    np.save(saved_file_path, results)"
   ]
  },
  {
   "cell_type": "code",
   "execution_count": null,
   "metadata": {},
   "outputs": [],
   "source": []
  }
 ],
 "metadata": {
  "kernelspec": {
   "display_name": "rxnfp",
   "language": "python",
   "name": "python3"
  },
  "language_info": {
   "codemirror_mode": {
    "name": "ipython",
    "version": 3
   },
   "file_extension": ".py",
   "mimetype": "text/x-python",
   "name": "python",
   "nbconvert_exporter": "python",
   "pygments_lexer": "ipython3",
   "version": "3.8.18"
  }
 },
 "nbformat": 4,
 "nbformat_minor": 2
}
