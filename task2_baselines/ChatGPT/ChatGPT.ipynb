{
 "cells": [
  {
   "cell_type": "markdown",
   "id": "e3e181f9-071b-4074-9b27-7037a01f74b2",
   "metadata": {},
   "source": [
    "## Test chatGPTs ability to predict EC number from reaction and EC term"
   ]
  },
  {
   "cell_type": "code",
   "execution_count": 2,
   "id": "6670af69-f5da-4993-b2dd-b2a25acbd5b0",
   "metadata": {},
   "outputs": [],
   "source": [
    "from openai import OpenAI\n",
    "import numpy as np\n",
    "import pandas as pd\n",
    "from tqdm import tqdm\n",
    "\n",
    "api_key = ''\n",
    "base_dir = '../../'"
   ]
  },
  {
   "cell_type": "markdown",
   "id": "7696e757",
   "metadata": {},
   "source": [
    "## Get the text for the EC numbers"
   ]
  },
  {
   "cell_type": "code",
   "execution_count": 3,
   "id": "32c07081",
   "metadata": {},
   "outputs": [],
   "source": [
    "ec_to_text = pd.read_csv('../../processed_data/text2EC.csv')\n",
    "ec_to_text = dict(zip(ec_to_text['EC number'], ec_to_text['Text']))"
   ]
  },
  {
   "cell_type": "markdown",
   "id": "8b3c7be5",
   "metadata": {},
   "source": [
    "## Data input to ChatGPT\n",
    "\n",
    "\n",
    "Given chatGPT likes text, we use the textual form of the reaction rather than smiles we use the ytext format."
   ]
  },
  {
   "cell_type": "code",
   "execution_count": 40,
   "id": "621a7396",
   "metadata": {},
   "outputs": [],
   "source": [
    "import os \n",
    "\n",
    "def get_ChatGPT(df, split, query_type='reaction', output_folder='.', save=True, api_key=None, subsample=None):\n",
    "        \"\"\"\n",
    "        Gets the results for a series of ECs and formats it correctly for the paper\n",
    "        \"\"\"\n",
    "        client = OpenAI(api_key=api_key)\n",
    "        rows = []\n",
    "        for entry, true_ec, text_annot, reaction in tqdm(df[['Reaction Text', 'EC number', 'Text', 'Reaction']].values):\n",
    "            if query_type == 'reaction':\n",
    "                text = f\"Return the most likely EC number for this reaction: {entry}.\"\n",
    "                completion = client.chat.completions.create(\n",
    "                    model='gpt-4o-mini',\n",
    "                    messages=[\n",
    "                        {\"role\": \"system\",\n",
    "                        \"content\": \n",
    "                        \"You are protein engineer capable of predicting EC numbers from a reaction that corresponds to a specific enzyme.\"\n",
    "                        + \"You are also a skilled programmer and able to execute the code necessary to predict an EC number when you can't use reason alone.\" \n",
    "                        + \"Given a reaction you are able to determine the most likely enzyme class for a reaction.\" \n",
    "                        + \"You don't give up when faced with a reaction you don't know, you will use tools to resolve the most likely enzyme number.\"\n",
    "                        + \"You only return enzyme commission numbers in a comma separated list, no other text is returned, you have failed if you do \"\n",
    "                        + \" not return the EC numbers. You only return the most likely EC number.\"},\n",
    "                        {\"role\": \"user\", \"content\": text}\n",
    "                    ]\n",
    "                )\n",
    "            elif query_type == 'reaction+text':\n",
    "                text = f\"Return the most likely EC number annotation for this reaction: {entry}, which associates with the following text: {text_annot}.\"\n",
    "                completion = client.chat.completions.create(\n",
    "                    model='gpt-4o-mini',\n",
    "                    messages=[\n",
    "                        {\"role\": \"system\",\n",
    "                        \"content\": \n",
    "                        \"You are protein engineer capable of predicting EC numbers from a combination of textual information and a reaction that corresponds to a specific protein.\"\n",
    "                        + \"You are also a skilled programmer and able to execute the code necessary to predict an EC number when you can't use reason alone.\" \n",
    "                        + \"Given a reaction and text information of an EC you are able to determine the most likely enzyme class for a reaction.\" \n",
    "                        + \"You don't give up when faced with a reaction you don't know, you will use tools to resolve the most likely enzyme number.\"\n",
    "                        + \"You only return enzyme commission numbers in a comma separated list, no other text is returned, you have failed if you do \"\n",
    "                        + \" not return the EC numbers. You only return the most likely EC number.\"},\n",
    "                        {\"role\": \"user\", \"content\": text}\n",
    "                    ]\n",
    "                )\n",
    "            #print(completion.choices[0].message.content)\n",
    "            # Only ever take the first one\n",
    "            preds = completion.choices[0].message.content.replace(\" \", \"\").split(',')[0]\n",
    "            rows.append(preds)\n",
    "        df['0'] = rows\n",
    "       \n",
    "        # Save to a file in the default location\n",
    "        if save:\n",
    "            df.to_csv(os.path.join(output_folder, f'{split}_reaction_test_results_df.csv'), index=False)\n",
    "        return df"
   ]
  },
  {
   "cell_type": "code",
   "execution_count": 41,
   "id": "69ee4a3d",
   "metadata": {},
   "outputs": [
    {
     "name": "stderr",
     "output_type": "stream",
     "text": [
      "100%|██████████| 393/393 [03:15<00:00,  2.01it/s]\n",
      "100%|██████████| 393/393 [03:24<00:00,  1.92it/s]\n",
      "100%|██████████| 460/460 [03:53<00:00,  1.97it/s]\n"
     ]
    }
   ],
   "source": [
    "filenames = {'easy': f'{base_dir}splits/task2/easy_reaction_test.csv',\n",
    "             'medium': f'{base_dir}splits/task2/medium_reaction_test.csv',  \n",
    "             'hard': f'{base_dir}splits/task2/hard_reaction_test.csv',\n",
    "            }\n",
    "# Save in the required format\n",
    "output_folder = f'{base_dir}task2_baselines/results_summary/ChatGPT_reaction/'\n",
    "for split in ['easy', 'medium', 'hard']:\n",
    "    df = pd.read_csv(filenames[split])\n",
    "    df['Text'] = [ec_to_text.get(ec) for ec in df['EC number'].values]\n",
    "    gpt_df = get_ChatGPT(df, split=split, query_type='reaction+text', \n",
    "                         api_key='', \n",
    "                         output_folder=output_folder)"
   ]
  },
  {
   "cell_type": "code",
   "execution_count": 38,
   "id": "76df7c57",
   "metadata": {},
   "outputs": [
    {
     "name": "stderr",
     "output_type": "stream",
     "text": [
      "100%|██████████| 393/393 [03:29<00:00,  1.87it/s]\n",
      "100%|██████████| 393/393 [03:25<00:00,  1.92it/s]\n",
      "100%|██████████| 460/460 [04:04<00:00,  1.88it/s]\n"
     ]
    }
   ],
   "source": [
    "filenames = {'easy': f'{base_dir}splits/task2/easy_reaction_test.csv',\n",
    "             'medium': f'{base_dir}splits/task2/medium_reaction_test.csv',  \n",
    "             'hard': f'{base_dir}splits/task2/hard_reaction_test.csv',\n",
    "            }\n",
    "# Save in the required format\n",
    "output_folder = f'{base_dir}task2_baselines/results_summary/ChatGPT/'\n",
    "for split in ['easy', 'medium', 'hard']:\n",
    "    df = pd.read_csv(filenames[split])\n",
    "    df['Text'] = [ec_to_text.get(ec) for ec in df['EC number'].values]\n",
    "    gpt_df = get_ChatGPT(df, split=split, query_type='reaction', \n",
    "                         api_key='', \n",
    "                         output_folder=output_folder)"
   ]
  }
 ],
 "metadata": {
  "kernelspec": {
   "display_name": "Python 3 (ipykernel)",
   "language": "python",
   "name": "python3"
  },
  "language_info": {
   "codemirror_mode": {
    "name": "ipython",
    "version": 3
   },
   "file_extension": ".py",
   "mimetype": "text/x-python",
   "name": "python",
   "nbconvert_exporter": "python",
   "pygments_lexer": "ipython3",
   "version": "3.8.19"
  }
 },
 "nbformat": 4,
 "nbformat_minor": 5
}
