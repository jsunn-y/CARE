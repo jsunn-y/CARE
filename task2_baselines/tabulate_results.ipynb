{
 "cells": [
  {
   "cell_type": "code",
   "execution_count": 1,
   "metadata": {},
   "outputs": [],
   "source": [
    "import numpy as np\n",
    "import pandas as pd\n",
    "import matplotlib.pyplot as plt\n",
    "import seaborn as sns\n",
    "from sklearn.manifold import TSNE\n",
    "#from visualization import visualize, display, sequence_identity\n",
    "from rdkit.Chem import AllChem\n",
    "from scipy.stats import spearmanr, ttest_ind\n",
    "\n",
    "#supress warnings\n",
    "import warnings\n",
    "warnings.filterwarnings(\"ignore\")"
   ]
  },
  {
   "cell_type": "markdown",
   "metadata": {},
   "source": [
    "### Task 2: process reaction similarities into a dataframe (only necessary for CLIPZyme and CARE)"
   ]
  },
  {
   "cell_type": "code",
   "execution_count": 3,
   "metadata": {},
   "outputs": [
    {
     "data": {
      "text/html": [
       "<div>\n",
       "<style scoped>\n",
       "    .dataframe tbody tr th:only-of-type {\n",
       "        vertical-align: middle;\n",
       "    }\n",
       "\n",
       "    .dataframe tbody tr th {\n",
       "        vertical-align: top;\n",
       "    }\n",
       "\n",
       "    .dataframe thead th {\n",
       "        text-align: right;\n",
       "    }\n",
       "</style>\n",
       "<table border=\"1\" class=\"dataframe\">\n",
       "  <thead>\n",
       "    <tr style=\"text-align: right;\">\n",
       "      <th></th>\n",
       "      <th>baseline</th>\n",
       "      <th>split</th>\n",
       "      <th>k</th>\n",
       "      <th>level 4 accuracy</th>\n",
       "      <th>level 3 accuracy</th>\n",
       "      <th>level 2 accuracy</th>\n",
       "      <th>level 1 accuracy</th>\n",
       "    </tr>\n",
       "  </thead>\n",
       "  <tbody>\n",
       "  </tbody>\n",
       "</table>\n",
       "</div>"
      ],
      "text/plain": [
       "Empty DataFrame\n",
       "Columns: [baseline, split, k, level 4 accuracy, level 3 accuracy, level 2 accuracy, level 1 accuracy]\n",
       "Index: []"
      ]
     },
     "execution_count": 3,
     "metadata": {},
     "output_type": "execute_result"
    }
   ],
   "source": [
    "for baseline in ['Random', 'Similarity', 'CREEP', 'CREEP_text']:\n",
    "    for split in ['easy', 'medium', 'hard']:\n",
    "\n",
    "        if baseline == 'Similarity':\n",
    "            reaction_similarities = np.load('/disk1/jyang4/repos/CARE/task2_baselines/Similarity/output/{}_split/retrieval_results/{}_reaction_test_reaction2reaction_retrieval_similarities.npy'.format(split, split))\n",
    "        else:\n",
    "            reaction_similarities = np.load('/disk1/jyang4/repos/CARE/task2_baselines/CREEP/output/{}_split/retrieval_results/{}_reaction_test_reaction2protein_retrieval_similarities.npy'.format(split, split))\n",
    "\n",
    "        if 'text' in baseline:\n",
    "            text_similarities = np.load('/disk1/jyang4/repos/CARE/task2_baselines/CREEP/output/{}_split/retrieval_results/{}_reaction_test_text2protein_retrieval_similarities.npy'.format(split, split))\n",
    "\n",
    "        query_df = pd.read_csv('../splits/task2/{}_reaction_test.csv'.format(split))\n",
    "        query_EC_list = query_df['EC number'].values\n",
    "        num_cols = len(query_df.columns)\n",
    "\n",
    "        #add len(reaction_similarities) as empty columns to the query_df\n",
    "        for i in range(reaction_similarities.shape[1]):\n",
    "            query_df[i] = np.nan\n",
    "        \n",
    "        reference_EC_list = np.loadtxt('../processed_data/EC_list.txt', dtype=str)\n",
    "\n",
    "        #get the number of columns in the query_df\n",
    "        for i, query_EC in enumerate(query_EC_list):\n",
    "            reaction_similarity = reaction_similarities[i]\n",
    "            \n",
    "            df = pd.DataFrame({'EC': reference_EC_list, 'reaction similarity': reaction_similarity})\n",
    "            df['reaction rank'] = df['reaction similarity'].rank(ascending=False)\n",
    "            if 'text' in baseline:\n",
    "                text_similarity = text_similarities[i]\n",
    "                df['text similarity'] = text_similarity\n",
    "                df['text rank'] = df['text similarity'].rank(ascending=False)\n",
    "                df['overall rank'] = (df['reaction rank'] + df['text rank'])/2\n",
    "            else:\n",
    "                df['overall rank'] = df['reaction rank']\n",
    "                \n",
    "            df.sort_values('overall rank', ascending=True, inplace=True) #need to check if this order is correct\n",
    "            #append df['EC'] to the query_df in the numerical columns\n",
    "\n",
    "            ### use this if similarity is based on euclidean distance rather than dot product ###\n",
    "            #df.sort_values('overall rank', ascending=False, inplace=True)\n",
    "            if baseline == 'Random':\n",
    "                np.random.seed(42)\n",
    "                query_df.iloc[i, num_cols:] = df['EC'].sample(frac=1).values\n",
    "            else:\n",
    "                query_df.iloc[i, num_cols:] = df['EC'].values\n",
    "        \n",
    "        query_df.to_csv('results_summary/{}/{}_reaction_test_results_df.csv'.format(baseline,split), index=False)"
   ]
  }
 ],
 "metadata": {
  "kernelspec": {
   "display_name": "Python 3 (ipykernel)",
   "language": "python",
   "name": "python3"
  },
  "language_info": {
   "codemirror_mode": {
    "name": "ipython",
    "version": 3
   },
   "file_extension": ".py",
   "mimetype": "text/x-python",
   "name": "python",
   "nbconvert_exporter": "python",
   "pygments_lexer": "ipython3",
   "version": "3.8.18"
  }
 },
 "nbformat": 4,
 "nbformat_minor": 4
}
